{
 "cells": [
  {
   "cell_type": "code",
   "execution_count": 5,
   "id": "9229f805",
   "metadata": {},
   "outputs": [],
   "source": [
    "import torch\n",
    "import sys\n",
    "sys.path.append('..')\n",
    "from models.refinedlite.model import RefineDetLite\n",
    "from models.refinedlite.loss import RefineDetLiteLoss\n",
    "\n",
    "# Inicializar modelo\n",
    "model = RefineDetLite(num_classes=4, input_size=320)  # 3 classes + background\n",
    "criterion = RefineDetLiteLoss(num_classes=4)"
   ]
  },
  {
   "cell_type": "code",
   "execution_count": null,
   "id": "a2d49abc",
   "metadata": {},
   "outputs": [],
   "source": []
  },
  {
   "cell_type": "code",
   "execution_count": null,
   "id": "8c39426c",
   "metadata": {},
   "outputs": [],
   "source": [
    "\n",
    "\n",
    "# Dados de exemplo\n",
    "batch_size = 2\n",
    "x = torch.randn(batch_size, 3, 320, 320)\n",
    "\n",
    "# Forward pass\n",
    "cls_preds, reg_preds = model(x)\n",
    "\n",
    "# Treinar\n",
    "optimizer = torch.optim.Adam(model.parameters(), lr=0.001)\n",
    "optimizer.zero_grad()\n",
    "\n",
    "# Simular targets\n",
    "cls_targets = torch.randint(0, 4, (batch_size, cls_preds.size(1)))\n",
    "reg_targets = torch.randn_like(reg_preds)\n",
    "pos_mask = torch.ones_like(cls_targets, dtype=torch.bool)\n",
    "\n",
    "loss = criterion((cls_preds, reg_preds), \n",
    "                (cls_targets, reg_targets, pos_mask))\n",
    "loss.backward()\n",
    "optimizer.step()"
   ]
  },
  {
   "cell_type": "code",
   "execution_count": null,
   "id": "6d442287",
   "metadata": {},
   "outputs": [],
   "source": []
  }
 ],
 "metadata": {
  "kernelspec": {
   "display_name": ".venv",
   "language": "python",
   "name": "python3"
  },
  "language_info": {
   "codemirror_mode": {
    "name": "ipython",
    "version": 3
   },
   "file_extension": ".py",
   "mimetype": "text/x-python",
   "name": "python",
   "nbconvert_exporter": "python",
   "pygments_lexer": "ipython3",
   "version": "3.12.3"
  }
 },
 "nbformat": 4,
 "nbformat_minor": 5
}
