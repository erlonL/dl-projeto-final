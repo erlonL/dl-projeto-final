{
 "cells": [
  {
   "cell_type": "code",
   "execution_count": 2,
   "id": "e770d409",
   "metadata": {},
   "outputs": [
    {
     "name": "stderr",
     "output_type": "stream",
     "text": [
      "2025-04-26  12:03:39 INFO Downloading 4 train images for class 'scissors'\n",
      "100%|██████████| 4/4 [00:00<00:00,  4.37it/s]\n"
     ]
    },
    {
     "data": {
      "text/plain": [
       "{'scissors': './../data/openimages/scissors/images'}"
      ]
     },
     "execution_count": 2,
     "metadata": {},
     "output_type": "execute_result"
    }
   ],
   "source": [
    "from openimages.download import download_images\n",
    "download_images(\"./../data/openimages\", [\"Scissors\"], 'exclusions.txt', limit=4)"
   ]
  },
  {
   "cell_type": "code",
   "execution_count": null,
   "id": "a585436f",
   "metadata": {},
   "outputs": [],
   "source": []
  }
 ],
 "metadata": {
  "kernelspec": {
   "display_name": ".venv",
   "language": "python",
   "name": "python3"
  },
  "language_info": {
   "codemirror_mode": {
    "name": "ipython",
    "version": 3
   },
   "file_extension": ".py",
   "mimetype": "text/x-python",
   "name": "python",
   "nbconvert_exporter": "python",
   "pygments_lexer": "ipython3",
   "version": "3.12.3"
  }
 },
 "nbformat": 4,
 "nbformat_minor": 5
}
