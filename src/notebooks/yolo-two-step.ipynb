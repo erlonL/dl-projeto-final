{
 "cells": [
  {
   "cell_type": "markdown",
   "id": "c2af1ca7",
   "metadata": {},
   "source": [
    "## 1 - Download data"
   ]
  },
  {
   "cell_type": "code",
   "execution_count": 3,
   "id": "c37d9473",
   "metadata": {},
   "outputs": [
    {
     "name": "stderr",
     "output_type": "stream",
     "text": [
      "2025-04-29  08:27:09 INFO Downloading 200 train images for class 'traffic light'\n",
      "100%|██████████| 200/200 [00:07<00:00, 27.42it/s]\n",
      "2025-04-29  08:27:16 INFO Creating 200 train annotations (pascal) for class 'traffic light'\n",
      "100%|██████████| 200/200 [00:00<00:00, 3387.76it/s]\n"
     ]
    },
    {
     "data": {
      "text/plain": [
       "{'traffic light': {'images_dir': './../data/traffic light/images',\n",
       "  'annotations_dir': './../data/traffic light/pascal'}}"
      ]
     },
     "execution_count": 3,
     "metadata": {},
     "output_type": "execute_result"
    }
   ],
   "source": [
    "from openimages.download import download_dataset\n",
    "download_dataset(\"./../data/\", [\"Traffic light\"], 'exclusions.txt', limit=200, annotation_format='pascal')"
   ]
  },
  {
   "cell_type": "markdown",
   "id": "69fbd612",
   "metadata": {},
   "source": [
    "## 2 - Change data folder"
   ]
  },
  {
   "cell_type": "code",
   "execution_count": 4,
   "id": "a7284fe1",
   "metadata": {},
   "outputs": [
    {
     "data": {
      "text/plain": [
       "CompletedProcess(args=['mv', '../data/traffic light', '../data/traffic_light'], returncode=0)"
      ]
     },
     "execution_count": 4,
     "metadata": {},
     "output_type": "execute_result"
    }
   ],
   "source": [
    "import subprocess\n",
    "\n",
    "subprocess.run([\"mv\", \"../data/traffic light\", \"../data/traffic_light\"])"
   ]
  },
  {
   "cell_type": "code",
   "execution_count": 5,
   "id": "352c4934",
   "metadata": {},
   "outputs": [],
   "source": [
    "# Célula 1: Importações e Definições de Funções\n",
    "import os\n",
    "import shutil\n",
    "from sklearn.model_selection import train_test_split\n",
    "import random\n",
    "from pathlib import Path\n",
    "\n",
    "def create_directories(base_path):\n",
    "    \"\"\"Cria as pastas necessárias para treino e validação\"\"\"\n",
    "    dirs = ['images/train', 'images/val', 'labels/train', 'labels/val']\n",
    "    for dir_path in dirs:\n",
    "        os.makedirs(os.path.join(base_path, dir_path), exist_ok=True)\n",
    "\n",
    "def split_dataset(source_dir, output_dir, val_split=0.2, seed=42):\n",
    "    \"\"\"\n",
    "    Separa o dataset em treino e validação\n",
    "    \n",
    "    Args:\n",
    "        source_dir: Diretório com as imagens e labels originais\n",
    "        output_dir: Diretório onde serão criadas as pastas train/val\n",
    "        val_split: Proporção do dataset para validação (padrão: 0.2)\n",
    "        seed: Seed para reproducibilidade\n",
    "    \"\"\"\n",
    "    random.seed(seed)\n",
    "    \n",
    "    source_dir = Path(source_dir)\n",
    "    output_dir = Path(output_dir)\n",
    "    \n",
    "    create_directories(output_dir)\n",
    "    \n",
    "    # Lista todos os arquivos de imagem\n",
    "    image_files = [f for f in (source_dir / 'images').glob('*.jpg')]\n",
    "    \n",
    "    # Divide os arquivos em treino e validação\n",
    "    train_files, val_files = train_test_split(image_files, \n",
    "                                            test_size=val_split,\n",
    "                                            random_state=seed)\n",
    "    \n",
    "    def copy_files(files, split_type):\n",
    "        for f in files:\n",
    "            # Copia imagem\n",
    "            dst_img = output_dir / 'images' / split_type / f.name\n",
    "            shutil.copy2(f, dst_img)\n",
    "            \n",
    "            # Procura e copia label correspondente\n",
    "            label_name = f.stem + '.xml'\n",
    "            src_label = source_dir / 'pascal' / label_name\n",
    "            if src_label.exists():\n",
    "                dst_label = output_dir / 'labels' / split_type / label_name\n",
    "                shutil.copy2(src_label, dst_label)\n",
    "    \n",
    "    # Copia arquivos para as respectivas pastas\n",
    "    copy_files(train_files, 'train')\n",
    "    copy_files(val_files, 'val')\n",
    "    \n",
    "    print(f'Dataset dividido com sucesso!')\n",
    "    print(f'Treino: {len(train_files)} imagens')\n",
    "    print(f'Validação: {len(val_files)} imagens')"
   ]
  },
  {
   "cell_type": "code",
   "execution_count": 6,
   "id": "dd9a6cd0",
   "metadata": {},
   "outputs": [
    {
     "name": "stdout",
     "output_type": "stream",
     "text": [
      "Dataset dividido com sucesso!\n",
      "Treino: 160 imagens\n",
      "Validação: 40 imagens\n"
     ]
    }
   ],
   "source": [
    "# Célula 2: Execução da função\n",
    "source_directory = \"../data/traffic_light\"  # diretório com as imagens originais\n",
    "output_directory = \"../datasets\"               # diretório onde serão criadas as subpastas\n",
    "\n",
    "split_dataset(\n",
    "    source_dir=source_directory,\n",
    "    output_dir=output_directory,\n",
    "    val_split=0.2,\n",
    "    seed=42\n",
    ")"
   ]
  },
  {
   "cell_type": "code",
   "execution_count": 7,
   "id": "f21e5381",
   "metadata": {},
   "outputs": [
    {
     "name": "stdout",
     "output_type": "stream",
     "text": [
      "Split train:\n",
      "  Imagens: 160\n",
      "  Labels: 0\n",
      "  Matched: False\n",
      "\n",
      "Split val:\n",
      "  Imagens: 40\n",
      "  Labels: 0\n",
      "  Matched: False\n",
      "\n"
     ]
    }
   ],
   "source": [
    "# Célula 3: Verificação\n",
    "def verify_splits():\n",
    "    base_dir = Path(\"../datasets\")\n",
    "    \n",
    "    for split in ['train', 'val']:\n",
    "        images = list((base_dir / 'images' / split).glob('*.jpg'))\n",
    "        labels = list((base_dir / 'labels' / split).glob('*.txt'))\n",
    "        \n",
    "        print(f'Split {split}:')\n",
    "        print(f'  Imagens: {len(images)}')\n",
    "        print(f'  Labels: {len(labels)}')\n",
    "        print(f'  Matched: {len(images) == len(labels)}')\n",
    "        print()\n",
    "\n",
    "verify_splits()"
   ]
  },
  {
   "cell_type": "code",
   "execution_count": 8,
   "id": "80531ac4",
   "metadata": {},
   "outputs": [
    {
     "data": {
      "text/plain": [
       "True"
      ]
     },
     "execution_count": 8,
     "metadata": {},
     "output_type": "execute_result"
    }
   ],
   "source": [
    "import os\n",
    "\n",
    "train_image_names = os.listdir('../datasets/images/train')\n",
    "train_image_names = [name.split('.')[0] for name in train_image_names]\n",
    "train_image_names = set(train_image_names)\n",
    "\n",
    "train_label_names = os.listdir('../datasets/labels/train')\n",
    "train_label_names = [name.split('.')[0] for name in train_label_names]\n",
    "train_label_names = set(train_label_names)\n",
    "\n",
    "train_image_names == train_label_names"
   ]
  },
  {
   "cell_type": "code",
   "execution_count": 9,
   "id": "2d9d78a0",
   "metadata": {},
   "outputs": [
    {
     "data": {
      "text/plain": [
       "True"
      ]
     },
     "execution_count": 9,
     "metadata": {},
     "output_type": "execute_result"
    }
   ],
   "source": [
    "val_image_names = os.listdir('../datasets/images/val')\n",
    "val_image_names = [name.split('.')[0] for name in val_image_names]\n",
    "val_image_names = set(val_image_names)\n",
    "\n",
    "val_label_names = os.listdir('../datasets/labels/val')\n",
    "val_label_names = [name.split('.')[0] for name in val_label_names]\n",
    "val_label_names = set(val_label_names)\n",
    "\n",
    "val_image_names == val_label_names"
   ]
  },
  {
   "cell_type": "code",
   "execution_count": 10,
   "id": "a277ed97",
   "metadata": {},
   "outputs": [],
   "source": [
    "import xml.etree.ElementTree as ET\n",
    "import os\n",
    "from pathlib import Path\n",
    "\n",
    "def convert_pascal_to_yolo(xml_path, image_width, image_height):\n",
    "    \"\"\"\n",
    "    Converte as coordenadas de Pascal VOC para formato YOLO\n",
    "\n",
    "    Formato YOLO: <class> <x_center> <y_center> <width> <height>\n",
    "    Onde todas as coordenadas são normalizadas entre 0 e 1\n",
    "    \"\"\"\n",
    "    tree = ET.parse(xml_path)\n",
    "    root = tree.getroot()\n",
    "\n",
    "    yolo_annotations = []\n",
    "\n",
    "    for obj in root.findall('object'):\n",
    "        name = obj.find('name').text\n",
    "        class_id = 0  # assumindo que só temos uma classe (traffic light)\n",
    "\n",
    "        bbox = obj.find('bndbox')\n",
    "        xmin = float(bbox.find('xmin').text)\n",
    "        ymin = float(bbox.find('ymin').text)\n",
    "        xmax = float(bbox.find('xmax').text)\n",
    "        ymax = float(bbox.find('ymax').text)\n",
    "\n",
    "        # Converter para formato YOLO (x_center, y_center, width, height)\n",
    "        x_center = ((xmin + xmax) / 2) / image_width\n",
    "        y_center = ((ymin + ymax) / 2) / image_height\n",
    "        width = (xmax - xmin) / image_width\n",
    "        height = (ymax - ymin) / image_height\n",
    "\n",
    "        yolo_annotations.append(f\"{class_id} {x_center:.6f} {y_center:.6f} {width:.6f} {height:.6f}\")\n",
    "\n",
    "    return yolo_annotations\n",
    "\n",
    "def convert_dataset(base_path, label_dir_name='_labels'):\n",
    "    \"\"\"\n",
    "    Converte todas as anotações do dataset\n",
    "    \"\"\"\n",
    "    splits = ['train', 'val']\n",
    "\n",
    "    for split in splits:\n",
    "        label_dir = Path(base_path) / label_dir_name / split\n",
    "        image_dir = Path(base_path) / 'images' / split\n",
    "\n",
    "        # Criar diretório para as anotações YOLO se não existir\n",
    "        yolo_label_dir = Path(base_path) / 'labels' / split\n",
    "        yolo_label_dir.mkdir(parents=True, exist_ok=True)\n",
    "\n",
    "        xml_files = list(label_dir.glob('*.xml'))\n",
    "\n",
    "        for xml_file in xml_files:\n",
    "            # Obter dimensões da imagem correspondente\n",
    "            img_file = image_dir / f\"{xml_file.stem}.jpg\"\n",
    "            if not img_file.exists():\n",
    "                print(f\"Imagem não encontrada para {xml_file}\")\n",
    "                continue\n",
    "\n",
    "            from PIL import Image\n",
    "            with Image.open(img_file) as img:\n",
    "                img_width, img_height = img.size\n",
    "\n",
    "            # Converter anotações\n",
    "            yolo_annotations = convert_pascal_to_yolo(xml_file, img_width, img_height)\n",
    "\n",
    "            # Salvar anotações no formato YOLO\n",
    "            yolo_file = yolo_label_dir / f\"{xml_file.stem}.txt\"\n",
    "            with open(yolo_file, 'w') as f:\n",
    "                f.write('\\n'.join(yolo_annotations))\n",
    "\n",
    "        print(f\"Convertidas {len(xml_files)} anotações para o split {split}\")"
   ]
  },
  {
   "cell_type": "code",
   "execution_count": 11,
   "id": "98486b69",
   "metadata": {},
   "outputs": [
    {
     "data": {
      "text/plain": [
       "CompletedProcess(args=['mv', '../datasets/labels', '../datasets/_labels'], returncode=0)"
      ]
     },
     "execution_count": 11,
     "metadata": {},
     "output_type": "execute_result"
    }
   ],
   "source": [
    "import subprocess\n",
    "\n",
    "subprocess.run([\"mv\", \"../datasets/labels\", \"../datasets/_labels\"])"
   ]
  },
  {
   "cell_type": "code",
   "execution_count": 12,
   "id": "f64be8ed",
   "metadata": {},
   "outputs": [
    {
     "name": "stdout",
     "output_type": "stream",
     "text": [
      "Convertidas 160 anotações para o split train\n",
      "Convertidas 40 anotações para o split val\n"
     ]
    }
   ],
   "source": [
    "\n",
    "# Executar a conversão\n",
    "convert_dataset('./../datasets', '_labels')"
   ]
  },
  {
   "cell_type": "markdown",
   "id": "17007ae6",
   "metadata": {},
   "source": [
    "## Two Step Yolo"
   ]
  },
  {
   "cell_type": "code",
   "execution_count": 13,
   "id": "97f8558e",
   "metadata": {},
   "outputs": [],
   "source": [
    "# Install YOLOv8 (Ultralytics)\n",
    "!pip install ultralytics\n",
    "\n",
    "# For CNN\n",
    "import torch\n",
    "import torchvision\n",
    "import torchvision.transforms as transforms\n",
    "import torch.nn as nn\n",
    "import torch.optim as optim\n",
    "\n",
    "# Other tools\n",
    "import os\n",
    "import numpy as np\n",
    "from PIL import Image\n",
    "import matplotlib.pyplot as plt\n",
    "\n",
    "# For loading the YOLO model\n",
    "from ultralytics import YOLO\n",
    "from IPython.display import clear_output\n",
    "clear_output()"
   ]
  },
  {
   "cell_type": "code",
   "execution_count": 15,
   "id": "15f82517",
   "metadata": {},
   "outputs": [
    {
     "name": "stdout",
     "output_type": "stream",
     "text": [
      "New https://pypi.org/project/ultralytics/8.3.120 available 😃 Update with 'pip install -U ultralytics'\n",
      "Ultralytics 8.3.119 🚀 Python-3.12.3 torch-2.7.0+cu126 CPU (12th Gen Intel Core(TM) i5-1235U)\n",
      "\u001b[34m\u001b[1mengine/trainer: \u001b[0mtask=detect, mode=train, model=yolov8n.pt, data=dataset.yaml, epochs=50, time=None, patience=100, batch=16, imgsz=320, save=True, save_period=-1, cache=False, device=None, workers=8, project=None, name=traffic_light_detector15, exist_ok=False, pretrained=True, optimizer=auto, verbose=True, seed=0, deterministic=True, single_cls=False, rect=False, cos_lr=False, close_mosaic=10, resume=False, amp=True, fraction=1.0, profile=False, freeze=None, multi_scale=False, overlap_mask=True, mask_ratio=4, dropout=0.0, val=True, split=val, save_json=False, conf=None, iou=0.7, max_det=300, half=False, dnn=False, plots=True, source=None, vid_stride=1, stream_buffer=False, visualize=False, augment=False, agnostic_nms=False, classes=None, retina_masks=False, embed=None, show=False, save_frames=False, save_txt=False, save_conf=False, save_crop=False, show_labels=True, show_conf=True, show_boxes=True, line_width=None, format=torchscript, keras=False, optimize=False, int8=False, dynamic=False, simplify=True, opset=None, workspace=None, nms=False, lr0=0.01, lrf=0.01, momentum=0.937, weight_decay=0.0005, warmup_epochs=3.0, warmup_momentum=0.8, warmup_bias_lr=0.1, box=7.5, cls=0.5, dfl=1.5, pose=12.0, kobj=1.0, nbs=64, hsv_h=0.015, hsv_s=0.7, hsv_v=0.4, degrees=0.0, translate=0.1, scale=0.5, shear=0.0, perspective=0.0, flipud=0.0, fliplr=0.5, bgr=0.0, mosaic=1.0, mixup=0.0, cutmix=0.0, copy_paste=0.0, copy_paste_mode=flip, auto_augment=randaugment, erasing=0.4, cfg=None, tracker=botsort.yaml, save_dir=/home/erlo/Documents/Code/dl-projeto-final/runs/detect/traffic_light_detector15\n",
      "Overriding model.yaml nc=80 with nc=1\n",
      "\n",
      "                   from  n    params  module                                       arguments                     \n",
      "  0                  -1  1       464  ultralytics.nn.modules.conv.Conv             [3, 16, 3, 2]                 \n",
      "  1                  -1  1      4672  ultralytics.nn.modules.conv.Conv             [16, 32, 3, 2]                \n",
      "  2                  -1  1      7360  ultralytics.nn.modules.block.C2f             [32, 32, 1, True]             \n",
      "  3                  -1  1     18560  ultralytics.nn.modules.conv.Conv             [32, 64, 3, 2]                \n",
      "  4                  -1  2     49664  ultralytics.nn.modules.block.C2f             [64, 64, 2, True]             \n",
      "  5                  -1  1     73984  ultralytics.nn.modules.conv.Conv             [64, 128, 3, 2]               \n",
      "  6                  -1  2    197632  ultralytics.nn.modules.block.C2f             [128, 128, 2, True]           \n",
      "  7                  -1  1    295424  ultralytics.nn.modules.conv.Conv             [128, 256, 3, 2]              \n",
      "  8                  -1  1    460288  ultralytics.nn.modules.block.C2f             [256, 256, 1, True]           \n",
      "  9                  -1  1    164608  ultralytics.nn.modules.block.SPPF            [256, 256, 5]                 \n",
      " 10                  -1  1         0  torch.nn.modules.upsampling.Upsample         [None, 2, 'nearest']          \n",
      " 11             [-1, 6]  1         0  ultralytics.nn.modules.conv.Concat           [1]                           \n",
      " 12                  -1  1    148224  ultralytics.nn.modules.block.C2f             [384, 128, 1]                 \n",
      " 13                  -1  1         0  torch.nn.modules.upsampling.Upsample         [None, 2, 'nearest']          \n",
      " 14             [-1, 4]  1         0  ultralytics.nn.modules.conv.Concat           [1]                           \n",
      " 15                  -1  1     37248  ultralytics.nn.modules.block.C2f             [192, 64, 1]                  \n",
      " 16                  -1  1     36992  ultralytics.nn.modules.conv.Conv             [64, 64, 3, 2]                \n",
      " 17            [-1, 12]  1         0  ultralytics.nn.modules.conv.Concat           [1]                           \n",
      " 18                  -1  1    123648  ultralytics.nn.modules.block.C2f             [192, 128, 1]                 \n",
      " 19                  -1  1    147712  ultralytics.nn.modules.conv.Conv             [128, 128, 3, 2]              \n",
      " 20             [-1, 9]  1         0  ultralytics.nn.modules.conv.Concat           [1]                           \n",
      " 21                  -1  1    493056  ultralytics.nn.modules.block.C2f             [384, 256, 1]                 \n",
      " 22        [15, 18, 21]  1    751507  ultralytics.nn.modules.head.Detect           [1, [64, 128, 256]]           \n",
      "Model summary: 129 layers, 3,011,043 parameters, 3,011,027 gradients, 8.2 GFLOPs\n",
      "\n",
      "Transferred 319/355 items from pretrained weights\n",
      "Freezing layer 'model.22.dfl.conv.weight'\n",
      "\u001b[34m\u001b[1mtrain: \u001b[0mFast image access ✅ (ping: 0.0±0.0 ms, read: 1720.8±579.8 MB/s, size: 275.2 KB)\n"
     ]
    },
    {
     "name": "stderr",
     "output_type": "stream",
     "text": [
      "\u001b[34m\u001b[1mtrain: \u001b[0mScanning /home/erlo/Documents/Code/dl-projeto-final/src/datasets/labels/train... 160 images, 0 backgrounds, 0 corrupt: 100%|██████████| 160/160 [00:00<00:00, 1140.44it/s]"
     ]
    },
    {
     "name": "stdout",
     "output_type": "stream",
     "text": [
      "\u001b[34m\u001b[1mtrain: \u001b[0mNew cache created: /home/erlo/Documents/Code/dl-projeto-final/src/datasets/labels/train.cache\n",
      "\u001b[34m\u001b[1mval: \u001b[0mFast image access ✅ (ping: 0.0±0.0 ms, read: 1002.1±233.6 MB/s, size: 434.7 KB)\n"
     ]
    },
    {
     "name": "stderr",
     "output_type": "stream",
     "text": [
      "\n",
      "\u001b[34m\u001b[1mval: \u001b[0mScanning /home/erlo/Documents/Code/dl-projeto-final/src/datasets/labels/val... 40 images, 0 backgrounds, 0 corrupt: 100%|██████████| 40/40 [00:00<00:00, 532.48it/s]"
     ]
    },
    {
     "name": "stdout",
     "output_type": "stream",
     "text": [
      "\u001b[34m\u001b[1mval: \u001b[0mNew cache created: /home/erlo/Documents/Code/dl-projeto-final/src/datasets/labels/val.cache\n"
     ]
    },
    {
     "name": "stderr",
     "output_type": "stream",
     "text": [
      "\n"
     ]
    },
    {
     "name": "stdout",
     "output_type": "stream",
     "text": [
      "Plotting labels to /home/erlo/Documents/Code/dl-projeto-final/runs/detect/traffic_light_detector15/labels.jpg... \n",
      "\u001b[34m\u001b[1moptimizer:\u001b[0m 'optimizer=auto' found, ignoring 'lr0=0.01' and 'momentum=0.937' and determining best 'optimizer', 'lr0' and 'momentum' automatically... \n",
      "\u001b[34m\u001b[1moptimizer:\u001b[0m AdamW(lr=0.002, momentum=0.9) with parameter groups 57 weight(decay=0.0), 64 weight(decay=0.0005), 63 bias(decay=0.0)\n",
      "Image sizes 320 train, 320 val\n",
      "Using 0 dataloader workers\n",
      "Logging results to \u001b[1m/home/erlo/Documents/Code/dl-projeto-final/runs/detect/traffic_light_detector15\u001b[0m\n",
      "Starting training for 50 epochs...\n",
      "\n",
      "      Epoch    GPU_mem   box_loss   cls_loss   dfl_loss  Instances       Size\n"
     ]
    },
    {
     "name": "stderr",
     "output_type": "stream",
     "text": [
      "       1/50         0G      1.504      3.483      1.143         92        320: 100%|██████████| 10/10 [00:14<00:00,  1.49s/it]\n",
      "                 Class     Images  Instances      Box(P          R      mAP50  mAP50-95): 100%|██████████| 2/2 [00:01<00:00,  1.28it/s]"
     ]
    },
    {
     "name": "stdout",
     "output_type": "stream",
     "text": [
      "                   all         40        132    0.00521      0.356     0.0199     0.0103\n"
     ]
    },
    {
     "name": "stderr",
     "output_type": "stream",
     "text": [
      "\n"
     ]
    },
    {
     "name": "stdout",
     "output_type": "stream",
     "text": [
      "\n",
      "      Epoch    GPU_mem   box_loss   cls_loss   dfl_loss  Instances       Size\n"
     ]
    },
    {
     "name": "stderr",
     "output_type": "stream",
     "text": [
      "       2/50         0G      1.681      2.425      1.063         73        320: 100%|██████████| 10/10 [00:13<00:00,  1.38s/it]\n",
      "                 Class     Images  Instances      Box(P          R      mAP50  mAP50-95): 100%|██████████| 2/2 [00:01<00:00,  1.46it/s]"
     ]
    },
    {
     "name": "stdout",
     "output_type": "stream",
     "text": [
      "                   all         40        132    0.00585      0.485     0.0278     0.0105\n"
     ]
    },
    {
     "name": "stderr",
     "output_type": "stream",
     "text": [
      "\n"
     ]
    },
    {
     "name": "stdout",
     "output_type": "stream",
     "text": [
      "\n",
      "      Epoch    GPU_mem   box_loss   cls_loss   dfl_loss  Instances       Size\n"
     ]
    },
    {
     "name": "stderr",
     "output_type": "stream",
     "text": [
      "       3/50         0G      1.564      1.885      1.042         81        320: 100%|██████████| 10/10 [00:12<00:00,  1.27s/it]\n",
      "                 Class     Images  Instances      Box(P          R      mAP50  mAP50-95): 100%|██████████| 2/2 [00:01<00:00,  1.49it/s]"
     ]
    },
    {
     "name": "stdout",
     "output_type": "stream",
     "text": [
      "                   all         40        132    0.00604      0.515     0.0169    0.00695\n"
     ]
    },
    {
     "name": "stderr",
     "output_type": "stream",
     "text": [
      "\n"
     ]
    },
    {
     "name": "stdout",
     "output_type": "stream",
     "text": [
      "\n",
      "      Epoch    GPU_mem   box_loss   cls_loss   dfl_loss  Instances       Size\n"
     ]
    },
    {
     "name": "stderr",
     "output_type": "stream",
     "text": [
      "       4/50         0G      1.609      1.866      1.062         77        320: 100%|██████████| 10/10 [00:12<00:00,  1.26s/it]\n",
      "                 Class     Images  Instances      Box(P          R      mAP50  mAP50-95): 100%|██████████| 2/2 [00:01<00:00,  1.48it/s]"
     ]
    },
    {
     "name": "stdout",
     "output_type": "stream",
     "text": [
      "                   all         40        132    0.00548      0.455     0.0119    0.00531\n"
     ]
    },
    {
     "name": "stderr",
     "output_type": "stream",
     "text": [
      "\n"
     ]
    },
    {
     "name": "stdout",
     "output_type": "stream",
     "text": [
      "\n",
      "      Epoch    GPU_mem   box_loss   cls_loss   dfl_loss  Instances       Size\n"
     ]
    },
    {
     "name": "stderr",
     "output_type": "stream",
     "text": [
      "       5/50         0G      1.619      1.783      1.063         58        320: 100%|██████████| 10/10 [00:12<00:00,  1.27s/it]\n",
      "                 Class     Images  Instances      Box(P          R      mAP50  mAP50-95): 100%|██████████| 2/2 [00:01<00:00,  1.49it/s]"
     ]
    },
    {
     "name": "stdout",
     "output_type": "stream",
     "text": [
      "                   all         40        132    0.00664      0.447    0.00771     0.0032\n"
     ]
    },
    {
     "name": "stderr",
     "output_type": "stream",
     "text": [
      "\n"
     ]
    },
    {
     "name": "stdout",
     "output_type": "stream",
     "text": [
      "\n",
      "      Epoch    GPU_mem   box_loss   cls_loss   dfl_loss  Instances       Size\n"
     ]
    },
    {
     "name": "stderr",
     "output_type": "stream",
     "text": [
      "       6/50         0G      1.802      1.823      1.149         79        320: 100%|██████████| 10/10 [00:12<00:00,  1.28s/it]\n",
      "                 Class     Images  Instances      Box(P          R      mAP50  mAP50-95): 100%|██████████| 2/2 [00:01<00:00,  1.50it/s]"
     ]
    },
    {
     "name": "stdout",
     "output_type": "stream",
     "text": [
      "                   all         40        132      0.524    0.00758     0.0411     0.0175\n",
      "\n",
      "      Epoch    GPU_mem   box_loss   cls_loss   dfl_loss  Instances       Size\n"
     ]
    },
    {
     "name": "stderr",
     "output_type": "stream",
     "text": [
      "\n",
      "       7/50         0G      1.775      1.786      1.071         95        320: 100%|██████████| 10/10 [00:12<00:00,  1.26s/it]\n",
      "                 Class     Images  Instances      Box(P          R      mAP50  mAP50-95): 100%|██████████| 2/2 [00:01<00:00,  1.42it/s]"
     ]
    },
    {
     "name": "stdout",
     "output_type": "stream",
     "text": [
      "                   all         40        132      0.764     0.0248     0.0873     0.0342\n",
      "\n",
      "      Epoch    GPU_mem   box_loss   cls_loss   dfl_loss  Instances       Size\n"
     ]
    },
    {
     "name": "stderr",
     "output_type": "stream",
     "text": [
      "\n",
      "       8/50         0G      1.704      1.761      1.073         62        320: 100%|██████████| 10/10 [00:12<00:00,  1.25s/it]\n",
      "                 Class     Images  Instances      Box(P          R      mAP50  mAP50-95): 100%|██████████| 2/2 [00:01<00:00,  1.49it/s]"
     ]
    },
    {
     "name": "stdout",
     "output_type": "stream",
     "text": [
      "                   all         40        132      0.468     0.0606      0.101     0.0444\n"
     ]
    },
    {
     "name": "stderr",
     "output_type": "stream",
     "text": [
      "\n"
     ]
    },
    {
     "name": "stdout",
     "output_type": "stream",
     "text": [
      "\n",
      "      Epoch    GPU_mem   box_loss   cls_loss   dfl_loss  Instances       Size\n"
     ]
    },
    {
     "name": "stderr",
     "output_type": "stream",
     "text": [
      "       9/50         0G      1.648      1.633      1.093         96        320: 100%|██████████| 10/10 [00:13<00:00,  1.31s/it]\n",
      "                 Class     Images  Instances      Box(P          R      mAP50  mAP50-95): 100%|██████████| 2/2 [00:01<00:00,  1.47it/s]"
     ]
    },
    {
     "name": "stdout",
     "output_type": "stream",
     "text": [
      "                   all         40        132      0.268     0.0909     0.0713     0.0383\n",
      "\n",
      "      Epoch    GPU_mem   box_loss   cls_loss   dfl_loss  Instances       Size\n"
     ]
    },
    {
     "name": "stderr",
     "output_type": "stream",
     "text": [
      "\n",
      "      10/50         0G      1.632      1.572      1.078         95        320: 100%|██████████| 10/10 [00:15<00:00,  1.53s/it]\n",
      "                 Class     Images  Instances      Box(P          R      mAP50  mAP50-95): 100%|██████████| 2/2 [00:01<00:00,  1.36it/s]"
     ]
    },
    {
     "name": "stdout",
     "output_type": "stream",
     "text": [
      "                   all         40        132      0.236      0.121     0.0807     0.0355\n"
     ]
    },
    {
     "name": "stderr",
     "output_type": "stream",
     "text": [
      "\n"
     ]
    },
    {
     "name": "stdout",
     "output_type": "stream",
     "text": [
      "\n",
      "      Epoch    GPU_mem   box_loss   cls_loss   dfl_loss  Instances       Size\n"
     ]
    },
    {
     "name": "stderr",
     "output_type": "stream",
     "text": [
      "      11/50         0G      1.687      1.543      1.081        111        320: 100%|██████████| 10/10 [00:13<00:00,  1.36s/it]\n",
      "                 Class     Images  Instances      Box(P          R      mAP50  mAP50-95): 100%|██████████| 2/2 [00:01<00:00,  1.39it/s]"
     ]
    },
    {
     "name": "stdout",
     "output_type": "stream",
     "text": [
      "                   all         40        132      0.216      0.189      0.103     0.0436\n"
     ]
    },
    {
     "name": "stderr",
     "output_type": "stream",
     "text": [
      "\n"
     ]
    },
    {
     "name": "stdout",
     "output_type": "stream",
     "text": [
      "\n",
      "      Epoch    GPU_mem   box_loss   cls_loss   dfl_loss  Instances       Size\n"
     ]
    },
    {
     "name": "stderr",
     "output_type": "stream",
     "text": [
      "      12/50         0G      1.745      1.545      1.049         93        320: 100%|██████████| 10/10 [00:13<00:00,  1.40s/it]\n",
      "                 Class     Images  Instances      Box(P          R      mAP50  mAP50-95): 100%|██████████| 2/2 [00:01<00:00,  1.41it/s]"
     ]
    },
    {
     "name": "stdout",
     "output_type": "stream",
     "text": [
      "                   all         40        132      0.246      0.159     0.0803     0.0343\n"
     ]
    },
    {
     "name": "stderr",
     "output_type": "stream",
     "text": [
      "\n"
     ]
    },
    {
     "name": "stdout",
     "output_type": "stream",
     "text": [
      "\n",
      "      Epoch    GPU_mem   box_loss   cls_loss   dfl_loss  Instances       Size\n"
     ]
    },
    {
     "name": "stderr",
     "output_type": "stream",
     "text": [
      "      13/50         0G      1.685      1.592      1.063         77        320: 100%|██████████| 10/10 [00:13<00:00,  1.38s/it]\n",
      "                 Class     Images  Instances      Box(P          R      mAP50  mAP50-95): 100%|██████████| 2/2 [00:01<00:00,  1.38it/s]"
     ]
    },
    {
     "name": "stdout",
     "output_type": "stream",
     "text": [
      "                   all         40        132      0.176      0.167     0.0674     0.0279\n"
     ]
    },
    {
     "name": "stderr",
     "output_type": "stream",
     "text": [
      "\n"
     ]
    },
    {
     "name": "stdout",
     "output_type": "stream",
     "text": [
      "\n",
      "      Epoch    GPU_mem   box_loss   cls_loss   dfl_loss  Instances       Size\n"
     ]
    },
    {
     "name": "stderr",
     "output_type": "stream",
     "text": [
      "      14/50         0G      1.658      1.534      1.097         72        320: 100%|██████████| 10/10 [00:14<00:00,  1.47s/it]\n",
      "                 Class     Images  Instances      Box(P          R      mAP50  mAP50-95): 100%|██████████| 2/2 [00:01<00:00,  1.29it/s]"
     ]
    },
    {
     "name": "stdout",
     "output_type": "stream",
     "text": [
      "                   all         40        132      0.258      0.273      0.198     0.0956\n"
     ]
    },
    {
     "name": "stderr",
     "output_type": "stream",
     "text": [
      "\n"
     ]
    },
    {
     "name": "stdout",
     "output_type": "stream",
     "text": [
      "\n",
      "      Epoch    GPU_mem   box_loss   cls_loss   dfl_loss  Instances       Size\n"
     ]
    },
    {
     "name": "stderr",
     "output_type": "stream",
     "text": [
      "      15/50         0G      1.743      1.578      1.064         96        320: 100%|██████████| 10/10 [00:16<00:00,  1.62s/it]\n",
      "                 Class     Images  Instances      Box(P          R      mAP50  mAP50-95): 100%|██████████| 2/2 [00:01<00:00,  1.42it/s]"
     ]
    },
    {
     "name": "stdout",
     "output_type": "stream",
     "text": [
      "                   all         40        132      0.316      0.235      0.187     0.0778\n",
      "\n",
      "      Epoch    GPU_mem   box_loss   cls_loss   dfl_loss  Instances       Size\n"
     ]
    },
    {
     "name": "stderr",
     "output_type": "stream",
     "text": [
      "\n",
      "      16/50         0G      1.676        1.5       1.07         92        320: 100%|██████████| 10/10 [00:13<00:00,  1.36s/it]\n",
      "                 Class     Images  Instances      Box(P          R      mAP50  mAP50-95): 100%|██████████| 2/2 [00:01<00:00,  1.51it/s]"
     ]
    },
    {
     "name": "stdout",
     "output_type": "stream",
     "text": [
      "                   all         40        132      0.227      0.205      0.154     0.0772\n",
      "\n",
      "      Epoch    GPU_mem   box_loss   cls_loss   dfl_loss  Instances       Size\n"
     ]
    },
    {
     "name": "stderr",
     "output_type": "stream",
     "text": [
      "\n",
      "      17/50         0G      1.558      1.407      1.062         61        320: 100%|██████████| 10/10 [00:12<00:00,  1.23s/it]\n",
      "                 Class     Images  Instances      Box(P          R      mAP50  mAP50-95): 100%|██████████| 2/2 [00:01<00:00,  1.41it/s]"
     ]
    },
    {
     "name": "stdout",
     "output_type": "stream",
     "text": [
      "                   all         40        132      0.336       0.25      0.195     0.0917\n",
      "\n",
      "      Epoch    GPU_mem   box_loss   cls_loss   dfl_loss  Instances       Size\n"
     ]
    },
    {
     "name": "stderr",
     "output_type": "stream",
     "text": [
      "\n",
      "      18/50         0G      1.628      1.431      1.098         65        320: 100%|██████████| 10/10 [00:14<00:00,  1.43s/it]\n",
      "                 Class     Images  Instances      Box(P          R      mAP50  mAP50-95): 100%|██████████| 2/2 [00:01<00:00,  1.27it/s]"
     ]
    },
    {
     "name": "stdout",
     "output_type": "stream",
     "text": [
      "                   all         40        132      0.458       0.22      0.217     0.0908\n"
     ]
    },
    {
     "name": "stderr",
     "output_type": "stream",
     "text": [
      "\n"
     ]
    },
    {
     "name": "stdout",
     "output_type": "stream",
     "text": [
      "\n",
      "      Epoch    GPU_mem   box_loss   cls_loss   dfl_loss  Instances       Size\n"
     ]
    },
    {
     "name": "stderr",
     "output_type": "stream",
     "text": [
      "      19/50         0G      1.587       1.38      1.033         93        320: 100%|██████████| 10/10 [00:16<00:00,  1.63s/it]\n",
      "                 Class     Images  Instances      Box(P          R      mAP50  mAP50-95): 100%|██████████| 2/2 [00:01<00:00,  1.36it/s]"
     ]
    },
    {
     "name": "stdout",
     "output_type": "stream",
     "text": [
      "                   all         40        132      0.436      0.235      0.244     0.0892\n"
     ]
    },
    {
     "name": "stderr",
     "output_type": "stream",
     "text": [
      "\n"
     ]
    },
    {
     "name": "stdout",
     "output_type": "stream",
     "text": [
      "\n",
      "      Epoch    GPU_mem   box_loss   cls_loss   dfl_loss  Instances       Size\n"
     ]
    },
    {
     "name": "stderr",
     "output_type": "stream",
     "text": [
      "      20/50         0G      1.557      1.366      1.042         97        320: 100%|██████████| 10/10 [00:17<00:00,  1.77s/it]\n",
      "                 Class     Images  Instances      Box(P          R      mAP50  mAP50-95): 100%|██████████| 2/2 [00:01<00:00,  1.22it/s]"
     ]
    },
    {
     "name": "stdout",
     "output_type": "stream",
     "text": [
      "                   all         40        132      0.398      0.295      0.248      0.103\n"
     ]
    },
    {
     "name": "stderr",
     "output_type": "stream",
     "text": [
      "\n"
     ]
    },
    {
     "name": "stdout",
     "output_type": "stream",
     "text": [
      "\n",
      "      Epoch    GPU_mem   box_loss   cls_loss   dfl_loss  Instances       Size\n"
     ]
    },
    {
     "name": "stderr",
     "output_type": "stream",
     "text": [
      "      21/50         0G       1.56      1.281     0.9895         81        320: 100%|██████████| 10/10 [00:16<00:00,  1.60s/it]\n",
      "                 Class     Images  Instances      Box(P          R      mAP50  mAP50-95): 100%|██████████| 2/2 [00:01<00:00,  1.25it/s]"
     ]
    },
    {
     "name": "stdout",
     "output_type": "stream",
     "text": [
      "                   all         40        132      0.352      0.303      0.242       0.11\n"
     ]
    },
    {
     "name": "stderr",
     "output_type": "stream",
     "text": [
      "\n"
     ]
    },
    {
     "name": "stdout",
     "output_type": "stream",
     "text": [
      "\n",
      "      Epoch    GPU_mem   box_loss   cls_loss   dfl_loss  Instances       Size\n"
     ]
    },
    {
     "name": "stderr",
     "output_type": "stream",
     "text": [
      "      22/50         0G      1.584      1.329     0.9981         75        320: 100%|██████████| 10/10 [00:16<00:00,  1.61s/it]\n",
      "                 Class     Images  Instances      Box(P          R      mAP50  mAP50-95): 100%|██████████| 2/2 [00:01<00:00,  1.35it/s]"
     ]
    },
    {
     "name": "stdout",
     "output_type": "stream",
     "text": [
      "                   all         40        132      0.405      0.263      0.245      0.106\n"
     ]
    },
    {
     "name": "stderr",
     "output_type": "stream",
     "text": [
      "\n"
     ]
    },
    {
     "name": "stdout",
     "output_type": "stream",
     "text": [
      "\n",
      "      Epoch    GPU_mem   box_loss   cls_loss   dfl_loss  Instances       Size\n"
     ]
    },
    {
     "name": "stderr",
     "output_type": "stream",
     "text": [
      "      23/50         0G      1.448      1.202      1.017         80        320: 100%|██████████| 10/10 [00:14<00:00,  1.40s/it]\n",
      "                 Class     Images  Instances      Box(P          R      mAP50  mAP50-95): 100%|██████████| 2/2 [00:01<00:00,  1.52it/s]"
     ]
    },
    {
     "name": "stdout",
     "output_type": "stream",
     "text": [
      "                   all         40        132      0.395      0.288      0.256      0.103\n"
     ]
    },
    {
     "name": "stderr",
     "output_type": "stream",
     "text": [
      "\n"
     ]
    },
    {
     "name": "stdout",
     "output_type": "stream",
     "text": [
      "\n",
      "      Epoch    GPU_mem   box_loss   cls_loss   dfl_loss  Instances       Size\n"
     ]
    },
    {
     "name": "stderr",
     "output_type": "stream",
     "text": [
      "      24/50         0G      1.528      1.241     0.9934         77        320: 100%|██████████| 10/10 [00:14<00:00,  1.45s/it]\n",
      "                 Class     Images  Instances      Box(P          R      mAP50  mAP50-95): 100%|██████████| 2/2 [00:01<00:00,  1.13it/s]"
     ]
    },
    {
     "name": "stdout",
     "output_type": "stream",
     "text": [
      "                   all         40        132      0.431      0.288      0.243        0.1\n"
     ]
    },
    {
     "name": "stderr",
     "output_type": "stream",
     "text": [
      "\n"
     ]
    },
    {
     "name": "stdout",
     "output_type": "stream",
     "text": [
      "\n",
      "      Epoch    GPU_mem   box_loss   cls_loss   dfl_loss  Instances       Size\n"
     ]
    },
    {
     "name": "stderr",
     "output_type": "stream",
     "text": [
      "      25/50         0G      1.454      1.144          1         53        320: 100%|██████████| 10/10 [00:17<00:00,  1.74s/it]\n",
      "                 Class     Images  Instances      Box(P          R      mAP50  mAP50-95): 100%|██████████| 2/2 [00:02<00:00,  1.11s/it]"
     ]
    },
    {
     "name": "stdout",
     "output_type": "stream",
     "text": [
      "                   all         40        132       0.41      0.258      0.229        0.1\n"
     ]
    },
    {
     "name": "stderr",
     "output_type": "stream",
     "text": [
      "\n"
     ]
    },
    {
     "name": "stdout",
     "output_type": "stream",
     "text": [
      "\n",
      "      Epoch    GPU_mem   box_loss   cls_loss   dfl_loss  Instances       Size\n"
     ]
    },
    {
     "name": "stderr",
     "output_type": "stream",
     "text": [
      "      26/50         0G      1.515      1.199       1.02         72        320: 100%|██████████| 10/10 [00:16<00:00,  1.62s/it]\n",
      "                 Class     Images  Instances      Box(P          R      mAP50  mAP50-95): 100%|██████████| 2/2 [00:01<00:00,  1.31it/s]"
     ]
    },
    {
     "name": "stdout",
     "output_type": "stream",
     "text": [
      "                   all         40        132      0.342      0.273       0.23     0.0952\n"
     ]
    },
    {
     "name": "stderr",
     "output_type": "stream",
     "text": [
      "\n"
     ]
    },
    {
     "name": "stdout",
     "output_type": "stream",
     "text": [
      "\n",
      "      Epoch    GPU_mem   box_loss   cls_loss   dfl_loss  Instances       Size\n"
     ]
    },
    {
     "name": "stderr",
     "output_type": "stream",
     "text": [
      "      27/50         0G      1.444      1.235     0.9877         80        320: 100%|██████████| 10/10 [00:16<00:00,  1.69s/it]\n",
      "                 Class     Images  Instances      Box(P          R      mAP50  mAP50-95): 100%|██████████| 2/2 [00:02<00:00,  1.17s/it]"
     ]
    },
    {
     "name": "stdout",
     "output_type": "stream",
     "text": [
      "                   all         40        132      0.325       0.25      0.207     0.0898\n"
     ]
    },
    {
     "name": "stderr",
     "output_type": "stream",
     "text": [
      "\n"
     ]
    },
    {
     "name": "stdout",
     "output_type": "stream",
     "text": [
      "\n",
      "      Epoch    GPU_mem   box_loss   cls_loss   dfl_loss  Instances       Size\n"
     ]
    },
    {
     "name": "stderr",
     "output_type": "stream",
     "text": [
      "      28/50         0G      1.462      1.162      1.011         82        320: 100%|██████████| 10/10 [00:16<00:00,  1.61s/it]\n",
      "                 Class     Images  Instances      Box(P          R      mAP50  mAP50-95): 100%|██████████| 2/2 [00:02<00:00,  1.26s/it]"
     ]
    },
    {
     "name": "stdout",
     "output_type": "stream",
     "text": [
      "                   all         40        132      0.463      0.295      0.275       0.12\n"
     ]
    },
    {
     "name": "stderr",
     "output_type": "stream",
     "text": [
      "\n"
     ]
    },
    {
     "name": "stdout",
     "output_type": "stream",
     "text": [
      "\n",
      "      Epoch    GPU_mem   box_loss   cls_loss   dfl_loss  Instances       Size\n"
     ]
    },
    {
     "name": "stderr",
     "output_type": "stream",
     "text": [
      "      29/50         0G      1.451      1.165     0.9977         89        320: 100%|██████████| 10/10 [00:16<00:00,  1.65s/it]\n",
      "                 Class     Images  Instances      Box(P          R      mAP50  mAP50-95): 100%|██████████| 2/2 [00:01<00:00,  1.33it/s]"
     ]
    },
    {
     "name": "stdout",
     "output_type": "stream",
     "text": [
      "                   all         40        132      0.353      0.343      0.264      0.126\n"
     ]
    },
    {
     "name": "stderr",
     "output_type": "stream",
     "text": [
      "\n"
     ]
    },
    {
     "name": "stdout",
     "output_type": "stream",
     "text": [
      "\n",
      "      Epoch    GPU_mem   box_loss   cls_loss   dfl_loss  Instances       Size\n"
     ]
    },
    {
     "name": "stderr",
     "output_type": "stream",
     "text": [
      "      30/50         0G      1.517       1.17     0.9641        104        320: 100%|██████████| 10/10 [00:14<00:00,  1.48s/it]\n",
      "                 Class     Images  Instances      Box(P          R      mAP50  mAP50-95): 100%|██████████| 2/2 [00:01<00:00,  1.37it/s]"
     ]
    },
    {
     "name": "stdout",
     "output_type": "stream",
     "text": [
      "                   all         40        132      0.402      0.318      0.281      0.132\n"
     ]
    },
    {
     "name": "stderr",
     "output_type": "stream",
     "text": [
      "\n"
     ]
    },
    {
     "name": "stdout",
     "output_type": "stream",
     "text": [
      "\n",
      "      Epoch    GPU_mem   box_loss   cls_loss   dfl_loss  Instances       Size\n"
     ]
    },
    {
     "name": "stderr",
     "output_type": "stream",
     "text": [
      "      31/50         0G      1.472      1.194     0.9809         95        320: 100%|██████████| 10/10 [00:16<00:00,  1.70s/it]\n",
      "                 Class     Images  Instances      Box(P          R      mAP50  mAP50-95): 100%|██████████| 2/2 [00:01<00:00,  1.11it/s]"
     ]
    },
    {
     "name": "stdout",
     "output_type": "stream",
     "text": [
      "                   all         40        132       0.45      0.364      0.288      0.133\n"
     ]
    },
    {
     "name": "stderr",
     "output_type": "stream",
     "text": [
      "\n"
     ]
    },
    {
     "name": "stdout",
     "output_type": "stream",
     "text": [
      "\n",
      "      Epoch    GPU_mem   box_loss   cls_loss   dfl_loss  Instances       Size\n"
     ]
    },
    {
     "name": "stderr",
     "output_type": "stream",
     "text": [
      "      32/50         0G      1.373      1.089     0.9851        102        320: 100%|██████████| 10/10 [00:16<00:00,  1.68s/it]\n",
      "                 Class     Images  Instances      Box(P          R      mAP50  mAP50-95): 100%|██████████| 2/2 [00:01<00:00,  1.18it/s]"
     ]
    },
    {
     "name": "stdout",
     "output_type": "stream",
     "text": [
      "                   all         40        132      0.456      0.303      0.296      0.115\n"
     ]
    },
    {
     "name": "stderr",
     "output_type": "stream",
     "text": [
      "\n"
     ]
    },
    {
     "name": "stdout",
     "output_type": "stream",
     "text": [
      "\n",
      "      Epoch    GPU_mem   box_loss   cls_loss   dfl_loss  Instances       Size\n"
     ]
    },
    {
     "name": "stderr",
     "output_type": "stream",
     "text": [
      "      33/50         0G      1.366      1.025     0.9397         92        320: 100%|██████████| 10/10 [00:17<00:00,  1.71s/it]\n",
      "                 Class     Images  Instances      Box(P          R      mAP50  mAP50-95): 100%|██████████| 2/2 [00:01<00:00,  1.16it/s]"
     ]
    },
    {
     "name": "stdout",
     "output_type": "stream",
     "text": [
      "                   all         40        132      0.492      0.279      0.278      0.116\n"
     ]
    },
    {
     "name": "stderr",
     "output_type": "stream",
     "text": [
      "\n"
     ]
    },
    {
     "name": "stdout",
     "output_type": "stream",
     "text": [
      "\n",
      "      Epoch    GPU_mem   box_loss   cls_loss   dfl_loss  Instances       Size\n"
     ]
    },
    {
     "name": "stderr",
     "output_type": "stream",
     "text": [
      "      34/50         0G      1.413      1.096     0.9541         99        320: 100%|██████████| 10/10 [00:18<00:00,  1.81s/it]\n",
      "                 Class     Images  Instances      Box(P          R      mAP50  mAP50-95): 100%|██████████| 2/2 [00:01<00:00,  1.25it/s]"
     ]
    },
    {
     "name": "stdout",
     "output_type": "stream",
     "text": [
      "                   all         40        132      0.426      0.341      0.309      0.152\n"
     ]
    },
    {
     "name": "stderr",
     "output_type": "stream",
     "text": [
      "\n"
     ]
    },
    {
     "name": "stdout",
     "output_type": "stream",
     "text": [
      "\n",
      "      Epoch    GPU_mem   box_loss   cls_loss   dfl_loss  Instances       Size\n"
     ]
    },
    {
     "name": "stderr",
     "output_type": "stream",
     "text": [
      "      35/50         0G      1.339      1.031     0.9233         90        320: 100%|██████████| 10/10 [00:16<00:00,  1.60s/it]\n",
      "                 Class     Images  Instances      Box(P          R      mAP50  mAP50-95): 100%|██████████| 2/2 [00:01<00:00,  1.12it/s]"
     ]
    },
    {
     "name": "stdout",
     "output_type": "stream",
     "text": [
      "                   all         40        132      0.503      0.322      0.327      0.151\n"
     ]
    },
    {
     "name": "stderr",
     "output_type": "stream",
     "text": [
      "\n"
     ]
    },
    {
     "name": "stdout",
     "output_type": "stream",
     "text": [
      "\n",
      "      Epoch    GPU_mem   box_loss   cls_loss   dfl_loss  Instances       Size\n"
     ]
    },
    {
     "name": "stderr",
     "output_type": "stream",
     "text": [
      "      36/50         0G      1.432      1.091     0.9723         77        320: 100%|██████████| 10/10 [00:17<00:00,  1.76s/it]\n",
      "                 Class     Images  Instances      Box(P          R      mAP50  mAP50-95): 100%|██████████| 2/2 [00:01<00:00,  1.17it/s]"
     ]
    },
    {
     "name": "stdout",
     "output_type": "stream",
     "text": [
      "                   all         40        132      0.547      0.295      0.298      0.142\n"
     ]
    },
    {
     "name": "stderr",
     "output_type": "stream",
     "text": [
      "\n"
     ]
    },
    {
     "name": "stdout",
     "output_type": "stream",
     "text": [
      "\n",
      "      Epoch    GPU_mem   box_loss   cls_loss   dfl_loss  Instances       Size\n"
     ]
    },
    {
     "name": "stderr",
     "output_type": "stream",
     "text": [
      "      37/50         0G      1.398      1.039     0.9324        105        320: 100%|██████████| 10/10 [00:14<00:00,  1.46s/it]\n",
      "                 Class     Images  Instances      Box(P          R      mAP50  mAP50-95): 100%|██████████| 2/2 [00:01<00:00,  1.33it/s]"
     ]
    },
    {
     "name": "stdout",
     "output_type": "stream",
     "text": [
      "                   all         40        132      0.397      0.318      0.299      0.135\n"
     ]
    },
    {
     "name": "stderr",
     "output_type": "stream",
     "text": [
      "\n"
     ]
    },
    {
     "name": "stdout",
     "output_type": "stream",
     "text": [
      "\n",
      "      Epoch    GPU_mem   box_loss   cls_loss   dfl_loss  Instances       Size\n"
     ]
    },
    {
     "name": "stderr",
     "output_type": "stream",
     "text": [
      "      38/50         0G      1.338     0.9829     0.9622         68        320: 100%|██████████| 10/10 [00:14<00:00,  1.49s/it]\n",
      "                 Class     Images  Instances      Box(P          R      mAP50  mAP50-95): 100%|██████████| 2/2 [00:01<00:00,  1.39it/s]"
     ]
    },
    {
     "name": "stdout",
     "output_type": "stream",
     "text": [
      "                   all         40        132      0.474      0.318       0.31      0.134\n"
     ]
    },
    {
     "name": "stderr",
     "output_type": "stream",
     "text": [
      "\n"
     ]
    },
    {
     "name": "stdout",
     "output_type": "stream",
     "text": [
      "\n",
      "      Epoch    GPU_mem   box_loss   cls_loss   dfl_loss  Instances       Size\n"
     ]
    },
    {
     "name": "stderr",
     "output_type": "stream",
     "text": [
      "      39/50         0G      1.283     0.9422      0.943         90        320: 100%|██████████| 10/10 [00:14<00:00,  1.44s/it]\n",
      "                 Class     Images  Instances      Box(P          R      mAP50  mAP50-95): 100%|██████████| 2/2 [00:01<00:00,  1.38it/s]"
     ]
    },
    {
     "name": "stdout",
     "output_type": "stream",
     "text": [
      "                   all         40        132      0.477      0.348      0.315      0.135\n"
     ]
    },
    {
     "name": "stderr",
     "output_type": "stream",
     "text": [
      "\n"
     ]
    },
    {
     "name": "stdout",
     "output_type": "stream",
     "text": [
      "\n",
      "      Epoch    GPU_mem   box_loss   cls_loss   dfl_loss  Instances       Size\n"
     ]
    },
    {
     "name": "stderr",
     "output_type": "stream",
     "text": [
      "      40/50         0G      1.287     0.9834     0.9404         88        320: 100%|██████████| 10/10 [00:14<00:00,  1.48s/it]\n",
      "                 Class     Images  Instances      Box(P          R      mAP50  mAP50-95): 100%|██████████| 2/2 [00:01<00:00,  1.34it/s]"
     ]
    },
    {
     "name": "stdout",
     "output_type": "stream",
     "text": [
      "                   all         40        132      0.487      0.356      0.292      0.126\n"
     ]
    },
    {
     "name": "stderr",
     "output_type": "stream",
     "text": [
      "\n"
     ]
    },
    {
     "name": "stdout",
     "output_type": "stream",
     "text": [
      "Closing dataloader mosaic\n",
      "\n",
      "      Epoch    GPU_mem   box_loss   cls_loss   dfl_loss  Instances       Size\n"
     ]
    },
    {
     "name": "stderr",
     "output_type": "stream",
     "text": [
      "      41/50         0G      1.292      1.102     0.9214         38        320: 100%|██████████| 10/10 [00:14<00:00,  1.46s/it]\n",
      "                 Class     Images  Instances      Box(P          R      mAP50  mAP50-95): 100%|██████████| 2/2 [00:01<00:00,  1.39it/s]"
     ]
    },
    {
     "name": "stdout",
     "output_type": "stream",
     "text": [
      "                   all         40        132      0.418      0.326       0.29      0.128\n"
     ]
    },
    {
     "name": "stderr",
     "output_type": "stream",
     "text": [
      "\n"
     ]
    },
    {
     "name": "stdout",
     "output_type": "stream",
     "text": [
      "\n",
      "      Epoch    GPU_mem   box_loss   cls_loss   dfl_loss  Instances       Size\n"
     ]
    },
    {
     "name": "stderr",
     "output_type": "stream",
     "text": [
      "      42/50         0G      1.228       0.96     0.9192         57        320: 100%|██████████| 10/10 [00:14<00:00,  1.47s/it]\n",
      "                 Class     Images  Instances      Box(P          R      mAP50  mAP50-95): 100%|██████████| 2/2 [00:01<00:00,  1.22it/s]"
     ]
    },
    {
     "name": "stdout",
     "output_type": "stream",
     "text": [
      "                   all         40        132      0.409      0.311      0.285      0.122\n",
      "\n",
      "      Epoch    GPU_mem   box_loss   cls_loss   dfl_loss  Instances       Size\n"
     ]
    },
    {
     "name": "stderr",
     "output_type": "stream",
     "text": [
      "\n",
      "      43/50         0G      1.246     0.9819     0.9118         53        320: 100%|██████████| 10/10 [00:14<00:00,  1.47s/it]\n",
      "                 Class     Images  Instances      Box(P          R      mAP50  mAP50-95): 100%|██████████| 2/2 [00:01<00:00,  1.30it/s]"
     ]
    },
    {
     "name": "stdout",
     "output_type": "stream",
     "text": [
      "                   all         40        132      0.501      0.265      0.287      0.128\n",
      "\n",
      "      Epoch    GPU_mem   box_loss   cls_loss   dfl_loss  Instances       Size\n"
     ]
    },
    {
     "name": "stderr",
     "output_type": "stream",
     "text": [
      "\n",
      "      44/50         0G      1.274      0.985     0.9177         50        320: 100%|██████████| 10/10 [00:14<00:00,  1.48s/it]\n",
      "                 Class     Images  Instances      Box(P          R      mAP50  mAP50-95): 100%|██████████| 2/2 [00:01<00:00,  1.30it/s]"
     ]
    },
    {
     "name": "stdout",
     "output_type": "stream",
     "text": [
      "                   all         40        132      0.527      0.288      0.303      0.132\n"
     ]
    },
    {
     "name": "stderr",
     "output_type": "stream",
     "text": [
      "\n"
     ]
    },
    {
     "name": "stdout",
     "output_type": "stream",
     "text": [
      "\n",
      "      Epoch    GPU_mem   box_loss   cls_loss   dfl_loss  Instances       Size\n"
     ]
    },
    {
     "name": "stderr",
     "output_type": "stream",
     "text": [
      "      45/50         0G      1.292     0.9185     0.9266         34        320: 100%|██████████| 10/10 [00:14<00:00,  1.44s/it]\n",
      "                 Class     Images  Instances      Box(P          R      mAP50  mAP50-95): 100%|██████████| 2/2 [00:01<00:00,  1.35it/s]"
     ]
    },
    {
     "name": "stdout",
     "output_type": "stream",
     "text": [
      "                   all         40        132      0.439      0.338      0.312      0.133\n",
      "\n",
      "      Epoch    GPU_mem   box_loss   cls_loss   dfl_loss  Instances       Size\n"
     ]
    },
    {
     "name": "stderr",
     "output_type": "stream",
     "text": [
      "\n",
      "      46/50         0G      1.221     0.9042     0.9218         43        320: 100%|██████████| 10/10 [00:14<00:00,  1.44s/it]\n",
      "                 Class     Images  Instances      Box(P          R      mAP50  mAP50-95): 100%|██████████| 2/2 [00:01<00:00,  1.36it/s]"
     ]
    },
    {
     "name": "stdout",
     "output_type": "stream",
     "text": [
      "                   all         40        132      0.453      0.364      0.326      0.138\n",
      "\n",
      "      Epoch    GPU_mem   box_loss   cls_loss   dfl_loss  Instances       Size\n"
     ]
    },
    {
     "name": "stderr",
     "output_type": "stream",
     "text": [
      "\n",
      "      47/50         0G      1.209     0.9036     0.8987         40        320: 100%|██████████| 10/10 [00:14<00:00,  1.43s/it]\n",
      "                 Class     Images  Instances      Box(P          R      mAP50  mAP50-95): 100%|██████████| 2/2 [00:01<00:00,  1.30it/s]"
     ]
    },
    {
     "name": "stdout",
     "output_type": "stream",
     "text": [
      "                   all         40        132      0.446      0.371       0.33      0.138\n"
     ]
    },
    {
     "name": "stderr",
     "output_type": "stream",
     "text": [
      "\n"
     ]
    },
    {
     "name": "stdout",
     "output_type": "stream",
     "text": [
      "\n",
      "      Epoch    GPU_mem   box_loss   cls_loss   dfl_loss  Instances       Size\n"
     ]
    },
    {
     "name": "stderr",
     "output_type": "stream",
     "text": [
      "      48/50         0G      1.224     0.8804     0.9132         45        320: 100%|██████████| 10/10 [00:20<00:00,  2.01s/it]\n",
      "                 Class     Images  Instances      Box(P          R      mAP50  mAP50-95): 100%|██████████| 2/2 [00:02<00:00,  1.15s/it]"
     ]
    },
    {
     "name": "stdout",
     "output_type": "stream",
     "text": [
      "                   all         40        132      0.459      0.379      0.321      0.135\n"
     ]
    },
    {
     "name": "stderr",
     "output_type": "stream",
     "text": [
      "\n"
     ]
    },
    {
     "name": "stdout",
     "output_type": "stream",
     "text": [
      "\n",
      "      Epoch    GPU_mem   box_loss   cls_loss   dfl_loss  Instances       Size\n"
     ]
    },
    {
     "name": "stderr",
     "output_type": "stream",
     "text": [
      "      49/50         0G      1.215     0.8669     0.8787         67        320: 100%|██████████| 10/10 [00:18<00:00,  1.83s/it]\n",
      "                 Class     Images  Instances      Box(P          R      mAP50  mAP50-95): 100%|██████████| 2/2 [00:01<00:00,  1.09it/s]"
     ]
    },
    {
     "name": "stdout",
     "output_type": "stream",
     "text": [
      "                   all         40        132      0.456      0.371      0.319      0.134\n"
     ]
    },
    {
     "name": "stderr",
     "output_type": "stream",
     "text": [
      "\n"
     ]
    },
    {
     "name": "stdout",
     "output_type": "stream",
     "text": [
      "\n",
      "      Epoch    GPU_mem   box_loss   cls_loss   dfl_loss  Instances       Size\n"
     ]
    },
    {
     "name": "stderr",
     "output_type": "stream",
     "text": [
      "      50/50         0G      1.151     0.8536     0.8888         47        320: 100%|██████████| 10/10 [00:14<00:00,  1.50s/it]\n",
      "                 Class     Images  Instances      Box(P          R      mAP50  mAP50-95): 100%|██████████| 2/2 [00:01<00:00,  1.42it/s]"
     ]
    },
    {
     "name": "stdout",
     "output_type": "stream",
     "text": [
      "                   all         40        132      0.437      0.356      0.322      0.136\n"
     ]
    },
    {
     "name": "stderr",
     "output_type": "stream",
     "text": [
      "\n"
     ]
    },
    {
     "name": "stdout",
     "output_type": "stream",
     "text": [
      "\n",
      "50 epochs completed in 0.235 hours.\n",
      "Optimizer stripped from /home/erlo/Documents/Code/dl-projeto-final/runs/detect/traffic_light_detector15/weights/last.pt, 6.2MB\n",
      "Optimizer stripped from /home/erlo/Documents/Code/dl-projeto-final/runs/detect/traffic_light_detector15/weights/best.pt, 6.2MB\n",
      "\n",
      "Validating /home/erlo/Documents/Code/dl-projeto-final/runs/detect/traffic_light_detector15/weights/best.pt...\n",
      "Ultralytics 8.3.119 🚀 Python-3.12.3 torch-2.7.0+cu126 CPU (12th Gen Intel Core(TM) i5-1235U)\n",
      "Model summary (fused): 72 layers, 3,005,843 parameters, 0 gradients, 8.1 GFLOPs\n"
     ]
    },
    {
     "name": "stderr",
     "output_type": "stream",
     "text": [
      "                 Class     Images  Instances      Box(P          R      mAP50  mAP50-95): 100%|██████████| 2/2 [00:01<00:00,  1.30it/s]\n"
     ]
    },
    {
     "name": "stdout",
     "output_type": "stream",
     "text": [
      "                   all         40        132      0.502      0.321      0.327      0.151\n",
      "Speed: 0.5ms preprocess, 21.3ms inference, 0.0ms loss, 0.9ms postprocess per image\n",
      "Results saved to \u001b[1m/home/erlo/Documents/Code/dl-projeto-final/runs/detect/traffic_light_detector15\u001b[0m\n"
     ]
    },
    {
     "data": {
      "text/plain": [
       "ultralytics.utils.metrics.DetMetrics object with attributes:\n",
       "\n",
       "ap_class_index: array([0])\n",
       "box: ultralytics.utils.metrics.Metric object\n",
       "confusion_matrix: <ultralytics.utils.metrics.ConfusionMatrix object at 0x76c36808cb60>\n",
       "curves: ['Precision-Recall(B)', 'F1-Confidence(B)', 'Precision-Confidence(B)', 'Recall-Confidence(B)']\n",
       "curves_results: [[array([          0,    0.001001,    0.002002,    0.003003,    0.004004,    0.005005,    0.006006,    0.007007,    0.008008,    0.009009,     0.01001,    0.011011,    0.012012,    0.013013,    0.014014,    0.015015,    0.016016,    0.017017,    0.018018,    0.019019,     0.02002,    0.021021,    0.022022,    0.023023,\n",
       "          0.024024,    0.025025,    0.026026,    0.027027,    0.028028,    0.029029,     0.03003,    0.031031,    0.032032,    0.033033,    0.034034,    0.035035,    0.036036,    0.037037,    0.038038,    0.039039,     0.04004,    0.041041,    0.042042,    0.043043,    0.044044,    0.045045,    0.046046,    0.047047,\n",
       "          0.048048,    0.049049,     0.05005,    0.051051,    0.052052,    0.053053,    0.054054,    0.055055,    0.056056,    0.057057,    0.058058,    0.059059,     0.06006,    0.061061,    0.062062,    0.063063,    0.064064,    0.065065,    0.066066,    0.067067,    0.068068,    0.069069,     0.07007,    0.071071,\n",
       "          0.072072,    0.073073,    0.074074,    0.075075,    0.076076,    0.077077,    0.078078,    0.079079,     0.08008,    0.081081,    0.082082,    0.083083,    0.084084,    0.085085,    0.086086,    0.087087,    0.088088,    0.089089,     0.09009,    0.091091,    0.092092,    0.093093,    0.094094,    0.095095,\n",
       "          0.096096,    0.097097,    0.098098,    0.099099,      0.1001,      0.1011,      0.1021,      0.1031,      0.1041,     0.10511,     0.10611,     0.10711,     0.10811,     0.10911,     0.11011,     0.11111,     0.11211,     0.11311,     0.11411,     0.11512,     0.11612,     0.11712,     0.11812,     0.11912,\n",
       "           0.12012,     0.12112,     0.12212,     0.12312,     0.12412,     0.12513,     0.12613,     0.12713,     0.12813,     0.12913,     0.13013,     0.13113,     0.13213,     0.13313,     0.13413,     0.13514,     0.13614,     0.13714,     0.13814,     0.13914,     0.14014,     0.14114,     0.14214,     0.14314,\n",
       "           0.14414,     0.14515,     0.14615,     0.14715,     0.14815,     0.14915,     0.15015,     0.15115,     0.15215,     0.15315,     0.15415,     0.15516,     0.15616,     0.15716,     0.15816,     0.15916,     0.16016,     0.16116,     0.16216,     0.16316,     0.16416,     0.16517,     0.16617,     0.16717,\n",
       "           0.16817,     0.16917,     0.17017,     0.17117,     0.17217,     0.17317,     0.17417,     0.17518,     0.17618,     0.17718,     0.17818,     0.17918,     0.18018,     0.18118,     0.18218,     0.18318,     0.18418,     0.18519,     0.18619,     0.18719,     0.18819,     0.18919,     0.19019,     0.19119,\n",
       "           0.19219,     0.19319,     0.19419,      0.1952,      0.1962,      0.1972,      0.1982,      0.1992,      0.2002,      0.2012,      0.2022,      0.2032,      0.2042,     0.20521,     0.20621,     0.20721,     0.20821,     0.20921,     0.21021,     0.21121,     0.21221,     0.21321,     0.21421,     0.21522,\n",
       "           0.21622,     0.21722,     0.21822,     0.21922,     0.22022,     0.22122,     0.22222,     0.22322,     0.22422,     0.22523,     0.22623,     0.22723,     0.22823,     0.22923,     0.23023,     0.23123,     0.23223,     0.23323,     0.23423,     0.23524,     0.23624,     0.23724,     0.23824,     0.23924,\n",
       "           0.24024,     0.24124,     0.24224,     0.24324,     0.24424,     0.24525,     0.24625,     0.24725,     0.24825,     0.24925,     0.25025,     0.25125,     0.25225,     0.25325,     0.25425,     0.25526,     0.25626,     0.25726,     0.25826,     0.25926,     0.26026,     0.26126,     0.26226,     0.26326,\n",
       "           0.26426,     0.26527,     0.26627,     0.26727,     0.26827,     0.26927,     0.27027,     0.27127,     0.27227,     0.27327,     0.27427,     0.27528,     0.27628,     0.27728,     0.27828,     0.27928,     0.28028,     0.28128,     0.28228,     0.28328,     0.28428,     0.28529,     0.28629,     0.28729,\n",
       "           0.28829,     0.28929,     0.29029,     0.29129,     0.29229,     0.29329,     0.29429,      0.2953,      0.2963,      0.2973,      0.2983,      0.2993,      0.3003,      0.3013,      0.3023,      0.3033,      0.3043,     0.30531,     0.30631,     0.30731,     0.30831,     0.30931,     0.31031,     0.31131,\n",
       "           0.31231,     0.31331,     0.31431,     0.31532,     0.31632,     0.31732,     0.31832,     0.31932,     0.32032,     0.32132,     0.32232,     0.32332,     0.32432,     0.32533,     0.32633,     0.32733,     0.32833,     0.32933,     0.33033,     0.33133,     0.33233,     0.33333,     0.33433,     0.33534,\n",
       "           0.33634,     0.33734,     0.33834,     0.33934,     0.34034,     0.34134,     0.34234,     0.34334,     0.34434,     0.34535,     0.34635,     0.34735,     0.34835,     0.34935,     0.35035,     0.35135,     0.35235,     0.35335,     0.35435,     0.35536,     0.35636,     0.35736,     0.35836,     0.35936,\n",
       "           0.36036,     0.36136,     0.36236,     0.36336,     0.36436,     0.36537,     0.36637,     0.36737,     0.36837,     0.36937,     0.37037,     0.37137,     0.37237,     0.37337,     0.37437,     0.37538,     0.37638,     0.37738,     0.37838,     0.37938,     0.38038,     0.38138,     0.38238,     0.38338,\n",
       "           0.38438,     0.38539,     0.38639,     0.38739,     0.38839,     0.38939,     0.39039,     0.39139,     0.39239,     0.39339,     0.39439,      0.3954,      0.3964,      0.3974,      0.3984,      0.3994,      0.4004,      0.4014,      0.4024,      0.4034,      0.4044,     0.40541,     0.40641,     0.40741,\n",
       "           0.40841,     0.40941,     0.41041,     0.41141,     0.41241,     0.41341,     0.41441,     0.41542,     0.41642,     0.41742,     0.41842,     0.41942,     0.42042,     0.42142,     0.42242,     0.42342,     0.42442,     0.42543,     0.42643,     0.42743,     0.42843,     0.42943,     0.43043,     0.43143,\n",
       "           0.43243,     0.43343,     0.43443,     0.43544,     0.43644,     0.43744,     0.43844,     0.43944,     0.44044,     0.44144,     0.44244,     0.44344,     0.44444,     0.44545,     0.44645,     0.44745,     0.44845,     0.44945,     0.45045,     0.45145,     0.45245,     0.45345,     0.45445,     0.45546,\n",
       "           0.45646,     0.45746,     0.45846,     0.45946,     0.46046,     0.46146,     0.46246,     0.46346,     0.46446,     0.46547,     0.46647,     0.46747,     0.46847,     0.46947,     0.47047,     0.47147,     0.47247,     0.47347,     0.47447,     0.47548,     0.47648,     0.47748,     0.47848,     0.47948,\n",
       "           0.48048,     0.48148,     0.48248,     0.48348,     0.48448,     0.48549,     0.48649,     0.48749,     0.48849,     0.48949,     0.49049,     0.49149,     0.49249,     0.49349,     0.49449,      0.4955,      0.4965,      0.4975,      0.4985,      0.4995,      0.5005,      0.5015,      0.5025,      0.5035,\n",
       "            0.5045,     0.50551,     0.50651,     0.50751,     0.50851,     0.50951,     0.51051,     0.51151,     0.51251,     0.51351,     0.51451,     0.51552,     0.51652,     0.51752,     0.51852,     0.51952,     0.52052,     0.52152,     0.52252,     0.52352,     0.52452,     0.52553,     0.52653,     0.52753,\n",
       "           0.52853,     0.52953,     0.53053,     0.53153,     0.53253,     0.53353,     0.53453,     0.53554,     0.53654,     0.53754,     0.53854,     0.53954,     0.54054,     0.54154,     0.54254,     0.54354,     0.54454,     0.54555,     0.54655,     0.54755,     0.54855,     0.54955,     0.55055,     0.55155,\n",
       "           0.55255,     0.55355,     0.55455,     0.55556,     0.55656,     0.55756,     0.55856,     0.55956,     0.56056,     0.56156,     0.56256,     0.56356,     0.56456,     0.56557,     0.56657,     0.56757,     0.56857,     0.56957,     0.57057,     0.57157,     0.57257,     0.57357,     0.57457,     0.57558,\n",
       "           0.57658,     0.57758,     0.57858,     0.57958,     0.58058,     0.58158,     0.58258,     0.58358,     0.58458,     0.58559,     0.58659,     0.58759,     0.58859,     0.58959,     0.59059,     0.59159,     0.59259,     0.59359,     0.59459,      0.5956,      0.5966,      0.5976,      0.5986,      0.5996,\n",
       "            0.6006,      0.6016,      0.6026,      0.6036,      0.6046,     0.60561,     0.60661,     0.60761,     0.60861,     0.60961,     0.61061,     0.61161,     0.61261,     0.61361,     0.61461,     0.61562,     0.61662,     0.61762,     0.61862,     0.61962,     0.62062,     0.62162,     0.62262,     0.62362,\n",
       "           0.62462,     0.62563,     0.62663,     0.62763,     0.62863,     0.62963,     0.63063,     0.63163,     0.63263,     0.63363,     0.63463,     0.63564,     0.63664,     0.63764,     0.63864,     0.63964,     0.64064,     0.64164,     0.64264,     0.64364,     0.64464,     0.64565,     0.64665,     0.64765,\n",
       "           0.64865,     0.64965,     0.65065,     0.65165,     0.65265,     0.65365,     0.65465,     0.65566,     0.65666,     0.65766,     0.65866,     0.65966,     0.66066,     0.66166,     0.66266,     0.66366,     0.66466,     0.66567,     0.66667,     0.66767,     0.66867,     0.66967,     0.67067,     0.67167,\n",
       "           0.67267,     0.67367,     0.67467,     0.67568,     0.67668,     0.67768,     0.67868,     0.67968,     0.68068,     0.68168,     0.68268,     0.68368,     0.68468,     0.68569,     0.68669,     0.68769,     0.68869,     0.68969,     0.69069,     0.69169,     0.69269,     0.69369,     0.69469,      0.6957,\n",
       "            0.6967,      0.6977,      0.6987,      0.6997,      0.7007,      0.7017,      0.7027,      0.7037,      0.7047,     0.70571,     0.70671,     0.70771,     0.70871,     0.70971,     0.71071,     0.71171,     0.71271,     0.71371,     0.71471,     0.71572,     0.71672,     0.71772,     0.71872,     0.71972,\n",
       "           0.72072,     0.72172,     0.72272,     0.72372,     0.72472,     0.72573,     0.72673,     0.72773,     0.72873,     0.72973,     0.73073,     0.73173,     0.73273,     0.73373,     0.73473,     0.73574,     0.73674,     0.73774,     0.73874,     0.73974,     0.74074,     0.74174,     0.74274,     0.74374,\n",
       "           0.74474,     0.74575,     0.74675,     0.74775,     0.74875,     0.74975,     0.75075,     0.75175,     0.75275,     0.75375,     0.75475,     0.75576,     0.75676,     0.75776,     0.75876,     0.75976,     0.76076,     0.76176,     0.76276,     0.76376,     0.76476,     0.76577,     0.76677,     0.76777,\n",
       "           0.76877,     0.76977,     0.77077,     0.77177,     0.77277,     0.77377,     0.77477,     0.77578,     0.77678,     0.77778,     0.77878,     0.77978,     0.78078,     0.78178,     0.78278,     0.78378,     0.78478,     0.78579,     0.78679,     0.78779,     0.78879,     0.78979,     0.79079,     0.79179,\n",
       "           0.79279,     0.79379,     0.79479,      0.7958,      0.7968,      0.7978,      0.7988,      0.7998,      0.8008,      0.8018,      0.8028,      0.8038,      0.8048,     0.80581,     0.80681,     0.80781,     0.80881,     0.80981,     0.81081,     0.81181,     0.81281,     0.81381,     0.81481,     0.81582,\n",
       "           0.81682,     0.81782,     0.81882,     0.81982,     0.82082,     0.82182,     0.82282,     0.82382,     0.82482,     0.82583,     0.82683,     0.82783,     0.82883,     0.82983,     0.83083,     0.83183,     0.83283,     0.83383,     0.83483,     0.83584,     0.83684,     0.83784,     0.83884,     0.83984,\n",
       "           0.84084,     0.84184,     0.84284,     0.84384,     0.84484,     0.84585,     0.84685,     0.84785,     0.84885,     0.84985,     0.85085,     0.85185,     0.85285,     0.85385,     0.85485,     0.85586,     0.85686,     0.85786,     0.85886,     0.85986,     0.86086,     0.86186,     0.86286,     0.86386,\n",
       "           0.86486,     0.86587,     0.86687,     0.86787,     0.86887,     0.86987,     0.87087,     0.87187,     0.87287,     0.87387,     0.87487,     0.87588,     0.87688,     0.87788,     0.87888,     0.87988,     0.88088,     0.88188,     0.88288,     0.88388,     0.88488,     0.88589,     0.88689,     0.88789,\n",
       "           0.88889,     0.88989,     0.89089,     0.89189,     0.89289,     0.89389,     0.89489,      0.8959,      0.8969,      0.8979,      0.8989,      0.8999,      0.9009,      0.9019,      0.9029,      0.9039,      0.9049,     0.90591,     0.90691,     0.90791,     0.90891,     0.90991,     0.91091,     0.91191,\n",
       "           0.91291,     0.91391,     0.91491,     0.91592,     0.91692,     0.91792,     0.91892,     0.91992,     0.92092,     0.92192,     0.92292,     0.92392,     0.92492,     0.92593,     0.92693,     0.92793,     0.92893,     0.92993,     0.93093,     0.93193,     0.93293,     0.93393,     0.93493,     0.93594,\n",
       "           0.93694,     0.93794,     0.93894,     0.93994,     0.94094,     0.94194,     0.94294,     0.94394,     0.94494,     0.94595,     0.94695,     0.94795,     0.94895,     0.94995,     0.95095,     0.95195,     0.95295,     0.95395,     0.95495,     0.95596,     0.95696,     0.95796,     0.95896,     0.95996,\n",
       "           0.96096,     0.96196,     0.96296,     0.96396,     0.96496,     0.96597,     0.96697,     0.96797,     0.96897,     0.96997,     0.97097,     0.97197,     0.97297,     0.97397,     0.97497,     0.97598,     0.97698,     0.97798,     0.97898,     0.97998,     0.98098,     0.98198,     0.98298,     0.98398,\n",
       "           0.98498,     0.98599,     0.98699,     0.98799,     0.98899,     0.98999,     0.99099,     0.99199,     0.99299,     0.99399,     0.99499,       0.996,       0.997,       0.998,       0.999,           1]), array([[          1,           1,           1,           1,           1,           1,           1,           1,           1,           1,           1,           1,           1,           1,           1,           1,           1,           1,           1,           1,           1,           1,           1,\n",
       "            0.94118,     0.94118,     0.94118,     0.94118,     0.94118,     0.94118,     0.94118,     0.94118,     0.94118,     0.94118,     0.94118,     0.94118,     0.94118,     0.94118,     0.94118,     0.94118,     0.94118,     0.94118,     0.94118,     0.94118,     0.94118,     0.94118,     0.94118,\n",
       "            0.94118,     0.94118,     0.94118,     0.94118,     0.94118,     0.94118,     0.94118,     0.94118,     0.94118,     0.94118,     0.94118,     0.94118,     0.94118,     0.94118,     0.94118,     0.94118,     0.94118,     0.94118,     0.94118,     0.94118,     0.94118,     0.94118,     0.94118,\n",
       "            0.94118,     0.94118,     0.94118,     0.94118,     0.94118,     0.94118,     0.94118,     0.94118,     0.94118,     0.94118,     0.94118,     0.94118,     0.94118,     0.94118,     0.94118,     0.94118,     0.94118,     0.94118,     0.94118,     0.94118,     0.94118,     0.94118,     0.94118,\n",
       "            0.94118,     0.94118,     0.94118,     0.94118,     0.94118,     0.94118,     0.94118,     0.94118,     0.94118,     0.94118,     0.94118,     0.94118,     0.94118,     0.94118,     0.94118,     0.94118,     0.94118,     0.94118,     0.94118,     0.94118,     0.94118,     0.94118,     0.94118,\n",
       "            0.94118,     0.94118,     0.94118,     0.94118,     0.94118,     0.94118,     0.94118,        0.85,        0.85,        0.85,        0.85,        0.85,        0.85,        0.85,         0.8,         0.8,         0.8,         0.8,         0.8,         0.8,         0.8,         0.8,         0.8,\n",
       "                0.8,         0.8,         0.8,         0.8,         0.8,         0.8,         0.8,         0.8,         0.8,         0.8,         0.8,         0.8,         0.8,         0.8,     0.78571,     0.78571,     0.78571,     0.78571,     0.78571,     0.78571,     0.78571,     0.78571,     0.78571,\n",
       "            0.78571,     0.78571,     0.78571,     0.78571,     0.78571,     0.78571,     0.76667,     0.76667,     0.76667,     0.76667,     0.76667,     0.76667,     0.76667,     0.76667,        0.75,        0.75,        0.75,        0.75,        0.75,        0.75,        0.75,     0.69444,     0.69444,\n",
       "            0.69444,     0.69444,     0.69444,     0.69444,     0.69444,     0.69444,     0.68085,     0.68085,     0.68085,     0.68085,     0.68085,     0.68085,     0.68085,     0.68085,     0.68085,     0.68085,     0.68085,     0.68085,     0.68085,     0.68085,     0.68085,     0.68085,     0.68085,\n",
       "            0.68085,     0.68085,     0.68085,     0.68085,     0.68085,     0.68085,     0.68085,     0.68085,     0.68085,     0.68085,     0.68085,     0.68085,     0.68085,     0.68085,     0.68085,     0.68085,     0.68085,     0.68085,     0.68085,     0.68085,     0.68085,     0.68085,     0.68085,\n",
       "            0.68085,     0.68085,     0.68085,     0.68085,     0.68085,     0.68085,     0.68085,     0.68085,     0.68085,     0.68085,     0.68085,     0.68085,     0.68085,     0.64151,     0.64151,     0.64151,     0.64151,     0.64151,     0.64151,     0.64151,     0.64151,     0.64151,     0.64151,\n",
       "            0.64151,     0.64151,     0.64151,     0.64151,     0.64151,     0.63636,     0.63636,     0.63636,     0.63636,     0.63636,     0.63636,     0.63636,     0.60317,     0.60317,     0.60317,     0.60317,     0.60317,     0.60317,     0.60317,     0.60317,     0.60317,     0.60317,     0.60317,\n",
       "            0.60317,     0.60317,     0.60317,     0.60317,     0.60317,     0.60317,     0.60317,     0.60317,     0.60317,     0.60317,     0.60317,     0.60317,     0.58824,     0.58824,     0.58824,     0.58824,     0.58824,     0.58824,     0.58824,     0.58824,     0.58824,     0.58824,     0.58824,\n",
       "            0.58824,     0.58824,     0.58824,     0.58824,     0.56164,     0.56164,     0.56164,     0.56164,     0.56164,     0.56164,     0.56164,     0.56164,     0.51163,     0.51163,     0.51163,     0.51163,     0.51163,     0.51163,     0.51163,     0.51163,     0.51163,     0.51163,     0.51163,\n",
       "            0.51163,     0.51163,     0.51163,     0.51163,     0.51163,     0.51163,     0.51163,     0.51163,     0.51163,     0.51163,     0.51163,     0.51136,     0.51136,     0.51136,     0.51136,     0.51136,     0.51136,     0.51136,     0.51136,     0.48936,     0.48936,     0.48936,     0.48936,\n",
       "            0.48936,     0.48936,     0.48936,     0.48936,     0.48485,     0.48485,     0.48485,     0.48485,     0.48485,     0.48485,     0.48485,     0.48485,     0.48485,     0.48485,     0.48485,     0.48485,     0.48485,     0.48485,     0.48485,     0.38462,     0.38462,     0.38462,     0.38462,\n",
       "            0.38462,     0.38462,     0.38462,     0.38462,     0.38462,     0.38462,     0.38462,     0.38462,     0.38462,     0.38462,     0.38462,     0.38346,     0.38346,     0.38346,     0.38346,     0.38346,     0.38346,     0.38346,     0.37589,     0.37589,     0.37589,     0.37589,     0.37589,\n",
       "            0.37589,     0.37589,     0.37589,     0.37589,     0.37589,     0.37589,     0.37589,     0.37589,     0.37589,     0.37589,     0.37589,     0.34839,     0.34839,     0.34839,     0.34839,     0.34839,     0.34839,     0.34839,     0.33742,     0.33742,     0.33742,     0.33742,     0.33742,\n",
       "            0.33742,     0.33742,     0.33742,     0.31818,     0.31818,     0.31818,     0.31818,     0.31818,     0.31818,     0.31818,     0.28934,     0.28934,     0.28934,     0.28934,     0.28934,     0.28934,     0.28934,     0.28934,     0.28293,     0.28293,     0.28293,     0.28293,     0.28293,\n",
       "            0.28293,     0.28293,      0.2479,      0.2479,      0.2479,      0.2479,      0.2479,      0.2479,      0.2479,      0.2479,     0.21107,     0.21107,     0.21107,     0.21107,     0.21107,     0.21107,     0.21107,     0.21107,     0.21107,     0.21107,     0.21107,     0.21107,     0.21107,\n",
       "            0.21107,     0.21107,      0.2053,      0.2053,      0.2053,      0.2053,      0.2053,      0.2053,      0.2053,      0.2053,     0.18935,     0.18935,     0.18935,     0.18935,     0.18935,     0.18935,     0.18935,     0.18935,     0.18935,     0.18935,     0.18935,     0.18935,     0.18935,\n",
       "            0.18935,     0.18935,     0.18466,     0.18466,     0.18466,     0.18466,     0.18466,     0.18466,     0.18466,     0.18384,     0.18384,     0.18384,     0.18384,     0.18384,     0.18384,     0.18384,     0.18384,     0.16919,     0.16919,     0.16919,     0.16919,     0.16919,     0.16919,\n",
       "            0.16919,     0.16919,     0.16307,     0.16307,     0.16307,     0.16307,     0.16307,     0.16307,     0.16307,     0.16055,     0.16055,     0.16055,     0.16055,     0.16055,     0.16055,     0.16055,     0.16055,     0.16055,     0.16055,     0.16055,     0.16055,     0.16055,     0.16055,\n",
       "            0.16055,     0.14032,     0.14032,     0.14032,     0.14032,     0.14032,     0.14032,     0.14032,     0.14032,     0.13067,     0.13067,     0.13067,     0.13067,     0.13067,     0.13067,     0.13067,     0.12026,     0.12026,     0.12026,     0.12026,     0.12026,     0.12026,     0.12026,\n",
       "            0.12026,     0.11263,     0.11263,     0.11263,     0.11263,     0.11263,     0.11263,     0.11263,     0.11263,    0.090253,    0.090253,    0.090253,    0.090253,    0.090253,    0.090253,    0.090253,    0.074038,    0.074038,    0.074038,    0.074038,    0.074038,    0.074038,    0.074038,\n",
       "           0.074038,    0.074038,    0.074038,    0.074038,    0.074038,    0.074038,    0.074038,    0.074038,     0.06599,     0.06599,     0.06599,     0.06599,     0.06599,     0.06599,     0.06599,     0.06599,    0.062107,    0.062107,    0.062107,    0.062107,    0.062107,    0.062107,    0.062107,\n",
       "           0.053763,    0.053763,    0.053763,    0.053763,    0.053763,    0.053763,    0.053763,    0.053763,      0.0375,      0.0375,      0.0375,      0.0375,      0.0375,      0.0375,      0.0375,      0.0375,    0.028894,    0.028894,    0.028894,    0.028894,    0.028894,    0.028894,    0.028894,\n",
       "           0.019966,    0.019966,    0.019966,    0.019966,    0.019966,    0.019966,    0.019966,    0.019966,    0.018775,    0.018775,    0.018775,    0.018775,    0.018775,    0.018775,    0.018775,    0.015977,    0.015977,    0.015977,    0.015977,    0.015977,    0.015977,    0.015977,    0.015977,\n",
       "           0.012533,    0.012533,    0.012533,    0.012533,    0.012533,    0.012533,    0.012533,    0.011921,    0.011921,    0.011921,    0.011921,    0.011921,    0.011921,    0.011921,    0.011921,   0.0090703,   0.0090703,   0.0090703,   0.0090703,   0.0090703,   0.0090703,   0.0090703,   0.0088531,\n",
       "          0.0088265,   0.0087999,   0.0087734,   0.0087468,   0.0087202,   0.0086936,    0.008667,   0.0086404,   0.0086138,   0.0085873,   0.0085607,   0.0085341,   0.0085075,   0.0084809,   0.0084543,   0.0084277,   0.0084012,   0.0083746,    0.008348,   0.0083214,   0.0082948,   0.0082682,   0.0082416,\n",
       "          0.0082151,   0.0081885,   0.0081619,   0.0081353,   0.0081087,   0.0080821,   0.0080555,    0.008029,   0.0080024,   0.0079758,   0.0079492,   0.0079226,    0.007896,   0.0078694,   0.0078429,   0.0078163,   0.0077897,   0.0077631,   0.0077365,   0.0077099,   0.0076833,   0.0076568,   0.0076302,\n",
       "          0.0076036,    0.007577,   0.0075504,   0.0075238,   0.0074972,   0.0074706,   0.0074441,   0.0074175,   0.0073909,   0.0073643,   0.0073377,   0.0073111,   0.0072845,    0.007258,   0.0072314,   0.0072048,   0.0071782,   0.0071516,    0.007125,   0.0070984,   0.0070719,   0.0070453,   0.0070187,\n",
       "          0.0069921,   0.0069655,   0.0069389,   0.0069123,   0.0068858,   0.0068592,   0.0068326,    0.006806,   0.0067794,   0.0067528,   0.0067262,   0.0066997,   0.0066731,   0.0066465,   0.0066199,   0.0065933,   0.0065667,   0.0065401,   0.0065136,    0.006487,   0.0064604,   0.0064338,   0.0064072,\n",
       "          0.0063806,    0.006354,   0.0063275,   0.0063009,   0.0062743,   0.0062477,   0.0062211,   0.0061945,   0.0061679,   0.0061414,   0.0061148,   0.0060882,   0.0060616,    0.006035,   0.0060084,   0.0059818,   0.0059553,   0.0059287,   0.0059021,   0.0058755,   0.0058489,   0.0058223,   0.0057957,\n",
       "          0.0057691,   0.0057426,    0.005716,   0.0056894,   0.0056628,   0.0056362,   0.0056096,    0.005583,   0.0055565,   0.0055299,   0.0055033,   0.0054767,   0.0054501,   0.0054235,   0.0053969,   0.0053704,   0.0053438,   0.0053172,   0.0052906,    0.005264,   0.0052374,   0.0052108,   0.0051843,\n",
       "          0.0051577,   0.0051311,   0.0051045,   0.0050779,   0.0050513,   0.0050247,   0.0049982,   0.0049716,    0.004945,   0.0049184,   0.0048918,   0.0048652,   0.0048386,   0.0048121,   0.0047855,   0.0047589,   0.0047323,   0.0047057,   0.0046791,   0.0046525,    0.004626,   0.0045994,   0.0045728,\n",
       "          0.0045462,   0.0045196,    0.004493,   0.0044664,   0.0044399,   0.0044133,   0.0043867,   0.0043601,   0.0043335,   0.0043069,   0.0042803,   0.0042538,   0.0042272,   0.0042006,    0.004174,   0.0041474,   0.0041208,   0.0040942,   0.0040676,   0.0040411,   0.0040145,   0.0039879,   0.0039613,\n",
       "          0.0039347,   0.0039081,   0.0038815,    0.003855,   0.0038284,   0.0038018,   0.0037752,   0.0037486,    0.003722,   0.0036954,   0.0036689,   0.0036423,   0.0036157,   0.0035891,   0.0035625,   0.0035359,   0.0035093,   0.0034828,   0.0034562,   0.0034296,    0.003403,   0.0033764,   0.0033498,\n",
       "          0.0033232,   0.0032967,   0.0032701,   0.0032435,   0.0032169,   0.0031903,   0.0031637,   0.0031371,   0.0031106,    0.003084,   0.0030574,   0.0030308,   0.0030042,   0.0029776,    0.002951,   0.0029245,   0.0028979,   0.0028713,   0.0028447,   0.0028181,   0.0027915,   0.0027649,   0.0027384,\n",
       "          0.0027118,   0.0026852,   0.0026586,    0.002632,   0.0026054,   0.0025788,   0.0025523,   0.0025257,   0.0024991,   0.0024725,   0.0024459,   0.0024193,   0.0023927,   0.0023661,   0.0023396,    0.002313,   0.0022864,   0.0022598,   0.0022332,   0.0022066,     0.00218,   0.0021535,   0.0021269,\n",
       "          0.0021003,   0.0020737,   0.0020471,   0.0020205,   0.0019939,   0.0019674,   0.0019408,   0.0019142,   0.0018876,    0.001861,   0.0018344,   0.0018078,   0.0017813,   0.0017547,   0.0017281,   0.0017015,   0.0016749,   0.0016483,   0.0016217,   0.0015952,   0.0015686,    0.001542,   0.0015154,\n",
       "          0.0014888,   0.0014622,   0.0014356,   0.0014091,   0.0013825,   0.0013559,   0.0013293,   0.0013027,   0.0012761,   0.0012495,    0.001223,   0.0011964,   0.0011698,   0.0011432,   0.0011166,     0.00109,   0.0010634,   0.0010369,   0.0010103,  0.00098368,  0.00095709,  0.00093051,  0.00090392,\n",
       "         0.00087734,  0.00085075,  0.00082416,  0.00079758,  0.00077099,  0.00074441,  0.00071782,  0.00069123,  0.00066465,  0.00063806,  0.00061148,  0.00058489,   0.0005583,  0.00053172,  0.00050513,  0.00047855,  0.00045196,  0.00042538,  0.00039879,   0.0003722,  0.00034562,  0.00031903,  0.00029245,\n",
       "         0.00026586,  0.00023927,  0.00021269,   0.0001861,  0.00015952,  0.00013293,  0.00010634,  7.9758e-05,  5.3172e-05,  2.6586e-05,           0]]), 'Recall', 'Precision'], [array([          0,    0.001001,    0.002002,    0.003003,    0.004004,    0.005005,    0.006006,    0.007007,    0.008008,    0.009009,     0.01001,    0.011011,    0.012012,    0.013013,    0.014014,    0.015015,    0.016016,    0.017017,    0.018018,    0.019019,     0.02002,    0.021021,    0.022022,    0.023023,\n",
       "          0.024024,    0.025025,    0.026026,    0.027027,    0.028028,    0.029029,     0.03003,    0.031031,    0.032032,    0.033033,    0.034034,    0.035035,    0.036036,    0.037037,    0.038038,    0.039039,     0.04004,    0.041041,    0.042042,    0.043043,    0.044044,    0.045045,    0.046046,    0.047047,\n",
       "          0.048048,    0.049049,     0.05005,    0.051051,    0.052052,    0.053053,    0.054054,    0.055055,    0.056056,    0.057057,    0.058058,    0.059059,     0.06006,    0.061061,    0.062062,    0.063063,    0.064064,    0.065065,    0.066066,    0.067067,    0.068068,    0.069069,     0.07007,    0.071071,\n",
       "          0.072072,    0.073073,    0.074074,    0.075075,    0.076076,    0.077077,    0.078078,    0.079079,     0.08008,    0.081081,    0.082082,    0.083083,    0.084084,    0.085085,    0.086086,    0.087087,    0.088088,    0.089089,     0.09009,    0.091091,    0.092092,    0.093093,    0.094094,    0.095095,\n",
       "          0.096096,    0.097097,    0.098098,    0.099099,      0.1001,      0.1011,      0.1021,      0.1031,      0.1041,     0.10511,     0.10611,     0.10711,     0.10811,     0.10911,     0.11011,     0.11111,     0.11211,     0.11311,     0.11411,     0.11512,     0.11612,     0.11712,     0.11812,     0.11912,\n",
       "           0.12012,     0.12112,     0.12212,     0.12312,     0.12412,     0.12513,     0.12613,     0.12713,     0.12813,     0.12913,     0.13013,     0.13113,     0.13213,     0.13313,     0.13413,     0.13514,     0.13614,     0.13714,     0.13814,     0.13914,     0.14014,     0.14114,     0.14214,     0.14314,\n",
       "           0.14414,     0.14515,     0.14615,     0.14715,     0.14815,     0.14915,     0.15015,     0.15115,     0.15215,     0.15315,     0.15415,     0.15516,     0.15616,     0.15716,     0.15816,     0.15916,     0.16016,     0.16116,     0.16216,     0.16316,     0.16416,     0.16517,     0.16617,     0.16717,\n",
       "           0.16817,     0.16917,     0.17017,     0.17117,     0.17217,     0.17317,     0.17417,     0.17518,     0.17618,     0.17718,     0.17818,     0.17918,     0.18018,     0.18118,     0.18218,     0.18318,     0.18418,     0.18519,     0.18619,     0.18719,     0.18819,     0.18919,     0.19019,     0.19119,\n",
       "           0.19219,     0.19319,     0.19419,      0.1952,      0.1962,      0.1972,      0.1982,      0.1992,      0.2002,      0.2012,      0.2022,      0.2032,      0.2042,     0.20521,     0.20621,     0.20721,     0.20821,     0.20921,     0.21021,     0.21121,     0.21221,     0.21321,     0.21421,     0.21522,\n",
       "           0.21622,     0.21722,     0.21822,     0.21922,     0.22022,     0.22122,     0.22222,     0.22322,     0.22422,     0.22523,     0.22623,     0.22723,     0.22823,     0.22923,     0.23023,     0.23123,     0.23223,     0.23323,     0.23423,     0.23524,     0.23624,     0.23724,     0.23824,     0.23924,\n",
       "           0.24024,     0.24124,     0.24224,     0.24324,     0.24424,     0.24525,     0.24625,     0.24725,     0.24825,     0.24925,     0.25025,     0.25125,     0.25225,     0.25325,     0.25425,     0.25526,     0.25626,     0.25726,     0.25826,     0.25926,     0.26026,     0.26126,     0.26226,     0.26326,\n",
       "           0.26426,     0.26527,     0.26627,     0.26727,     0.26827,     0.26927,     0.27027,     0.27127,     0.27227,     0.27327,     0.27427,     0.27528,     0.27628,     0.27728,     0.27828,     0.27928,     0.28028,     0.28128,     0.28228,     0.28328,     0.28428,     0.28529,     0.28629,     0.28729,\n",
       "           0.28829,     0.28929,     0.29029,     0.29129,     0.29229,     0.29329,     0.29429,      0.2953,      0.2963,      0.2973,      0.2983,      0.2993,      0.3003,      0.3013,      0.3023,      0.3033,      0.3043,     0.30531,     0.30631,     0.30731,     0.30831,     0.30931,     0.31031,     0.31131,\n",
       "           0.31231,     0.31331,     0.31431,     0.31532,     0.31632,     0.31732,     0.31832,     0.31932,     0.32032,     0.32132,     0.32232,     0.32332,     0.32432,     0.32533,     0.32633,     0.32733,     0.32833,     0.32933,     0.33033,     0.33133,     0.33233,     0.33333,     0.33433,     0.33534,\n",
       "           0.33634,     0.33734,     0.33834,     0.33934,     0.34034,     0.34134,     0.34234,     0.34334,     0.34434,     0.34535,     0.34635,     0.34735,     0.34835,     0.34935,     0.35035,     0.35135,     0.35235,     0.35335,     0.35435,     0.35536,     0.35636,     0.35736,     0.35836,     0.35936,\n",
       "           0.36036,     0.36136,     0.36236,     0.36336,     0.36436,     0.36537,     0.36637,     0.36737,     0.36837,     0.36937,     0.37037,     0.37137,     0.37237,     0.37337,     0.37437,     0.37538,     0.37638,     0.37738,     0.37838,     0.37938,     0.38038,     0.38138,     0.38238,     0.38338,\n",
       "           0.38438,     0.38539,     0.38639,     0.38739,     0.38839,     0.38939,     0.39039,     0.39139,     0.39239,     0.39339,     0.39439,      0.3954,      0.3964,      0.3974,      0.3984,      0.3994,      0.4004,      0.4014,      0.4024,      0.4034,      0.4044,     0.40541,     0.40641,     0.40741,\n",
       "           0.40841,     0.40941,     0.41041,     0.41141,     0.41241,     0.41341,     0.41441,     0.41542,     0.41642,     0.41742,     0.41842,     0.41942,     0.42042,     0.42142,     0.42242,     0.42342,     0.42442,     0.42543,     0.42643,     0.42743,     0.42843,     0.42943,     0.43043,     0.43143,\n",
       "           0.43243,     0.43343,     0.43443,     0.43544,     0.43644,     0.43744,     0.43844,     0.43944,     0.44044,     0.44144,     0.44244,     0.44344,     0.44444,     0.44545,     0.44645,     0.44745,     0.44845,     0.44945,     0.45045,     0.45145,     0.45245,     0.45345,     0.45445,     0.45546,\n",
       "           0.45646,     0.45746,     0.45846,     0.45946,     0.46046,     0.46146,     0.46246,     0.46346,     0.46446,     0.46547,     0.46647,     0.46747,     0.46847,     0.46947,     0.47047,     0.47147,     0.47247,     0.47347,     0.47447,     0.47548,     0.47648,     0.47748,     0.47848,     0.47948,\n",
       "           0.48048,     0.48148,     0.48248,     0.48348,     0.48448,     0.48549,     0.48649,     0.48749,     0.48849,     0.48949,     0.49049,     0.49149,     0.49249,     0.49349,     0.49449,      0.4955,      0.4965,      0.4975,      0.4985,      0.4995,      0.5005,      0.5015,      0.5025,      0.5035,\n",
       "            0.5045,     0.50551,     0.50651,     0.50751,     0.50851,     0.50951,     0.51051,     0.51151,     0.51251,     0.51351,     0.51451,     0.51552,     0.51652,     0.51752,     0.51852,     0.51952,     0.52052,     0.52152,     0.52252,     0.52352,     0.52452,     0.52553,     0.52653,     0.52753,\n",
       "           0.52853,     0.52953,     0.53053,     0.53153,     0.53253,     0.53353,     0.53453,     0.53554,     0.53654,     0.53754,     0.53854,     0.53954,     0.54054,     0.54154,     0.54254,     0.54354,     0.54454,     0.54555,     0.54655,     0.54755,     0.54855,     0.54955,     0.55055,     0.55155,\n",
       "           0.55255,     0.55355,     0.55455,     0.55556,     0.55656,     0.55756,     0.55856,     0.55956,     0.56056,     0.56156,     0.56256,     0.56356,     0.56456,     0.56557,     0.56657,     0.56757,     0.56857,     0.56957,     0.57057,     0.57157,     0.57257,     0.57357,     0.57457,     0.57558,\n",
       "           0.57658,     0.57758,     0.57858,     0.57958,     0.58058,     0.58158,     0.58258,     0.58358,     0.58458,     0.58559,     0.58659,     0.58759,     0.58859,     0.58959,     0.59059,     0.59159,     0.59259,     0.59359,     0.59459,      0.5956,      0.5966,      0.5976,      0.5986,      0.5996,\n",
       "            0.6006,      0.6016,      0.6026,      0.6036,      0.6046,     0.60561,     0.60661,     0.60761,     0.60861,     0.60961,     0.61061,     0.61161,     0.61261,     0.61361,     0.61461,     0.61562,     0.61662,     0.61762,     0.61862,     0.61962,     0.62062,     0.62162,     0.62262,     0.62362,\n",
       "           0.62462,     0.62563,     0.62663,     0.62763,     0.62863,     0.62963,     0.63063,     0.63163,     0.63263,     0.63363,     0.63463,     0.63564,     0.63664,     0.63764,     0.63864,     0.63964,     0.64064,     0.64164,     0.64264,     0.64364,     0.64464,     0.64565,     0.64665,     0.64765,\n",
       "           0.64865,     0.64965,     0.65065,     0.65165,     0.65265,     0.65365,     0.65465,     0.65566,     0.65666,     0.65766,     0.65866,     0.65966,     0.66066,     0.66166,     0.66266,     0.66366,     0.66466,     0.66567,     0.66667,     0.66767,     0.66867,     0.66967,     0.67067,     0.67167,\n",
       "           0.67267,     0.67367,     0.67467,     0.67568,     0.67668,     0.67768,     0.67868,     0.67968,     0.68068,     0.68168,     0.68268,     0.68368,     0.68468,     0.68569,     0.68669,     0.68769,     0.68869,     0.68969,     0.69069,     0.69169,     0.69269,     0.69369,     0.69469,      0.6957,\n",
       "            0.6967,      0.6977,      0.6987,      0.6997,      0.7007,      0.7017,      0.7027,      0.7037,      0.7047,     0.70571,     0.70671,     0.70771,     0.70871,     0.70971,     0.71071,     0.71171,     0.71271,     0.71371,     0.71471,     0.71572,     0.71672,     0.71772,     0.71872,     0.71972,\n",
       "           0.72072,     0.72172,     0.72272,     0.72372,     0.72472,     0.72573,     0.72673,     0.72773,     0.72873,     0.72973,     0.73073,     0.73173,     0.73273,     0.73373,     0.73473,     0.73574,     0.73674,     0.73774,     0.73874,     0.73974,     0.74074,     0.74174,     0.74274,     0.74374,\n",
       "           0.74474,     0.74575,     0.74675,     0.74775,     0.74875,     0.74975,     0.75075,     0.75175,     0.75275,     0.75375,     0.75475,     0.75576,     0.75676,     0.75776,     0.75876,     0.75976,     0.76076,     0.76176,     0.76276,     0.76376,     0.76476,     0.76577,     0.76677,     0.76777,\n",
       "           0.76877,     0.76977,     0.77077,     0.77177,     0.77277,     0.77377,     0.77477,     0.77578,     0.77678,     0.77778,     0.77878,     0.77978,     0.78078,     0.78178,     0.78278,     0.78378,     0.78478,     0.78579,     0.78679,     0.78779,     0.78879,     0.78979,     0.79079,     0.79179,\n",
       "           0.79279,     0.79379,     0.79479,      0.7958,      0.7968,      0.7978,      0.7988,      0.7998,      0.8008,      0.8018,      0.8028,      0.8038,      0.8048,     0.80581,     0.80681,     0.80781,     0.80881,     0.80981,     0.81081,     0.81181,     0.81281,     0.81381,     0.81481,     0.81582,\n",
       "           0.81682,     0.81782,     0.81882,     0.81982,     0.82082,     0.82182,     0.82282,     0.82382,     0.82482,     0.82583,     0.82683,     0.82783,     0.82883,     0.82983,     0.83083,     0.83183,     0.83283,     0.83383,     0.83483,     0.83584,     0.83684,     0.83784,     0.83884,     0.83984,\n",
       "           0.84084,     0.84184,     0.84284,     0.84384,     0.84484,     0.84585,     0.84685,     0.84785,     0.84885,     0.84985,     0.85085,     0.85185,     0.85285,     0.85385,     0.85485,     0.85586,     0.85686,     0.85786,     0.85886,     0.85986,     0.86086,     0.86186,     0.86286,     0.86386,\n",
       "           0.86486,     0.86587,     0.86687,     0.86787,     0.86887,     0.86987,     0.87087,     0.87187,     0.87287,     0.87387,     0.87487,     0.87588,     0.87688,     0.87788,     0.87888,     0.87988,     0.88088,     0.88188,     0.88288,     0.88388,     0.88488,     0.88589,     0.88689,     0.88789,\n",
       "           0.88889,     0.88989,     0.89089,     0.89189,     0.89289,     0.89389,     0.89489,      0.8959,      0.8969,      0.8979,      0.8989,      0.8999,      0.9009,      0.9019,      0.9029,      0.9039,      0.9049,     0.90591,     0.90691,     0.90791,     0.90891,     0.90991,     0.91091,     0.91191,\n",
       "           0.91291,     0.91391,     0.91491,     0.91592,     0.91692,     0.91792,     0.91892,     0.91992,     0.92092,     0.92192,     0.92292,     0.92392,     0.92492,     0.92593,     0.92693,     0.92793,     0.92893,     0.92993,     0.93093,     0.93193,     0.93293,     0.93393,     0.93493,     0.93594,\n",
       "           0.93694,     0.93794,     0.93894,     0.93994,     0.94094,     0.94194,     0.94294,     0.94394,     0.94494,     0.94595,     0.94695,     0.94795,     0.94895,     0.94995,     0.95095,     0.95195,     0.95295,     0.95395,     0.95495,     0.95596,     0.95696,     0.95796,     0.95896,     0.95996,\n",
       "           0.96096,     0.96196,     0.96296,     0.96396,     0.96496,     0.96597,     0.96697,     0.96797,     0.96897,     0.96997,     0.97097,     0.97197,     0.97297,     0.97397,     0.97497,     0.97598,     0.97698,     0.97798,     0.97898,     0.97998,     0.98098,     0.98198,     0.98298,     0.98398,\n",
       "           0.98498,     0.98599,     0.98699,     0.98799,     0.98899,     0.98999,     0.99099,     0.99199,     0.99299,     0.99399,     0.99499,       0.996,       0.997,       0.998,       0.999,           1]), array([[   0.017474,    0.017488,    0.036852,    0.055791,    0.067884,     0.07802,    0.087404,    0.096172,     0.10377,     0.11116,     0.11581,     0.12129,     0.12844,     0.12994,     0.13507,     0.13976,     0.14614,     0.14984,     0.15472,     0.15936,     0.16582,     0.17333,     0.17859,\n",
       "            0.18353,     0.18669,     0.19113,     0.19612,     0.19745,     0.20162,     0.20595,     0.21021,     0.21078,      0.2146,      0.2168,     0.21999,     0.22102,     0.22146,     0.22656,     0.23002,     0.23204,     0.23485,     0.23793,     0.24082,     0.24128,     0.24278,     0.24696,\n",
       "            0.24598,     0.24919,     0.25295,     0.25177,     0.25535,     0.25816,     0.26239,     0.26626,     0.26644,     0.26558,     0.26741,      0.2709,     0.26505,     0.26745,     0.26985,     0.27366,     0.27734,     0.27989,     0.28308,     0.28275,      0.2841,     0.28555,     0.28728,\n",
       "            0.28576,      0.2856,     0.28768,     0.28943,     0.29176,     0.29423,     0.29836,     0.29986,     0.30153,     0.30275,     0.30543,     0.30841,     0.31111,     0.31203,     0.31553,     0.31741,     0.31779,     0.31444,     0.31508,     0.31753,     0.31905,     0.32031,     0.32503,\n",
       "            0.32701,     0.32893,     0.32952,     0.33078,     0.33264,     0.33326,      0.3371,      0.3399,     0.34344,     0.34058,     0.34263,     0.34377,     0.34514,     0.34533,     0.34275,     0.34311,     0.34393,     0.34438,     0.34554,     0.35031,     0.35445,     0.35511,      0.3561,\n",
       "            0.35757,     0.35862,     0.36169,     0.36327,     0.35951,     0.35895,       0.361,     0.36349,     0.36453,     0.36649,     0.36898,     0.37115,     0.37214,     0.37015,     0.36815,     0.36914,     0.37001,     0.37061,     0.37131,     0.37269,     0.37389,     0.37438,     0.37488,\n",
       "            0.37122,     0.37209,      0.3729,     0.37367,      0.3744,     0.37531,     0.37694,     0.37844,     0.38016,     0.38151,     0.38444,     0.38805,     0.38269,     0.37782,     0.37812,     0.37843,     0.37873,     0.37904,     0.37973,     0.38097,     0.38227,     0.38275,     0.38322,\n",
       "            0.38402,      0.3789,      0.3809,     0.37445,     0.37242,     0.37039,     0.36954,     0.37026,     0.37111,     0.37211,     0.37255,     0.37299,     0.37343,     0.37416,       0.375,      0.3762,     0.37803,     0.37834,     0.37865,     0.37896,     0.37926,     0.38086,     0.38156,\n",
       "            0.38217,     0.38411,     0.38446,     0.38482,     0.38517,     0.38553,      0.3868,     0.38744,     0.38789,     0.38833,     0.38885,     0.38961,     0.39029,     0.39056,     0.39082,     0.39109,     0.39136,     0.39162,     0.39281,     0.39458,     0.39542,       0.396,     0.39657,\n",
       "            0.39859,     0.39987,     0.40027,     0.40057,     0.40087,     0.40117,     0.40147,     0.40347,     0.40438,     0.40557,     0.40843,     0.40925,     0.40999,      0.4112,     0.41457,     0.40588,     0.40346,     0.40396,     0.40441,     0.40486,     0.40532,      0.4062,     0.40706,\n",
       "            0.40069,     0.40473,      0.4059,     0.40648,     0.40705,     0.40871,     0.40826,     0.40726,     0.40625,     0.40525,     0.40424,     0.40323,     0.40223,     0.40196,     0.40219,     0.40242,     0.40265,     0.40288,      0.4031,     0.40333,     0.40356,      0.4029,     0.40137,\n",
       "            0.39983,     0.39829,     0.39675,     0.39514,     0.39351,     0.39186,     0.39022,     0.38722,     0.38169,     0.38253,     0.38331,     0.38388,     0.38445,     0.38499,     0.38515,     0.38531,     0.38547,     0.38563,      0.3858,     0.38596,     0.38612,     0.38628,     0.38644,\n",
       "             0.3866,     0.38676,     0.38703,     0.38734,     0.38765,     0.38796,     0.38827,     0.38857,     0.38906,     0.38959,     0.39011,     0.39238,     0.39261,     0.39284,     0.39306,     0.39329,     0.39352,     0.39374,     0.39397,      0.3942,     0.39452,     0.39487,     0.39521,\n",
       "            0.39555,     0.39589,      0.3963,     0.39685,     0.39741,     0.39796,     0.39852,     0.39908,     0.39963,     0.39952,     0.39811,      0.3967,     0.39529,     0.39388,     0.39247,     0.39253,     0.39301,     0.39348,     0.39395,     0.39421,     0.39439,     0.39456,     0.39474,\n",
       "            0.39491,     0.39509,     0.39526,     0.39543,     0.39561,     0.39578,     0.39595,     0.39635,     0.39696,     0.39757,     0.39812,      0.3985,     0.39888,     0.39926,     0.39964,      0.3997,     0.39174,     0.38901,     0.38627,     0.38391,     0.38451,     0.38512,     0.38571,\n",
       "            0.38586,     0.38595,     0.38604,     0.38613,     0.38622,     0.38631,      0.3864,     0.38649,     0.38657,     0.38666,     0.38675,     0.38684,     0.38693,     0.38702,      0.3871,     0.38719,     0.38728,     0.38737,     0.38745,     0.38754,     0.38763,     0.38772,     0.38692,\n",
       "            0.38125,     0.37314,      0.3733,     0.37345,     0.37361,     0.37377,     0.37392,     0.37408,     0.37423,     0.37438,     0.37454,     0.37469,     0.37484,       0.375,      0.3728,     0.37056,     0.36831,     0.36654,     0.36677,       0.367,     0.36723,     0.36746,     0.36769,\n",
       "            0.36792,     0.36815,     0.36837,     0.37003,     0.37241,     0.37286,     0.37331,     0.37375,     0.37419,     0.37379,     0.37302,     0.37224,     0.37146,     0.37068,      0.3699,     0.36911,     0.36833,     0.36755,     0.36677,     0.36599,     0.36605,     0.36696,     0.36734,\n",
       "            0.36667,       0.366,     0.36532,     0.36465,     0.36398,      0.3633,     0.36263,     0.36195,     0.36127,      0.3606,     0.35992,     0.35924,     0.35787,     0.35347,     0.34981,     0.35039,     0.35096,     0.35153,     0.35364,     0.35409,     0.35453,     0.35497,     0.35541,\n",
       "            0.35585,     0.35628,     0.35671,     0.35714,     0.35748,     0.35649,      0.3555,     0.35451,     0.35353,     0.35253,     0.35154,     0.35055,     0.34956,     0.34857,     0.33848,     0.33727,     0.33607,     0.33486,     0.33366,     0.33245,     0.33124,     0.33003,     0.33012,\n",
       "            0.32755,     0.32497,     0.32238,     0.32076,     0.31941,     0.31805,     0.31669,     0.31532,     0.31396,      0.3126,     0.30186,      0.2983,     0.29472,     0.29264,     0.29331,     0.29397,      0.2942,     0.29431,     0.29442,     0.29453,     0.29463,     0.29474,     0.29485,\n",
       "            0.29496,     0.29506,     0.29517,     0.29527,     0.29538,     0.29548,     0.29559,     0.29569,      0.2958,      0.2959,     0.29599,     0.29609,     0.29618,     0.29628,     0.29637,     0.29646,     0.29656,     0.29665,     0.29674,     0.29683,     0.29693,     0.29702,     0.29711,\n",
       "             0.2972,     0.29729,     0.29739,     0.29748,     0.29757,     0.28778,     0.28898,     0.28986,     0.29067,     0.29105,     0.29125,     0.29144,     0.29164,     0.29183,     0.29203,     0.29222,     0.29241,      0.2926,     0.29244,     0.29202,     0.29159,     0.29116,     0.29074,\n",
       "            0.29031,     0.28988,     0.28946,     0.28903,      0.2886,     0.28818,     0.28775,     0.28732,     0.28689,     0.28647,     0.28604,     0.28561,     0.28518,     0.28475,     0.28432,     0.28389,     0.28347,     0.28304,     0.28261,     0.28222,     0.28242,     0.28261,      0.2828,\n",
       "            0.28299,     0.28318,     0.28337,     0.28356,     0.28374,     0.28393,     0.27985,     0.27514,     0.27333,     0.27338,     0.27344,      0.2735,     0.27355,     0.27361,     0.27367,     0.27372,     0.27378,     0.27383,     0.27389,     0.27395,       0.274,     0.27406,     0.27411,\n",
       "            0.27417,     0.27422,     0.27428,     0.27433,     0.27439,     0.27444,      0.2745,     0.27455,     0.27461,     0.27466,     0.27472,     0.27477,     0.27483,     0.27488,     0.27493,     0.27499,     0.27416,      0.2731,     0.27203,     0.27096,     0.26989,     0.26882,     0.26775,\n",
       "            0.26668,     0.26561,     0.26453,     0.26364,     0.26285,     0.26205,     0.26126,     0.26046,     0.25967,     0.25887,     0.25807,     0.25728,     0.25648,     0.25568,     0.25488,     0.25408,     0.25328,      0.2533,     0.25345,     0.25361,     0.25376,     0.25392,     0.25407,\n",
       "            0.25422,     0.25437,     0.25452,     0.25467,     0.25446,     0.25322,     0.25196,     0.25071,     0.24946,      0.2482,     0.24695,     0.24569,     0.24443,     0.24344,     0.24297,     0.24251,     0.24205,     0.24159,     0.24112,     0.24066,      0.2402,     0.23973,     0.23927,\n",
       "            0.23881,     0.23834,     0.23788,     0.23742,     0.23695,     0.23649,     0.23602,     0.23556,     0.23509,     0.23463,     0.23416,      0.2337,     0.23323,     0.23276,      0.2323,     0.22086,       0.221,     0.22114,     0.22128,     0.22142,     0.22156,      0.2217,     0.22183,\n",
       "            0.22197,      0.2221,     0.22224,     0.22245,     0.22265,     0.22286,     0.22306,     0.22326,     0.22345,     0.22365,     0.22318,     0.22255,     0.22193,      0.2213,     0.22067,     0.22004,      0.2194,     0.21877,     0.21814,     0.21751,     0.21688,     0.21625,     0.21561,\n",
       "            0.21498,     0.21435,     0.21371,     0.21308,     0.21244,     0.21199,     0.21238,     0.21276,     0.21312,     0.21356,     0.21408,     0.21458,     0.21452,     0.21412,     0.21373,     0.21333,     0.21294,     0.21255,     0.21215,     0.21176,     0.21136,     0.21097,     0.21057,\n",
       "            0.21018,     0.20978,     0.20938,     0.20899,     0.20859,      0.2082,      0.2078,      0.2074,     0.20701,     0.20661,     0.20621,     0.20582,     0.20542,     0.20502,     0.20462,     0.20422,     0.20383,     0.20343,     0.20303,     0.20262,     0.20214,     0.20166,     0.20119,\n",
       "            0.20071,     0.20023,     0.19975,     0.19927,     0.19879,     0.19832,     0.19784,     0.19736,     0.19688,      0.1964,     0.19592,     0.19544,     0.19496,     0.19448,     0.19399,     0.19351,     0.19303,     0.19255,     0.19207,     0.19159,      0.1911,     0.19062,     0.18276,\n",
       "            0.17737,     0.17612,     0.17488,     0.17364,     0.17239,     0.17115,      0.1699,     0.16865,      0.1674,     0.16614,     0.16513,     0.16435,     0.16357,     0.16279,     0.16201,     0.16123,     0.16045,     0.15967,     0.15889,     0.15811,     0.15733,     0.15654,     0.15576,\n",
       "            0.15497,     0.15419,      0.1534,      0.1521,     0.14878,     0.14545,     0.14212,     0.13927,     0.13745,     0.13563,     0.13381,     0.13198,     0.13015,     0.12831,      0.1262,     0.12262,     0.11903,     0.11543,     0.10945,     0.10066,     0.09935,    0.098647,    0.097943,\n",
       "            0.09724,    0.096536,    0.095831,    0.095126,     0.09442,    0.093714,    0.093008,    0.092301,    0.091594,    0.090886,    0.090178,    0.089469,     0.08876,    0.088051,     0.08734,     0.08663,    0.086017,    0.085474,    0.084931,    0.084387,    0.083844,      0.0833,    0.082756,\n",
       "           0.082212,    0.081667,    0.081122,    0.080577,    0.080032,    0.079486,     0.07894,    0.078394,    0.077848,    0.077301,    0.076754,    0.076207,     0.07566,    0.075112,    0.074564,    0.074016,    0.073467,    0.072918,    0.065778,     0.05805,    0.057625,    0.057201,    0.056776,\n",
       "           0.056351,    0.055926,    0.055501,    0.055075,     0.05465,    0.054224,    0.053798,    0.053373,    0.052947,     0.05252,    0.052094,    0.051668,    0.051241,    0.050814,    0.050387,     0.04996,    0.049533,    0.049106,    0.048678,    0.048251,    0.047823,    0.047395,    0.046967,\n",
       "           0.046539,     0.04611,    0.045682,    0.045253,    0.044824,    0.044395,    0.044122,    0.044133,    0.044144,    0.044154,    0.044165,    0.044175,    0.044185,    0.044196,    0.044205,    0.044215,    0.044225,    0.044234,    0.044244,    0.044253,    0.044262,    0.044271,    0.044279,\n",
       "           0.044288,    0.044296,    0.044305,    0.044313,    0.044321,    0.044329,    0.044337,    0.044345,    0.044353,     0.04436,    0.044368,    0.044375,    0.044382,     0.04439,    0.044397,    0.044404,    0.044411,    0.044417,    0.044424,    0.044431,    0.044437,    0.044444,    0.044073,\n",
       "            0.04366,    0.043247,    0.042834,    0.042421,    0.042007,    0.041594,     0.04118,    0.040766,    0.040352,    0.039938,    0.039523,    0.039108,    0.038694,    0.038279,    0.037863,    0.037448,    0.037033,    0.036617,    0.036201,    0.035785,    0.035369,    0.034952,    0.034536,\n",
       "           0.034119,    0.033702,    0.033285,    0.032868,     0.03245,    0.032033,    0.031615,    0.031197,    0.030779,     0.03036,    0.029942,    0.028987,    0.027883,    0.026777,     0.02567,    0.024562,    0.023453,    0.022342,     0.02123,    0.020117,    0.019003,    0.017887,    0.016771,\n",
       "           0.015652,           0,           0,           0,           0,           0,           0,           0,           0,           0,           0,           0,           0,           0,           0,           0,           0,           0,           0,           0,           0,           0,           0,\n",
       "                  0,           0,           0,           0,           0,           0,           0,           0,           0,           0,           0]]), 'Confidence', 'F1'], [array([          0,    0.001001,    0.002002,    0.003003,    0.004004,    0.005005,    0.006006,    0.007007,    0.008008,    0.009009,     0.01001,    0.011011,    0.012012,    0.013013,    0.014014,    0.015015,    0.016016,    0.017017,    0.018018,    0.019019,     0.02002,    0.021021,    0.022022,    0.023023,\n",
       "          0.024024,    0.025025,    0.026026,    0.027027,    0.028028,    0.029029,     0.03003,    0.031031,    0.032032,    0.033033,    0.034034,    0.035035,    0.036036,    0.037037,    0.038038,    0.039039,     0.04004,    0.041041,    0.042042,    0.043043,    0.044044,    0.045045,    0.046046,    0.047047,\n",
       "          0.048048,    0.049049,     0.05005,    0.051051,    0.052052,    0.053053,    0.054054,    0.055055,    0.056056,    0.057057,    0.058058,    0.059059,     0.06006,    0.061061,    0.062062,    0.063063,    0.064064,    0.065065,    0.066066,    0.067067,    0.068068,    0.069069,     0.07007,    0.071071,\n",
       "          0.072072,    0.073073,    0.074074,    0.075075,    0.076076,    0.077077,    0.078078,    0.079079,     0.08008,    0.081081,    0.082082,    0.083083,    0.084084,    0.085085,    0.086086,    0.087087,    0.088088,    0.089089,     0.09009,    0.091091,    0.092092,    0.093093,    0.094094,    0.095095,\n",
       "          0.096096,    0.097097,    0.098098,    0.099099,      0.1001,      0.1011,      0.1021,      0.1031,      0.1041,     0.10511,     0.10611,     0.10711,     0.10811,     0.10911,     0.11011,     0.11111,     0.11211,     0.11311,     0.11411,     0.11512,     0.11612,     0.11712,     0.11812,     0.11912,\n",
       "           0.12012,     0.12112,     0.12212,     0.12312,     0.12412,     0.12513,     0.12613,     0.12713,     0.12813,     0.12913,     0.13013,     0.13113,     0.13213,     0.13313,     0.13413,     0.13514,     0.13614,     0.13714,     0.13814,     0.13914,     0.14014,     0.14114,     0.14214,     0.14314,\n",
       "           0.14414,     0.14515,     0.14615,     0.14715,     0.14815,     0.14915,     0.15015,     0.15115,     0.15215,     0.15315,     0.15415,     0.15516,     0.15616,     0.15716,     0.15816,     0.15916,     0.16016,     0.16116,     0.16216,     0.16316,     0.16416,     0.16517,     0.16617,     0.16717,\n",
       "           0.16817,     0.16917,     0.17017,     0.17117,     0.17217,     0.17317,     0.17417,     0.17518,     0.17618,     0.17718,     0.17818,     0.17918,     0.18018,     0.18118,     0.18218,     0.18318,     0.18418,     0.18519,     0.18619,     0.18719,     0.18819,     0.18919,     0.19019,     0.19119,\n",
       "           0.19219,     0.19319,     0.19419,      0.1952,      0.1962,      0.1972,      0.1982,      0.1992,      0.2002,      0.2012,      0.2022,      0.2032,      0.2042,     0.20521,     0.20621,     0.20721,     0.20821,     0.20921,     0.21021,     0.21121,     0.21221,     0.21321,     0.21421,     0.21522,\n",
       "           0.21622,     0.21722,     0.21822,     0.21922,     0.22022,     0.22122,     0.22222,     0.22322,     0.22422,     0.22523,     0.22623,     0.22723,     0.22823,     0.22923,     0.23023,     0.23123,     0.23223,     0.23323,     0.23423,     0.23524,     0.23624,     0.23724,     0.23824,     0.23924,\n",
       "           0.24024,     0.24124,     0.24224,     0.24324,     0.24424,     0.24525,     0.24625,     0.24725,     0.24825,     0.24925,     0.25025,     0.25125,     0.25225,     0.25325,     0.25425,     0.25526,     0.25626,     0.25726,     0.25826,     0.25926,     0.26026,     0.26126,     0.26226,     0.26326,\n",
       "           0.26426,     0.26527,     0.26627,     0.26727,     0.26827,     0.26927,     0.27027,     0.27127,     0.27227,     0.27327,     0.27427,     0.27528,     0.27628,     0.27728,     0.27828,     0.27928,     0.28028,     0.28128,     0.28228,     0.28328,     0.28428,     0.28529,     0.28629,     0.28729,\n",
       "           0.28829,     0.28929,     0.29029,     0.29129,     0.29229,     0.29329,     0.29429,      0.2953,      0.2963,      0.2973,      0.2983,      0.2993,      0.3003,      0.3013,      0.3023,      0.3033,      0.3043,     0.30531,     0.30631,     0.30731,     0.30831,     0.30931,     0.31031,     0.31131,\n",
       "           0.31231,     0.31331,     0.31431,     0.31532,     0.31632,     0.31732,     0.31832,     0.31932,     0.32032,     0.32132,     0.32232,     0.32332,     0.32432,     0.32533,     0.32633,     0.32733,     0.32833,     0.32933,     0.33033,     0.33133,     0.33233,     0.33333,     0.33433,     0.33534,\n",
       "           0.33634,     0.33734,     0.33834,     0.33934,     0.34034,     0.34134,     0.34234,     0.34334,     0.34434,     0.34535,     0.34635,     0.34735,     0.34835,     0.34935,     0.35035,     0.35135,     0.35235,     0.35335,     0.35435,     0.35536,     0.35636,     0.35736,     0.35836,     0.35936,\n",
       "           0.36036,     0.36136,     0.36236,     0.36336,     0.36436,     0.36537,     0.36637,     0.36737,     0.36837,     0.36937,     0.37037,     0.37137,     0.37237,     0.37337,     0.37437,     0.37538,     0.37638,     0.37738,     0.37838,     0.37938,     0.38038,     0.38138,     0.38238,     0.38338,\n",
       "           0.38438,     0.38539,     0.38639,     0.38739,     0.38839,     0.38939,     0.39039,     0.39139,     0.39239,     0.39339,     0.39439,      0.3954,      0.3964,      0.3974,      0.3984,      0.3994,      0.4004,      0.4014,      0.4024,      0.4034,      0.4044,     0.40541,     0.40641,     0.40741,\n",
       "           0.40841,     0.40941,     0.41041,     0.41141,     0.41241,     0.41341,     0.41441,     0.41542,     0.41642,     0.41742,     0.41842,     0.41942,     0.42042,     0.42142,     0.42242,     0.42342,     0.42442,     0.42543,     0.42643,     0.42743,     0.42843,     0.42943,     0.43043,     0.43143,\n",
       "           0.43243,     0.43343,     0.43443,     0.43544,     0.43644,     0.43744,     0.43844,     0.43944,     0.44044,     0.44144,     0.44244,     0.44344,     0.44444,     0.44545,     0.44645,     0.44745,     0.44845,     0.44945,     0.45045,     0.45145,     0.45245,     0.45345,     0.45445,     0.45546,\n",
       "           0.45646,     0.45746,     0.45846,     0.45946,     0.46046,     0.46146,     0.46246,     0.46346,     0.46446,     0.46547,     0.46647,     0.46747,     0.46847,     0.46947,     0.47047,     0.47147,     0.47247,     0.47347,     0.47447,     0.47548,     0.47648,     0.47748,     0.47848,     0.47948,\n",
       "           0.48048,     0.48148,     0.48248,     0.48348,     0.48448,     0.48549,     0.48649,     0.48749,     0.48849,     0.48949,     0.49049,     0.49149,     0.49249,     0.49349,     0.49449,      0.4955,      0.4965,      0.4975,      0.4985,      0.4995,      0.5005,      0.5015,      0.5025,      0.5035,\n",
       "            0.5045,     0.50551,     0.50651,     0.50751,     0.50851,     0.50951,     0.51051,     0.51151,     0.51251,     0.51351,     0.51451,     0.51552,     0.51652,     0.51752,     0.51852,     0.51952,     0.52052,     0.52152,     0.52252,     0.52352,     0.52452,     0.52553,     0.52653,     0.52753,\n",
       "           0.52853,     0.52953,     0.53053,     0.53153,     0.53253,     0.53353,     0.53453,     0.53554,     0.53654,     0.53754,     0.53854,     0.53954,     0.54054,     0.54154,     0.54254,     0.54354,     0.54454,     0.54555,     0.54655,     0.54755,     0.54855,     0.54955,     0.55055,     0.55155,\n",
       "           0.55255,     0.55355,     0.55455,     0.55556,     0.55656,     0.55756,     0.55856,     0.55956,     0.56056,     0.56156,     0.56256,     0.56356,     0.56456,     0.56557,     0.56657,     0.56757,     0.56857,     0.56957,     0.57057,     0.57157,     0.57257,     0.57357,     0.57457,     0.57558,\n",
       "           0.57658,     0.57758,     0.57858,     0.57958,     0.58058,     0.58158,     0.58258,     0.58358,     0.58458,     0.58559,     0.58659,     0.58759,     0.58859,     0.58959,     0.59059,     0.59159,     0.59259,     0.59359,     0.59459,      0.5956,      0.5966,      0.5976,      0.5986,      0.5996,\n",
       "            0.6006,      0.6016,      0.6026,      0.6036,      0.6046,     0.60561,     0.60661,     0.60761,     0.60861,     0.60961,     0.61061,     0.61161,     0.61261,     0.61361,     0.61461,     0.61562,     0.61662,     0.61762,     0.61862,     0.61962,     0.62062,     0.62162,     0.62262,     0.62362,\n",
       "           0.62462,     0.62563,     0.62663,     0.62763,     0.62863,     0.62963,     0.63063,     0.63163,     0.63263,     0.63363,     0.63463,     0.63564,     0.63664,     0.63764,     0.63864,     0.63964,     0.64064,     0.64164,     0.64264,     0.64364,     0.64464,     0.64565,     0.64665,     0.64765,\n",
       "           0.64865,     0.64965,     0.65065,     0.65165,     0.65265,     0.65365,     0.65465,     0.65566,     0.65666,     0.65766,     0.65866,     0.65966,     0.66066,     0.66166,     0.66266,     0.66366,     0.66466,     0.66567,     0.66667,     0.66767,     0.66867,     0.66967,     0.67067,     0.67167,\n",
       "           0.67267,     0.67367,     0.67467,     0.67568,     0.67668,     0.67768,     0.67868,     0.67968,     0.68068,     0.68168,     0.68268,     0.68368,     0.68468,     0.68569,     0.68669,     0.68769,     0.68869,     0.68969,     0.69069,     0.69169,     0.69269,     0.69369,     0.69469,      0.6957,\n",
       "            0.6967,      0.6977,      0.6987,      0.6997,      0.7007,      0.7017,      0.7027,      0.7037,      0.7047,     0.70571,     0.70671,     0.70771,     0.70871,     0.70971,     0.71071,     0.71171,     0.71271,     0.71371,     0.71471,     0.71572,     0.71672,     0.71772,     0.71872,     0.71972,\n",
       "           0.72072,     0.72172,     0.72272,     0.72372,     0.72472,     0.72573,     0.72673,     0.72773,     0.72873,     0.72973,     0.73073,     0.73173,     0.73273,     0.73373,     0.73473,     0.73574,     0.73674,     0.73774,     0.73874,     0.73974,     0.74074,     0.74174,     0.74274,     0.74374,\n",
       "           0.74474,     0.74575,     0.74675,     0.74775,     0.74875,     0.74975,     0.75075,     0.75175,     0.75275,     0.75375,     0.75475,     0.75576,     0.75676,     0.75776,     0.75876,     0.75976,     0.76076,     0.76176,     0.76276,     0.76376,     0.76476,     0.76577,     0.76677,     0.76777,\n",
       "           0.76877,     0.76977,     0.77077,     0.77177,     0.77277,     0.77377,     0.77477,     0.77578,     0.77678,     0.77778,     0.77878,     0.77978,     0.78078,     0.78178,     0.78278,     0.78378,     0.78478,     0.78579,     0.78679,     0.78779,     0.78879,     0.78979,     0.79079,     0.79179,\n",
       "           0.79279,     0.79379,     0.79479,      0.7958,      0.7968,      0.7978,      0.7988,      0.7998,      0.8008,      0.8018,      0.8028,      0.8038,      0.8048,     0.80581,     0.80681,     0.80781,     0.80881,     0.80981,     0.81081,     0.81181,     0.81281,     0.81381,     0.81481,     0.81582,\n",
       "           0.81682,     0.81782,     0.81882,     0.81982,     0.82082,     0.82182,     0.82282,     0.82382,     0.82482,     0.82583,     0.82683,     0.82783,     0.82883,     0.82983,     0.83083,     0.83183,     0.83283,     0.83383,     0.83483,     0.83584,     0.83684,     0.83784,     0.83884,     0.83984,\n",
       "           0.84084,     0.84184,     0.84284,     0.84384,     0.84484,     0.84585,     0.84685,     0.84785,     0.84885,     0.84985,     0.85085,     0.85185,     0.85285,     0.85385,     0.85485,     0.85586,     0.85686,     0.85786,     0.85886,     0.85986,     0.86086,     0.86186,     0.86286,     0.86386,\n",
       "           0.86486,     0.86587,     0.86687,     0.86787,     0.86887,     0.86987,     0.87087,     0.87187,     0.87287,     0.87387,     0.87487,     0.87588,     0.87688,     0.87788,     0.87888,     0.87988,     0.88088,     0.88188,     0.88288,     0.88388,     0.88488,     0.88589,     0.88689,     0.88789,\n",
       "           0.88889,     0.88989,     0.89089,     0.89189,     0.89289,     0.89389,     0.89489,      0.8959,      0.8969,      0.8979,      0.8989,      0.8999,      0.9009,      0.9019,      0.9029,      0.9039,      0.9049,     0.90591,     0.90691,     0.90791,     0.90891,     0.90991,     0.91091,     0.91191,\n",
       "           0.91291,     0.91391,     0.91491,     0.91592,     0.91692,     0.91792,     0.91892,     0.91992,     0.92092,     0.92192,     0.92292,     0.92392,     0.92492,     0.92593,     0.92693,     0.92793,     0.92893,     0.92993,     0.93093,     0.93193,     0.93293,     0.93393,     0.93493,     0.93594,\n",
       "           0.93694,     0.93794,     0.93894,     0.93994,     0.94094,     0.94194,     0.94294,     0.94394,     0.94494,     0.94595,     0.94695,     0.94795,     0.94895,     0.94995,     0.95095,     0.95195,     0.95295,     0.95395,     0.95495,     0.95596,     0.95696,     0.95796,     0.95896,     0.95996,\n",
       "           0.96096,     0.96196,     0.96296,     0.96396,     0.96496,     0.96597,     0.96697,     0.96797,     0.96897,     0.96997,     0.97097,     0.97197,     0.97297,     0.97397,     0.97497,     0.97598,     0.97698,     0.97798,     0.97898,     0.97998,     0.98098,     0.98198,     0.98298,     0.98398,\n",
       "           0.98498,     0.98599,     0.98699,     0.98799,     0.98899,     0.98999,     0.99099,     0.99199,     0.99299,     0.99399,     0.99499,       0.996,       0.997,       0.998,       0.999,           1]), array([[  0.0088531,   0.0088604,    0.018982,    0.029224,    0.035929,    0.041694,    0.047098,     0.05223,    0.056807,    0.061269,    0.064194,    0.067684,    0.072162,    0.073361,    0.076645,     0.07968,    0.083851,    0.086299,    0.089743,    0.092882,    0.097302,     0.10251,     0.10621,\n",
       "            0.10972,      0.1123,     0.11553,      0.1192,     0.12054,     0.12366,     0.12694,     0.13019,     0.13107,     0.13404,     0.13576,     0.13827,     0.13909,     0.13995,     0.14405,     0.14686,     0.14851,     0.15082,     0.15337,     0.15578,     0.15753,     0.15881,     0.16241,\n",
       "            0.16233,     0.16513,     0.16845,     0.16824,     0.17146,       0.174,     0.17787,     0.18144,     0.18263,     0.18287,     0.18462,     0.18796,     0.18462,     0.18695,      0.1893,     0.19307,     0.19676,     0.19934,     0.20258,     0.20369,     0.20509,     0.20661,     0.20842,\n",
       "             0.2089,     0.20984,     0.21209,     0.21401,     0.21656,     0.21929,     0.22391,     0.22561,     0.22751,     0.22889,     0.23198,     0.23543,     0.23859,     0.23967,     0.24383,     0.24607,     0.24654,     0.24482,     0.24559,     0.24859,     0.25045,     0.25201,      0.2579,\n",
       "            0.26041,     0.26285,     0.26361,     0.26522,     0.26762,     0.26842,     0.27345,     0.27714,     0.28237,     0.28117,     0.28398,     0.28555,     0.28744,     0.28849,     0.28664,     0.28803,     0.28918,     0.28982,     0.29147,     0.29832,     0.30438,     0.30536,     0.30682,\n",
       "            0.30901,     0.31058,     0.31521,     0.31762,     0.31517,     0.31528,     0.31846,     0.32235,     0.32398,      0.3271,     0.33108,     0.33461,     0.33688,      0.3354,     0.33393,      0.3363,     0.33774,     0.33875,     0.33991,     0.34225,     0.34427,     0.34511,     0.34594,\n",
       "            0.34518,     0.34669,     0.34809,     0.34943,     0.35071,     0.35232,     0.35519,     0.35788,     0.36096,      0.3634,     0.36876,     0.37572,     0.37329,     0.36964,     0.37023,     0.37081,      0.3714,     0.37198,     0.37333,     0.37573,     0.37826,     0.37919,     0.38013,\n",
       "            0.38171,       0.379,     0.38303,     0.37904,     0.37747,      0.3759,     0.37564,     0.37713,      0.3789,     0.38098,     0.38191,     0.38284,     0.38376,     0.38532,     0.38709,     0.38967,     0.39362,     0.39428,     0.39495,     0.39562,     0.39629,     0.39979,     0.40133,\n",
       "             0.4027,     0.40702,     0.40782,     0.40862,     0.40942,     0.41022,     0.41311,     0.41458,      0.4156,     0.41663,     0.41783,     0.41959,     0.42116,     0.42178,     0.42241,     0.42303,     0.42366,     0.42428,     0.42707,     0.43128,      0.4333,     0.43468,     0.43606,\n",
       "            0.44098,     0.44413,     0.44511,     0.44586,      0.4466,     0.44735,     0.44809,     0.45311,     0.45541,     0.45844,     0.46582,     0.46794,     0.46989,     0.47309,     0.48211,     0.47742,     0.47902,     0.48043,     0.48171,     0.48299,     0.48431,     0.48684,     0.48935,\n",
       "            0.48589,     0.49794,     0.50152,     0.50328,     0.50505,     0.51017,     0.51072,     0.50995,     0.50917,     0.50839,     0.50761,     0.50683,     0.50606,     0.50618,     0.50691,     0.50764,     0.50836,     0.50909,     0.50981,     0.51054,     0.51127,     0.51103,     0.50983,\n",
       "            0.50863,     0.50743,     0.50623,     0.50496,     0.50366,     0.50236,     0.50106,     0.49866,     0.49495,      0.4978,     0.50044,      0.5024,     0.50435,     0.50621,     0.50677,     0.50733,     0.50789,     0.50845,     0.50901,     0.50957,     0.51014,      0.5107,     0.51126,\n",
       "            0.51182,     0.51238,     0.51335,     0.51444,     0.51553,     0.51662,     0.51771,      0.5188,     0.52055,     0.52244,     0.52432,     0.53259,     0.53344,     0.53428,     0.53512,     0.53597,     0.53681,     0.53766,      0.5385,     0.53934,     0.54057,     0.54186,     0.54316,\n",
       "            0.54445,     0.54575,     0.54728,     0.54941,     0.55155,     0.55368,     0.55585,     0.55803,     0.56021,     0.56127,     0.56018,     0.55908,     0.55799,     0.55689,      0.5558,     0.55705,     0.55897,     0.56089,     0.56282,     0.56389,     0.56461,     0.56532,     0.56604,\n",
       "            0.56676,     0.56748,      0.5682,     0.56891,     0.56963,     0.57035,     0.57107,     0.57271,     0.57528,     0.57785,     0.58016,     0.58179,     0.58341,     0.58504,     0.58667,       0.588,     0.58192,     0.57979,     0.57765,     0.57607,      0.5788,     0.58154,     0.58428,\n",
       "            0.58497,     0.58538,     0.58579,      0.5862,     0.58661,     0.58702,     0.58743,     0.58784,     0.58825,     0.58866,     0.58907,     0.58948,     0.58988,     0.59029,      0.5907,     0.59111,     0.59152,     0.59193,     0.59234,     0.59275,     0.59316,     0.59357,     0.60099,\n",
       "            0.59662,      0.5906,     0.59138,     0.59216,     0.59294,     0.59372,     0.59451,     0.59529,     0.59607,     0.59685,     0.59764,     0.59842,      0.5992,     0.59998,     0.59825,     0.59645,     0.59466,     0.59346,     0.59468,     0.59589,     0.59711,     0.59833,     0.59955,\n",
       "            0.60076,     0.60198,      0.6032,     0.61215,     0.62537,     0.62792,     0.63047,     0.63302,     0.63557,     0.63595,     0.63535,     0.63475,     0.63414,     0.63354,     0.63294,     0.63234,     0.63174,     0.63114,     0.63053,     0.62993,     0.63235,     0.63784,     0.64134,\n",
       "            0.64081,     0.64029,     0.63976,     0.63924,     0.63871,     0.63819,     0.63766,     0.63714,     0.63661,     0.63609,     0.63557,     0.63504,     0.63395,     0.63044,     0.62801,     0.63174,     0.63548,     0.63921,      0.6534,     0.65646,     0.65952,     0.66259,     0.66565,\n",
       "            0.66872,      0.6718,     0.67489,     0.67797,      0.6808,     0.68006,     0.67931,     0.67857,     0.67783,     0.67708,     0.67634,     0.67559,     0.67485,      0.6741,     0.66626,     0.66529,     0.66432,     0.66335,     0.66239,     0.66142,     0.66045,     0.65948,     0.67336,\n",
       "            0.67127,     0.66919,      0.6671,     0.66576,     0.66462,     0.66348,     0.66234,      0.6612,     0.66006,     0.65892,     0.64958,     0.64635,     0.64312,     0.64332,     0.64988,     0.65644,     0.65874,     0.65983,     0.66092,     0.66201,     0.66309,     0.66418,     0.66527,\n",
       "            0.66636,     0.66745,     0.66854,     0.66962,     0.67071,      0.6718,     0.67289,     0.67398,     0.67507,     0.67611,      0.6771,     0.67809,     0.67907,     0.68006,     0.68105,     0.68204,     0.68302,     0.68401,       0.685,     0.68599,     0.68697,     0.68796,     0.68895,\n",
       "            0.68994,     0.69092,     0.69191,      0.6929,     0.69389,     0.68977,     0.70377,     0.71432,     0.72425,       0.729,     0.73149,     0.73398,     0.73647,     0.73896,     0.74145,     0.74394,     0.74643,     0.74892,     0.74981,     0.74948,     0.74915,     0.74883,      0.7485,\n",
       "            0.74817,     0.74784,     0.74751,     0.74718,     0.74685,     0.74652,     0.74619,     0.74586,     0.74553,      0.7452,     0.74488,     0.74455,     0.74422,     0.74389,     0.74356,     0.74323,      0.7429,     0.74257,     0.74224,     0.74213,     0.74482,      0.7475,     0.75019,\n",
       "            0.75288,     0.75557,     0.75826,     0.76095,     0.76364,     0.76633,     0.76356,     0.76001,     0.75916,     0.76003,     0.76091,     0.76179,     0.76267,     0.76355,     0.76443,     0.76531,     0.76619,     0.76707,     0.76795,     0.76882,      0.7697,     0.77058,     0.77146,\n",
       "            0.77234,     0.77322,      0.7741,     0.77498,     0.77586,     0.77673,     0.77761,     0.77849,     0.77937,     0.78025,     0.78113,     0.78201,     0.78289,     0.78377,     0.78465,     0.78552,      0.7851,     0.78432,     0.78354,     0.78275,     0.78197,     0.78119,      0.7804,\n",
       "            0.77962,     0.77884,     0.77806,     0.77738,     0.77676,     0.77614,     0.77552,      0.7749,     0.77428,     0.77366,     0.77304,     0.77242,      0.7718,     0.77118,     0.77056,     0.76994,     0.76932,     0.77171,     0.77461,     0.77751,     0.78042,     0.78332,     0.78622,\n",
       "            0.78912,     0.79202,     0.79492,     0.79782,     0.79977,     0.79883,      0.7979,     0.79696,     0.79603,     0.79509,     0.79416,     0.79322,     0.79229,     0.79154,     0.79117,      0.7908,     0.79043,     0.79006,     0.78969,     0.78932,     0.78895,     0.78857,      0.7882,\n",
       "            0.78783,     0.78746,     0.78709,     0.78672,     0.78635,     0.78598,     0.78561,     0.78524,     0.78487,     0.78449,     0.78412,     0.78375,     0.78338,     0.78301,     0.78264,     0.77464,     0.77816,     0.78168,      0.7852,     0.78872,     0.79224,     0.79576,     0.79928,\n",
       "             0.8028,     0.80632,     0.81003,     0.81558,     0.82113,     0.82668,     0.83223,     0.83778,     0.84333,     0.84888,     0.84966,     0.84924,     0.84881,     0.84839,     0.84797,     0.84754,     0.84712,     0.84669,     0.84627,     0.84585,     0.84542,       0.845,     0.84457,\n",
       "            0.84415,     0.84373,      0.8433,     0.84288,     0.84245,     0.84429,     0.85676,     0.86922,     0.88169,     0.89681,     0.91554,     0.93427,      0.9411,     0.94098,     0.94086,     0.94074,     0.94062,      0.9405,     0.94038,     0.94026,     0.94013,     0.94001,     0.93989,\n",
       "            0.93977,     0.93965,     0.93953,     0.93941,     0.93929,     0.93917,     0.93905,     0.93893,     0.93881,     0.93869,     0.93856,     0.93844,     0.93832,      0.9382,     0.93808,     0.93796,     0.93784,     0.93772,      0.9376,     0.93747,     0.93731,     0.93714,     0.93698,\n",
       "            0.93682,     0.93665,     0.93649,     0.93633,     0.93616,       0.936,     0.93584,     0.93567,     0.93551,     0.93534,     0.93518,     0.93502,     0.93485,     0.93469,     0.93453,     0.93436,      0.9342,     0.93404,     0.93387,     0.93371,     0.93355,     0.93338,     0.93036,\n",
       "            0.92826,     0.92771,     0.92717,     0.92662,     0.92608,     0.92553,     0.92498,     0.92444,     0.92389,     0.92335,     0.92288,     0.92249,     0.92209,      0.9217,     0.92131,     0.92091,     0.92052,     0.92013,     0.91973,     0.91934,     0.91895,     0.91855,     0.91816,\n",
       "            0.91777,     0.91737,     0.91698,     0.91626,     0.91431,     0.91236,     0.91041,     0.90868,     0.90741,     0.90614,     0.90487,     0.90361,     0.90234,     0.90107,     0.89953,     0.89653,     0.89352,     0.89051,     0.88472,     0.87567,     0.87415,     0.87322,      0.8723,\n",
       "            0.87138,     0.87045,     0.86953,     0.86861,     0.86768,     0.86676,     0.86584,     0.86492,     0.86399,     0.86307,     0.86215,     0.86122,      0.8603,     0.85938,     0.85845,     0.85753,      0.8566,     0.85566,     0.85473,     0.85379,     0.85285,     0.85191,     0.85098,\n",
       "            0.85004,      0.8491,     0.84817,     0.84723,     0.84629,     0.84535,     0.84442,     0.84348,     0.84254,     0.84161,     0.84067,     0.83973,     0.83879,     0.83786,     0.83692,     0.83598,     0.83505,     0.83411,     0.81744,     0.79879,     0.79729,      0.7958,      0.7943,\n",
       "            0.79281,     0.79132,     0.78982,     0.78833,     0.78683,     0.78534,     0.78384,     0.78235,     0.78086,     0.77936,     0.77787,     0.77637,     0.77488,     0.77338,     0.77189,     0.77039,      0.7689,     0.76741,     0.76591,     0.76442,     0.76292,     0.76143,     0.75993,\n",
       "            0.75844,     0.75694,     0.75545,     0.75396,     0.75246,     0.75097,     0.75229,      0.7588,      0.7653,      0.7718,      0.7783,      0.7848,      0.7913,     0.79781,     0.80431,     0.81081,     0.81731,     0.82381,     0.83031,     0.83682,     0.84332,     0.84982,     0.85632,\n",
       "            0.86282,     0.86932,     0.87583,     0.88233,     0.88883,     0.89533,     0.90183,     0.90833,     0.91484,     0.92134,     0.92784,     0.93434,     0.94084,     0.94734,     0.95385,     0.96035,     0.96685,     0.97335,     0.97985,     0.98635,     0.99286,     0.99936,           1,\n",
       "                  1,           1,           1,           1,           1,           1,           1,           1,           1,           1,           1,           1,           1,           1,           1,           1,           1,           1,           1,           1,           1,           1,           1,\n",
       "                  1,           1,           1,           1,           1,           1,           1,           1,           1,           1,           1,           1,           1,           1,           1,           1,           1,           1,           1,           1,           1,           1,           1,\n",
       "                  1,           1,           1,           1,           1,           1,           1,           1,           1,           1,           1,           1,           1,           1,           1,           1,           1,           1,           1,           1,           1,           1,           1,\n",
       "                  1,           1,           1,           1,           1,           1,           1,           1,           1,           1,           1]]), 'Confidence', 'Precision'], [array([          0,    0.001001,    0.002002,    0.003003,    0.004004,    0.005005,    0.006006,    0.007007,    0.008008,    0.009009,     0.01001,    0.011011,    0.012012,    0.013013,    0.014014,    0.015015,    0.016016,    0.017017,    0.018018,    0.019019,     0.02002,    0.021021,    0.022022,    0.023023,\n",
       "          0.024024,    0.025025,    0.026026,    0.027027,    0.028028,    0.029029,     0.03003,    0.031031,    0.032032,    0.033033,    0.034034,    0.035035,    0.036036,    0.037037,    0.038038,    0.039039,     0.04004,    0.041041,    0.042042,    0.043043,    0.044044,    0.045045,    0.046046,    0.047047,\n",
       "          0.048048,    0.049049,     0.05005,    0.051051,    0.052052,    0.053053,    0.054054,    0.055055,    0.056056,    0.057057,    0.058058,    0.059059,     0.06006,    0.061061,    0.062062,    0.063063,    0.064064,    0.065065,    0.066066,    0.067067,    0.068068,    0.069069,     0.07007,    0.071071,\n",
       "          0.072072,    0.073073,    0.074074,    0.075075,    0.076076,    0.077077,    0.078078,    0.079079,     0.08008,    0.081081,    0.082082,    0.083083,    0.084084,    0.085085,    0.086086,    0.087087,    0.088088,    0.089089,     0.09009,    0.091091,    0.092092,    0.093093,    0.094094,    0.095095,\n",
       "          0.096096,    0.097097,    0.098098,    0.099099,      0.1001,      0.1011,      0.1021,      0.1031,      0.1041,     0.10511,     0.10611,     0.10711,     0.10811,     0.10911,     0.11011,     0.11111,     0.11211,     0.11311,     0.11411,     0.11512,     0.11612,     0.11712,     0.11812,     0.11912,\n",
       "           0.12012,     0.12112,     0.12212,     0.12312,     0.12412,     0.12513,     0.12613,     0.12713,     0.12813,     0.12913,     0.13013,     0.13113,     0.13213,     0.13313,     0.13413,     0.13514,     0.13614,     0.13714,     0.13814,     0.13914,     0.14014,     0.14114,     0.14214,     0.14314,\n",
       "           0.14414,     0.14515,     0.14615,     0.14715,     0.14815,     0.14915,     0.15015,     0.15115,     0.15215,     0.15315,     0.15415,     0.15516,     0.15616,     0.15716,     0.15816,     0.15916,     0.16016,     0.16116,     0.16216,     0.16316,     0.16416,     0.16517,     0.16617,     0.16717,\n",
       "           0.16817,     0.16917,     0.17017,     0.17117,     0.17217,     0.17317,     0.17417,     0.17518,     0.17618,     0.17718,     0.17818,     0.17918,     0.18018,     0.18118,     0.18218,     0.18318,     0.18418,     0.18519,     0.18619,     0.18719,     0.18819,     0.18919,     0.19019,     0.19119,\n",
       "           0.19219,     0.19319,     0.19419,      0.1952,      0.1962,      0.1972,      0.1982,      0.1992,      0.2002,      0.2012,      0.2022,      0.2032,      0.2042,     0.20521,     0.20621,     0.20721,     0.20821,     0.20921,     0.21021,     0.21121,     0.21221,     0.21321,     0.21421,     0.21522,\n",
       "           0.21622,     0.21722,     0.21822,     0.21922,     0.22022,     0.22122,     0.22222,     0.22322,     0.22422,     0.22523,     0.22623,     0.22723,     0.22823,     0.22923,     0.23023,     0.23123,     0.23223,     0.23323,     0.23423,     0.23524,     0.23624,     0.23724,     0.23824,     0.23924,\n",
       "           0.24024,     0.24124,     0.24224,     0.24324,     0.24424,     0.24525,     0.24625,     0.24725,     0.24825,     0.24925,     0.25025,     0.25125,     0.25225,     0.25325,     0.25425,     0.25526,     0.25626,     0.25726,     0.25826,     0.25926,     0.26026,     0.26126,     0.26226,     0.26326,\n",
       "           0.26426,     0.26527,     0.26627,     0.26727,     0.26827,     0.26927,     0.27027,     0.27127,     0.27227,     0.27327,     0.27427,     0.27528,     0.27628,     0.27728,     0.27828,     0.27928,     0.28028,     0.28128,     0.28228,     0.28328,     0.28428,     0.28529,     0.28629,     0.28729,\n",
       "           0.28829,     0.28929,     0.29029,     0.29129,     0.29229,     0.29329,     0.29429,      0.2953,      0.2963,      0.2973,      0.2983,      0.2993,      0.3003,      0.3013,      0.3023,      0.3033,      0.3043,     0.30531,     0.30631,     0.30731,     0.30831,     0.30931,     0.31031,     0.31131,\n",
       "           0.31231,     0.31331,     0.31431,     0.31532,     0.31632,     0.31732,     0.31832,     0.31932,     0.32032,     0.32132,     0.32232,     0.32332,     0.32432,     0.32533,     0.32633,     0.32733,     0.32833,     0.32933,     0.33033,     0.33133,     0.33233,     0.33333,     0.33433,     0.33534,\n",
       "           0.33634,     0.33734,     0.33834,     0.33934,     0.34034,     0.34134,     0.34234,     0.34334,     0.34434,     0.34535,     0.34635,     0.34735,     0.34835,     0.34935,     0.35035,     0.35135,     0.35235,     0.35335,     0.35435,     0.35536,     0.35636,     0.35736,     0.35836,     0.35936,\n",
       "           0.36036,     0.36136,     0.36236,     0.36336,     0.36436,     0.36537,     0.36637,     0.36737,     0.36837,     0.36937,     0.37037,     0.37137,     0.37237,     0.37337,     0.37437,     0.37538,     0.37638,     0.37738,     0.37838,     0.37938,     0.38038,     0.38138,     0.38238,     0.38338,\n",
       "           0.38438,     0.38539,     0.38639,     0.38739,     0.38839,     0.38939,     0.39039,     0.39139,     0.39239,     0.39339,     0.39439,      0.3954,      0.3964,      0.3974,      0.3984,      0.3994,      0.4004,      0.4014,      0.4024,      0.4034,      0.4044,     0.40541,     0.40641,     0.40741,\n",
       "           0.40841,     0.40941,     0.41041,     0.41141,     0.41241,     0.41341,     0.41441,     0.41542,     0.41642,     0.41742,     0.41842,     0.41942,     0.42042,     0.42142,     0.42242,     0.42342,     0.42442,     0.42543,     0.42643,     0.42743,     0.42843,     0.42943,     0.43043,     0.43143,\n",
       "           0.43243,     0.43343,     0.43443,     0.43544,     0.43644,     0.43744,     0.43844,     0.43944,     0.44044,     0.44144,     0.44244,     0.44344,     0.44444,     0.44545,     0.44645,     0.44745,     0.44845,     0.44945,     0.45045,     0.45145,     0.45245,     0.45345,     0.45445,     0.45546,\n",
       "           0.45646,     0.45746,     0.45846,     0.45946,     0.46046,     0.46146,     0.46246,     0.46346,     0.46446,     0.46547,     0.46647,     0.46747,     0.46847,     0.46947,     0.47047,     0.47147,     0.47247,     0.47347,     0.47447,     0.47548,     0.47648,     0.47748,     0.47848,     0.47948,\n",
       "           0.48048,     0.48148,     0.48248,     0.48348,     0.48448,     0.48549,     0.48649,     0.48749,     0.48849,     0.48949,     0.49049,     0.49149,     0.49249,     0.49349,     0.49449,      0.4955,      0.4965,      0.4975,      0.4985,      0.4995,      0.5005,      0.5015,      0.5025,      0.5035,\n",
       "            0.5045,     0.50551,     0.50651,     0.50751,     0.50851,     0.50951,     0.51051,     0.51151,     0.51251,     0.51351,     0.51451,     0.51552,     0.51652,     0.51752,     0.51852,     0.51952,     0.52052,     0.52152,     0.52252,     0.52352,     0.52452,     0.52553,     0.52653,     0.52753,\n",
       "           0.52853,     0.52953,     0.53053,     0.53153,     0.53253,     0.53353,     0.53453,     0.53554,     0.53654,     0.53754,     0.53854,     0.53954,     0.54054,     0.54154,     0.54254,     0.54354,     0.54454,     0.54555,     0.54655,     0.54755,     0.54855,     0.54955,     0.55055,     0.55155,\n",
       "           0.55255,     0.55355,     0.55455,     0.55556,     0.55656,     0.55756,     0.55856,     0.55956,     0.56056,     0.56156,     0.56256,     0.56356,     0.56456,     0.56557,     0.56657,     0.56757,     0.56857,     0.56957,     0.57057,     0.57157,     0.57257,     0.57357,     0.57457,     0.57558,\n",
       "           0.57658,     0.57758,     0.57858,     0.57958,     0.58058,     0.58158,     0.58258,     0.58358,     0.58458,     0.58559,     0.58659,     0.58759,     0.58859,     0.58959,     0.59059,     0.59159,     0.59259,     0.59359,     0.59459,      0.5956,      0.5966,      0.5976,      0.5986,      0.5996,\n",
       "            0.6006,      0.6016,      0.6026,      0.6036,      0.6046,     0.60561,     0.60661,     0.60761,     0.60861,     0.60961,     0.61061,     0.61161,     0.61261,     0.61361,     0.61461,     0.61562,     0.61662,     0.61762,     0.61862,     0.61962,     0.62062,     0.62162,     0.62262,     0.62362,\n",
       "           0.62462,     0.62563,     0.62663,     0.62763,     0.62863,     0.62963,     0.63063,     0.63163,     0.63263,     0.63363,     0.63463,     0.63564,     0.63664,     0.63764,     0.63864,     0.63964,     0.64064,     0.64164,     0.64264,     0.64364,     0.64464,     0.64565,     0.64665,     0.64765,\n",
       "           0.64865,     0.64965,     0.65065,     0.65165,     0.65265,     0.65365,     0.65465,     0.65566,     0.65666,     0.65766,     0.65866,     0.65966,     0.66066,     0.66166,     0.66266,     0.66366,     0.66466,     0.66567,     0.66667,     0.66767,     0.66867,     0.66967,     0.67067,     0.67167,\n",
       "           0.67267,     0.67367,     0.67467,     0.67568,     0.67668,     0.67768,     0.67868,     0.67968,     0.68068,     0.68168,     0.68268,     0.68368,     0.68468,     0.68569,     0.68669,     0.68769,     0.68869,     0.68969,     0.69069,     0.69169,     0.69269,     0.69369,     0.69469,      0.6957,\n",
       "            0.6967,      0.6977,      0.6987,      0.6997,      0.7007,      0.7017,      0.7027,      0.7037,      0.7047,     0.70571,     0.70671,     0.70771,     0.70871,     0.70971,     0.71071,     0.71171,     0.71271,     0.71371,     0.71471,     0.71572,     0.71672,     0.71772,     0.71872,     0.71972,\n",
       "           0.72072,     0.72172,     0.72272,     0.72372,     0.72472,     0.72573,     0.72673,     0.72773,     0.72873,     0.72973,     0.73073,     0.73173,     0.73273,     0.73373,     0.73473,     0.73574,     0.73674,     0.73774,     0.73874,     0.73974,     0.74074,     0.74174,     0.74274,     0.74374,\n",
       "           0.74474,     0.74575,     0.74675,     0.74775,     0.74875,     0.74975,     0.75075,     0.75175,     0.75275,     0.75375,     0.75475,     0.75576,     0.75676,     0.75776,     0.75876,     0.75976,     0.76076,     0.76176,     0.76276,     0.76376,     0.76476,     0.76577,     0.76677,     0.76777,\n",
       "           0.76877,     0.76977,     0.77077,     0.77177,     0.77277,     0.77377,     0.77477,     0.77578,     0.77678,     0.77778,     0.77878,     0.77978,     0.78078,     0.78178,     0.78278,     0.78378,     0.78478,     0.78579,     0.78679,     0.78779,     0.78879,     0.78979,     0.79079,     0.79179,\n",
       "           0.79279,     0.79379,     0.79479,      0.7958,      0.7968,      0.7978,      0.7988,      0.7998,      0.8008,      0.8018,      0.8028,      0.8038,      0.8048,     0.80581,     0.80681,     0.80781,     0.80881,     0.80981,     0.81081,     0.81181,     0.81281,     0.81381,     0.81481,     0.81582,\n",
       "           0.81682,     0.81782,     0.81882,     0.81982,     0.82082,     0.82182,     0.82282,     0.82382,     0.82482,     0.82583,     0.82683,     0.82783,     0.82883,     0.82983,     0.83083,     0.83183,     0.83283,     0.83383,     0.83483,     0.83584,     0.83684,     0.83784,     0.83884,     0.83984,\n",
       "           0.84084,     0.84184,     0.84284,     0.84384,     0.84484,     0.84585,     0.84685,     0.84785,     0.84885,     0.84985,     0.85085,     0.85185,     0.85285,     0.85385,     0.85485,     0.85586,     0.85686,     0.85786,     0.85886,     0.85986,     0.86086,     0.86186,     0.86286,     0.86386,\n",
       "           0.86486,     0.86587,     0.86687,     0.86787,     0.86887,     0.86987,     0.87087,     0.87187,     0.87287,     0.87387,     0.87487,     0.87588,     0.87688,     0.87788,     0.87888,     0.87988,     0.88088,     0.88188,     0.88288,     0.88388,     0.88488,     0.88589,     0.88689,     0.88789,\n",
       "           0.88889,     0.88989,     0.89089,     0.89189,     0.89289,     0.89389,     0.89489,      0.8959,      0.8969,      0.8979,      0.8989,      0.8999,      0.9009,      0.9019,      0.9029,      0.9039,      0.9049,     0.90591,     0.90691,     0.90791,     0.90891,     0.90991,     0.91091,     0.91191,\n",
       "           0.91291,     0.91391,     0.91491,     0.91592,     0.91692,     0.91792,     0.91892,     0.91992,     0.92092,     0.92192,     0.92292,     0.92392,     0.92492,     0.92593,     0.92693,     0.92793,     0.92893,     0.92993,     0.93093,     0.93193,     0.93293,     0.93393,     0.93493,     0.93594,\n",
       "           0.93694,     0.93794,     0.93894,     0.93994,     0.94094,     0.94194,     0.94294,     0.94394,     0.94494,     0.94595,     0.94695,     0.94795,     0.94895,     0.94995,     0.95095,     0.95195,     0.95295,     0.95395,     0.95495,     0.95596,     0.95696,     0.95796,     0.95896,     0.95996,\n",
       "           0.96096,     0.96196,     0.96296,     0.96396,     0.96496,     0.96597,     0.96697,     0.96797,     0.96897,     0.96997,     0.97097,     0.97197,     0.97297,     0.97397,     0.97497,     0.97598,     0.97698,     0.97798,     0.97898,     0.97998,     0.98098,     0.98198,     0.98298,     0.98398,\n",
       "           0.98498,     0.98599,     0.98699,     0.98799,     0.98899,     0.98999,     0.99099,     0.99199,     0.99299,     0.99399,     0.99499,       0.996,       0.997,       0.998,       0.999,           1]), array([[    0.66667,     0.66667,     0.62879,     0.61364,     0.61364,     0.60606,     0.60606,     0.60606,     0.59848,     0.59848,     0.59091,     0.58333,     0.58333,     0.56818,     0.56818,     0.56818,     0.56818,     0.56818,     0.56061,     0.56061,     0.56061,     0.56061,     0.56061,\n",
       "            0.56061,     0.55303,     0.55303,     0.55303,     0.54545,     0.54545,     0.54545,     0.54545,     0.53788,     0.53788,     0.53788,     0.53788,     0.53788,      0.5303,      0.5303,      0.5303,      0.5303,      0.5303,      0.5303,      0.5303,     0.51515,     0.51515,     0.51515,\n",
       "            0.50758,     0.50758,     0.50758,         0.5,         0.5,         0.5,         0.5,         0.5,     0.49242,     0.48485,     0.48485,     0.48485,      0.4697,      0.4697,      0.4697,      0.4697,      0.4697,      0.4697,      0.4697,     0.46212,     0.46212,     0.46212,     0.46212,\n",
       "            0.45211,     0.44697,     0.44697,     0.44697,     0.44697,     0.44697,     0.44697,     0.44697,     0.44697,     0.44697,     0.44697,     0.44697,     0.44697,     0.44697,     0.44697,     0.44697,     0.44697,     0.43939,     0.43939,     0.43939,     0.43939,     0.43939,     0.43939,\n",
       "            0.43939,     0.43939,     0.43939,     0.43939,     0.43939,     0.43939,     0.43939,     0.43939,      0.4382,     0.43182,     0.43182,     0.43182,     0.43182,     0.43005,     0.42617,     0.42424,     0.42424,     0.42424,     0.42424,     0.42424,     0.42424,     0.42424,     0.42424,\n",
       "            0.42424,     0.42424,     0.42424,     0.42424,     0.41838,     0.41667,     0.41667,     0.41667,     0.41667,     0.41667,     0.41667,     0.41667,     0.41565,     0.41292,     0.41019,     0.40909,     0.40909,     0.40909,     0.40909,     0.40909,     0.40909,     0.40909,     0.40909,\n",
       "            0.40152,     0.40152,     0.40152,     0.40152,     0.40152,     0.40152,     0.40152,     0.40152,     0.40152,     0.40152,     0.40152,     0.40123,     0.39258,     0.38636,     0.38636,     0.38636,     0.38636,     0.38636,     0.38636,     0.38636,     0.38636,     0.38636,     0.38636,\n",
       "            0.38636,     0.37879,     0.37879,     0.36996,      0.3675,     0.36504,     0.36364,     0.36364,     0.36364,     0.36364,     0.36364,     0.36364,     0.36364,     0.36364,     0.36364,     0.36364,     0.36364,     0.36364,     0.36364,     0.36364,     0.36364,     0.36364,     0.36364,\n",
       "            0.36364,     0.36364,     0.36364,     0.36364,     0.36364,     0.36364,     0.36364,     0.36364,     0.36364,     0.36364,     0.36364,     0.36364,     0.36364,     0.36364,     0.36364,     0.36364,     0.36364,     0.36364,     0.36364,     0.36364,     0.36364,     0.36364,     0.36364,\n",
       "            0.36364,     0.36364,     0.36364,     0.36364,     0.36364,     0.36364,     0.36364,     0.36364,     0.36364,     0.36364,     0.36364,     0.36364,     0.36364,     0.36364,     0.36364,     0.35299,     0.34848,     0.34848,     0.34848,     0.34848,     0.34848,     0.34848,     0.34847,\n",
       "            0.34091,     0.34091,     0.34091,     0.34091,     0.34091,     0.34091,     0.34005,       0.339,     0.33795,      0.3369,     0.33585,      0.3348,     0.33375,     0.33333,     0.33333,     0.33333,     0.33333,     0.33333,     0.33333,     0.33333,     0.33333,     0.33254,     0.33096,\n",
       "            0.32938,     0.32779,     0.32621,     0.32456,     0.32289,     0.32121,     0.31954,     0.31649,     0.31061,     0.31061,     0.31061,     0.31061,     0.31061,     0.31061,     0.31061,     0.31061,     0.31061,     0.31061,     0.31061,     0.31061,     0.31061,     0.31061,     0.31061,\n",
       "            0.31061,     0.31061,     0.31061,     0.31061,     0.31061,     0.31061,     0.31061,     0.31061,     0.31061,     0.31061,     0.31061,     0.31061,     0.31061,     0.31061,     0.31061,     0.31061,     0.31061,     0.31061,     0.31061,     0.31061,     0.31061,     0.31061,     0.31061,\n",
       "            0.31061,     0.31061,     0.31061,     0.31061,     0.31061,     0.31061,     0.31061,     0.31061,     0.31061,     0.31014,     0.30878,     0.30742,     0.30606,     0.30469,     0.30333,     0.30303,     0.30303,     0.30303,     0.30303,     0.30303,     0.30303,     0.30303,     0.30303,\n",
       "            0.30303,     0.30303,     0.30303,     0.30303,     0.30303,     0.30303,     0.30303,     0.30303,     0.30303,     0.30303,     0.30303,     0.30303,     0.30303,     0.30303,     0.30303,     0.30275,     0.29525,      0.2927,     0.29014,     0.28788,     0.28788,     0.28788,     0.28788,\n",
       "            0.28788,     0.28788,     0.28788,     0.28788,     0.28788,     0.28788,     0.28788,     0.28788,     0.28788,     0.28788,     0.28788,     0.28788,     0.28788,     0.28788,     0.28788,     0.28788,     0.28788,     0.28788,     0.28788,     0.28788,     0.28788,     0.28788,      0.2853,\n",
       "            0.28013,     0.27273,     0.27273,     0.27273,     0.27273,     0.27273,     0.27273,     0.27273,     0.27273,     0.27273,     0.27273,     0.27273,     0.27273,     0.27273,     0.27077,     0.26877,     0.26676,     0.26515,     0.26515,     0.26515,     0.26515,     0.26515,     0.26515,\n",
       "            0.26515,     0.26515,     0.26515,     0.26515,     0.26515,     0.26515,     0.26515,     0.26515,     0.26515,     0.26468,     0.26401,     0.26333,     0.26265,     0.26198,      0.2613,     0.26062,     0.25995,     0.25927,     0.25859,     0.25792,     0.25758,     0.25758,     0.25738,\n",
       "            0.25681,     0.25623,     0.25566,     0.25508,      0.2545,     0.25393,     0.25335,     0.25277,      0.2522,     0.25162,     0.25104,     0.25047,      0.2493,     0.24558,     0.24242,     0.24242,     0.24242,     0.24242,     0.24242,     0.24242,     0.24242,     0.24242,     0.24242,\n",
       "            0.24242,     0.24242,     0.24242,     0.24242,     0.24237,     0.24156,     0.24075,     0.23993,     0.23912,     0.23831,     0.23749,     0.23668,     0.23587,     0.23505,     0.22686,      0.2259,     0.22493,     0.22396,     0.22299,     0.22202,     0.22106,     0.22009,     0.21866,\n",
       "            0.21662,     0.21459,     0.21255,     0.21128,     0.21022,     0.20915,     0.20809,     0.20703,     0.20596,      0.2049,     0.19662,     0.19389,     0.19116,     0.18939,     0.18939,     0.18939,     0.18939,     0.18939,     0.18939,     0.18939,     0.18939,     0.18939,     0.18939,\n",
       "            0.18939,     0.18939,     0.18939,     0.18939,     0.18939,     0.18939,     0.18939,     0.18939,     0.18939,     0.18939,     0.18939,     0.18939,     0.18939,     0.18939,     0.18939,     0.18939,     0.18939,     0.18939,     0.18939,     0.18939,     0.18939,     0.18939,     0.18939,\n",
       "            0.18939,     0.18939,     0.18939,     0.18939,     0.18939,     0.18182,     0.18182,     0.18182,     0.18182,     0.18182,     0.18182,     0.18182,     0.18182,     0.18182,     0.18182,     0.18182,     0.18182,     0.18182,     0.18164,     0.18133,     0.18102,     0.18072,     0.18041,\n",
       "             0.1801,     0.17979,     0.17948,     0.17917,     0.17886,     0.17855,     0.17824,     0.17793,     0.17762,     0.17731,       0.177,     0.17669,     0.17639,     0.17608,     0.17577,     0.17546,     0.17515,     0.17484,     0.17453,     0.17424,     0.17424,     0.17424,     0.17424,\n",
       "            0.17424,     0.17424,     0.17424,     0.17424,     0.17424,     0.17424,     0.17132,     0.16798,     0.16667,     0.16667,     0.16667,     0.16667,     0.16667,     0.16667,     0.16667,     0.16667,     0.16667,     0.16667,     0.16667,     0.16667,     0.16667,     0.16667,     0.16667,\n",
       "            0.16667,     0.16667,     0.16667,     0.16667,     0.16667,     0.16667,     0.16667,     0.16667,     0.16667,     0.16667,     0.16667,     0.16667,     0.16667,     0.16667,     0.16667,     0.16667,     0.16608,     0.16533,     0.16459,     0.16384,     0.16309,     0.16235,      0.1616,\n",
       "            0.16085,      0.1601,     0.15936,     0.15874,     0.15819,     0.15764,     0.15709,     0.15654,     0.15599,     0.15544,     0.15489,     0.15434,     0.15379,     0.15324,     0.15269,     0.15214,     0.15159,     0.15152,     0.15152,     0.15152,     0.15152,     0.15152,     0.15152,\n",
       "            0.15152,     0.15152,     0.15152,     0.15152,      0.1513,     0.15045,      0.1496,     0.14875,      0.1479,     0.14705,      0.1462,     0.14535,      0.1445,     0.14384,     0.14353,     0.14322,      0.1429,     0.14259,     0.14228,     0.14197,     0.14166,     0.14135,     0.14104,\n",
       "            0.14073,     0.14042,     0.14011,      0.1398,     0.13949,     0.13918,     0.13887,     0.13856,     0.13825,     0.13794,     0.13763,     0.13732,     0.13701,      0.1367,     0.13639,     0.12879,     0.12879,     0.12879,     0.12879,     0.12879,     0.12879,     0.12879,     0.12879,\n",
       "            0.12879,     0.12879,     0.12879,     0.12879,     0.12879,     0.12879,     0.12879,     0.12879,     0.12879,     0.12879,     0.12846,     0.12806,     0.12765,     0.12724,     0.12684,     0.12643,     0.12602,     0.12562,     0.12521,      0.1248,      0.1244,     0.12399,     0.12358,\n",
       "            0.12317,     0.12277,     0.12236,     0.12195,     0.12155,     0.12121,     0.12121,     0.12121,     0.12121,     0.12121,     0.12121,     0.12121,     0.12106,     0.12081,     0.12056,     0.12031,     0.12006,     0.11981,     0.11956,     0.11931,     0.11906,     0.11882,     0.11857,\n",
       "            0.11832,     0.11807,     0.11782,     0.11757,     0.11732,     0.11707,     0.11683,     0.11658,     0.11633,     0.11608,     0.11583,     0.11558,     0.11533,     0.11508,     0.11484,     0.11459,     0.11434,     0.11409,     0.11384,     0.11358,     0.11329,     0.11299,     0.11269,\n",
       "            0.11239,      0.1121,      0.1118,      0.1115,      0.1112,     0.11091,     0.11061,     0.11031,     0.11001,     0.10972,     0.10942,     0.10912,     0.10883,     0.10853,     0.10823,     0.10793,     0.10764,     0.10734,     0.10704,     0.10674,     0.10645,     0.10615,     0.10133,\n",
       "            0.09805,    0.097298,    0.096547,    0.095795,    0.095043,    0.094291,    0.093539,    0.092787,    0.092036,    0.091284,    0.090676,    0.090211,    0.089746,    0.089281,    0.088816,    0.088351,    0.087886,    0.087422,    0.086957,    0.086492,    0.086027,    0.085562,    0.085097,\n",
       "           0.084632,    0.084167,    0.083702,    0.082931,    0.080979,    0.079027,    0.077075,    0.075414,    0.074358,    0.073301,    0.072244,    0.071188,    0.070131,    0.069074,    0.067863,    0.065813,    0.063763,    0.061713,    0.058335,    0.053396,    0.052668,    0.052276,    0.051885,\n",
       "           0.051493,    0.051101,     0.05071,    0.050318,    0.049927,    0.049535,    0.049143,    0.048752,     0.04836,    0.047969,    0.047577,    0.047186,    0.046794,    0.046402,    0.046011,    0.045619,    0.045282,    0.044984,    0.044685,    0.044387,    0.044089,    0.043791,    0.043493,\n",
       "           0.043195,    0.042896,    0.042598,      0.0423,    0.042002,    0.041704,    0.041406,    0.041107,    0.040809,    0.040511,    0.040213,    0.039915,    0.039616,    0.039318,     0.03902,    0.038722,    0.038424,    0.038126,    0.034268,    0.030119,    0.029893,    0.029667,     0.02944,\n",
       "           0.029214,    0.028987,    0.028761,    0.028534,    0.028308,    0.028082,    0.027855,    0.027629,    0.027402,    0.027176,    0.026949,    0.026723,    0.026497,     0.02627,    0.026044,    0.025817,    0.025591,    0.025364,    0.025138,    0.024912,    0.024685,    0.024459,    0.024232,\n",
       "           0.024006,    0.023779,    0.023553,    0.023327,      0.0231,    0.022874,    0.022727,    0.022727,    0.022727,    0.022727,    0.022727,    0.022727,    0.022727,    0.022727,    0.022727,    0.022727,    0.022727,    0.022727,    0.022727,    0.022727,    0.022727,    0.022727,    0.022727,\n",
       "           0.022727,    0.022727,    0.022727,    0.022727,    0.022727,    0.022727,    0.022727,    0.022727,    0.022727,    0.022727,    0.022727,    0.022727,    0.022727,    0.022727,    0.022727,    0.022727,    0.022727,    0.022727,    0.022727,    0.022727,    0.022727,    0.022727,    0.022533,\n",
       "           0.022317,    0.022101,    0.021886,     0.02167,    0.021454,    0.021239,    0.021023,    0.020807,    0.020591,    0.020376,     0.02016,    0.019944,    0.019728,    0.019513,    0.019297,    0.019081,    0.018866,     0.01865,    0.018434,    0.018218,    0.018003,    0.017787,    0.017571,\n",
       "           0.017356,     0.01714,    0.016924,    0.016708,    0.016493,    0.016277,    0.016061,    0.015846,     0.01563,    0.015414,    0.015198,    0.014707,    0.014138,     0.01357,    0.013002,    0.012434,    0.011866,    0.011297,    0.010729,    0.010161,   0.0095926,   0.0090244,   0.0084562,\n",
       "           0.007888,           0,           0,           0,           0,           0,           0,           0,           0,           0,           0,           0,           0,           0,           0,           0,           0,           0,           0,           0,           0,           0,           0,\n",
       "                  0,           0,           0,           0,           0,           0,           0,           0,           0,           0,           0]]), 'Confidence', 'Recall']]\n",
       "fitness: np.float64(0.1689376489720028)\n",
       "keys: ['metrics/precision(B)', 'metrics/recall(B)', 'metrics/mAP50(B)', 'metrics/mAP50-95(B)']\n",
       "maps: array([     0.1514])\n",
       "names: {0: 'traffic_light'}\n",
       "plot: True\n",
       "results_dict: {'metrics/precision(B)': np.float64(0.502355133172202), 'metrics/recall(B)': np.float64(0.3212149442369269), 'metrics/mAP50(B)': np.float64(0.32680607398857736), 'metrics/mAP50-95(B)': np.float64(0.15139671285905004), 'fitness': np.float64(0.1689376489720028)}\n",
       "save_dir: PosixPath('/home/erlo/Documents/Code/dl-projeto-final/runs/detect/traffic_light_detector15')\n",
       "speed: {'preprocess': 0.45681767500127535, 'inference': 21.313613874997372, 'loss': 8.519999710188131e-05, 'postprocess': 0.9039585749974322}\n",
       "task: 'detect'"
      ]
     },
     "execution_count": 15,
     "metadata": {},
     "output_type": "execute_result"
    }
   ],
   "source": [
    "# Load a pre-trained YOLOv8n (nano) model\n",
    "model = YOLO('yolov8n.pt')  # or yolov8s.pt for slightly bigger\n",
    "\n",
    "import yaml\n",
    "\n",
    "yaml_config = \"\"\"\n",
    "path: ./datasets/\n",
    "train: images/train\n",
    "val: images/val\n",
    "\n",
    "nc: 1  # número de classes\n",
    "names: ['traffic_light']  # nome das classes\n",
    "\"\"\"\n",
    "\n",
    "# Create a temporary YAML file\n",
    "with open('dataset.yaml', 'w') as f:\n",
    "    f.write(yaml_config)\n",
    "\n",
    "# Train the model on your dataset\n",
    "model.train(\n",
    "    # inline yaml\n",
    "    data='dataset.yaml',\n",
    "    epochs=50,\n",
    "    imgsz=320,\n",
    "    batch=16,\n",
    "    name='traffic_light_detector',\n",
    "    save=True\n",
    ")\n"
   ]
  },
  {
   "cell_type": "code",
   "execution_count": null,
   "id": "5e341bda",
   "metadata": {},
   "outputs": [
    {
     "name": "stdout",
     "output_type": "stream",
     "text": [
      "\n",
      "0: 320x320 2 traffic_lights, 93.0ms\n",
      "Speed: 0.0ms preprocess, 93.0ms inference, 1.7ms postprocess per image at shape (1, 3, 320, 320)\n"
     ]
    },
    {
     "data": {
      "text/plain": [
       "<Figure size 1000x1000 with 1 Axes>"
      ]
     },
     "metadata": {},
     "output_type": "display_data"
    }
   ],
   "source": [
    "import random\n",
    "import cv2\n",
    "import matplotlib.pyplot as plt\n",
    "import numpy as np\n",
    "import os\n",
    "import torch\n",
    "\n",
    "def load_random_image(image_dir):\n",
    "    \"\"\"Carrega uma imagem aleatória do diretório especificado\"\"\"\n",
    "    image_files = [f for f in os.listdir(image_dir) if f.endswith(('.jpg', '.jpeg', '.png'))]\n",
    "    random_image_name = random.choice(image_files)\n",
    "    image_path = os.path.join(image_dir, random_image_name)\n",
    "    return cv2.imread(image_path), random_image_name\n",
    "\n",
    "def display_image_with_boxes(image, boxes, confidences, classes):\n",
    "    \"\"\"Exibe a imagem com as caixas delimitadoras\"\"\"\n",
    "    image_display = image.copy()\n",
    "\n",
    "    # Converte de volta para uint8 se necessário\n",
    "    if image_display.dtype == np.float32:\n",
    "        image_display = (image_display * 255).astype(np.uint8)\n",
    "\n",
    "    for box, conf, cls in zip(boxes, confidences, classes):\n",
    "        x1, y1, x2, y2 = map(int, box)\n",
    "        cv2.rectangle(image_display, (x1, y1), (x2, y2), (0, 255, 0), 2)\n",
    "        label = f'Class: {int(cls)}, Conf: {conf:.2f}'\n",
    "        cv2.putText(image_display, label, (x1, y1-10),\n",
    "                    cv2.FONT_HERSHEY_SIMPLEX, 0.5, (0, 255, 0), 2)\n",
    "\n",
    "    plt.figure(figsize=(10, 10))\n",
    "    plt.imshow(cv2.cvtColor(image_display, cv2.COLOR_BGR2RGB))\n",
    "    plt.axis('off')\n",
    "    plt.show()\n",
    "\n",
    "# Carrega uma imagem aleatória do conjunto de treinamento\n",
    "image_orig, image_name = load_random_image('../datasets/images/train')\n",
    "image = cv2.resize(image_orig, (320, 320))  # Redimensiona para o tamanho de entrada do modelo\n",
    "\n",
    "# Prepara a imagem para inferência\n",
    "image_tensor = torch.from_numpy(image).float().permute(2, 0, 1).unsqueeze(0)\n",
    "image_tensor = image_tensor / 255.0  # Normaliza para [0, 1]\n",
    "\n",
    "# Executa a inferência\n",
    "with torch.no_grad():\n",
    "    results = model(image_tensor)\n",
    "\n",
    "# Extrai as caixas, confianças e classes\n",
    "boxes = results[0].boxes.xyxy.cpu().numpy()\n",
    "confidences = results[0].boxes.conf.cpu().numpy()\n",
    "classes = results[0].boxes.cls.cpu().numpy()\n",
    "\n",
    "# Exibe a imagem com as detecções\n",
    "display_image_with_boxes(image, boxes, confidences, classes)"
   ]
  }
 ],
 "metadata": {
  "kernelspec": {
   "display_name": ".venv",
   "language": "python",
   "name": "python3"
  },
  "language_info": {
   "codemirror_mode": {
    "name": "ipython",
    "version": 3
   },
   "file_extension": ".py",
   "mimetype": "text/x-python",
   "name": "python",
   "nbconvert_exporter": "python",
   "pygments_lexer": "ipython3",
   "version": "3.12.3"
  }
 },
 "nbformat": 4,
 "nbformat_minor": 5
}
