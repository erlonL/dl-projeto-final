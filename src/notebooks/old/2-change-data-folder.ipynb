{
 "cells": [
  {
   "cell_type": "code",
   "execution_count": 26,
   "id": "f5f12087",
   "metadata": {},
   "outputs": [
    {
     "name": "stderr",
     "output_type": "stream",
     "text": [
      "mv: cannot stat '../data/traffic light': No such file or directory\n"
     ]
    },
    {
     "data": {
      "text/plain": [
       "CompletedProcess(args=['mv', '../data/traffic light', '../data/traffic_light'], returncode=1)"
      ]
     },
     "execution_count": 26,
     "metadata": {},
     "output_type": "execute_result"
    }
   ],
   "source": [
    "import subprocess\n",
    "\n",
    "subprocess.run([\"mv\", \"../data/traffic light\", \"../data/traffic_light\"])"
   ]
  },
  {
   "cell_type": "code",
   "execution_count": 27,
   "id": "240a3097",
   "metadata": {},
   "outputs": [],
   "source": [
    "# Célula 1: Importações e Definições de Funções\n",
    "import os\n",
    "import shutil\n",
    "from sklearn.model_selection import train_test_split\n",
    "import random\n",
    "from pathlib import Path\n",
    "\n",
    "def create_directories(base_path):\n",
    "    \"\"\"Cria as pastas necessárias para treino e validação\"\"\"\n",
    "    dirs = ['images/train', 'images/val', 'labels/train', 'labels/val']\n",
    "    for dir_path in dirs:\n",
    "        os.makedirs(os.path.join(base_path, dir_path), exist_ok=True)\n",
    "\n",
    "def split_dataset(source_dir, output_dir, val_split=0.2, seed=42):\n",
    "    \"\"\"\n",
    "    Separa o dataset em treino e validação\n",
    "    \n",
    "    Args:\n",
    "        source_dir: Diretório com as imagens e labels originais\n",
    "        output_dir: Diretório onde serão criadas as pastas train/val\n",
    "        val_split: Proporção do dataset para validação (padrão: 0.2)\n",
    "        seed: Seed para reproducibilidade\n",
    "    \"\"\"\n",
    "    random.seed(seed)\n",
    "    \n",
    "    source_dir = Path(source_dir)\n",
    "    output_dir = Path(output_dir)\n",
    "    \n",
    "    create_directories(output_dir)\n",
    "    \n",
    "    # Lista todos os arquivos de imagem\n",
    "    image_files = [f for f in (source_dir / 'images').glob('*.jpg')]\n",
    "    \n",
    "    # Divide os arquivos em treino e validação\n",
    "    train_files, val_files = train_test_split(image_files, \n",
    "                                            test_size=val_split,\n",
    "                                            random_state=seed)\n",
    "    \n",
    "    def copy_files(files, split_type):\n",
    "        for f in files:\n",
    "            # Copia imagem\n",
    "            dst_img = output_dir / 'images' / split_type / f.name\n",
    "            shutil.copy2(f, dst_img)\n",
    "            \n",
    "            # Procura e copia label correspondente\n",
    "            label_name = f.stem + '.xml'\n",
    "            src_label = source_dir / 'pascal' / label_name\n",
    "            if src_label.exists():\n",
    "                dst_label = output_dir / 'labels' / split_type / label_name\n",
    "                shutil.copy2(src_label, dst_label)\n",
    "    \n",
    "    # Copia arquivos para as respectivas pastas\n",
    "    copy_files(train_files, 'train')\n",
    "    copy_files(val_files, 'val')\n",
    "    \n",
    "    print(f'Dataset dividido com sucesso!')\n",
    "    print(f'Treino: {len(train_files)} imagens')\n",
    "    print(f'Validação: {len(val_files)} imagens')"
   ]
  },
  {
   "cell_type": "code",
   "execution_count": 29,
   "id": "554f8dd8",
   "metadata": {},
   "outputs": [
    {
     "name": "stdout",
     "output_type": "stream",
     "text": [
      "Dataset dividido com sucesso!\n",
      "Treino: 160 imagens\n",
      "Validação: 40 imagens\n"
     ]
    }
   ],
   "source": [
    "# Célula 2: Execução da função\n",
    "source_directory = \"../data/traffic_light\"  # diretório com as imagens originais\n",
    "output_directory = \"../data\"               # diretório onde serão criadas as subpastas\n",
    "\n",
    "split_dataset(\n",
    "    source_dir=source_directory,\n",
    "    output_dir=output_directory,\n",
    "    val_split=0.2,\n",
    "    seed=42\n",
    ")"
   ]
  },
  {
   "cell_type": "code",
   "execution_count": 33,
   "id": "1cfbcc35",
   "metadata": {},
   "outputs": [
    {
     "name": "stdout",
     "output_type": "stream",
     "text": [
      "Split train:\n",
      "  Imagens: 0\n",
      "  Labels: 0\n",
      "  Matched: True\n",
      "\n",
      "Split val:\n",
      "  Imagens: 0\n",
      "  Labels: 0\n",
      "  Matched: True\n",
      "\n"
     ]
    }
   ],
   "source": [
    "# Célula 3: Verificação\n",
    "def verify_splits():\n",
    "    base_dir = Path(\"../dataset\")\n",
    "    \n",
    "    for split in ['train', 'val']:\n",
    "        images = list((base_dir / 'images' / split).glob('*.jpg'))\n",
    "        labels = list((base_dir / 'labels' / split).glob('*.txt'))\n",
    "        \n",
    "        print(f'Split {split}:')\n",
    "        print(f'  Imagens: {len(images)}')\n",
    "        print(f'  Labels: {len(labels)}')\n",
    "        print(f'  Matched: {len(images) == len(labels)}')\n",
    "        print()\n",
    "\n",
    "verify_splits()"
   ]
  },
  {
   "cell_type": "code",
   "execution_count": 31,
   "id": "2f2ed070",
   "metadata": {},
   "outputs": [
    {
     "data": {
      "text/plain": [
       "True"
      ]
     },
     "execution_count": 31,
     "metadata": {},
     "output_type": "execute_result"
    }
   ],
   "source": [
    "import os\n",
    "\n",
    "train_image_names = os.listdir('../data/images/train')\n",
    "train_image_names = [name.split('.')[0] for name in train_image_names]\n",
    "train_image_names = set(train_image_names)\n",
    "\n",
    "train_label_names = os.listdir('../data/labels/train')\n",
    "train_label_names = [name.split('.')[0] for name in train_label_names]\n",
    "train_label_names = set(train_label_names)\n",
    "\n",
    "train_image_names == train_label_names"
   ]
  },
  {
   "cell_type": "code",
   "execution_count": 34,
   "id": "a53e2b32",
   "metadata": {},
   "outputs": [
    {
     "data": {
      "text/plain": [
       "True"
      ]
     },
     "execution_count": 34,
     "metadata": {},
     "output_type": "execute_result"
    }
   ],
   "source": [
    "val_image_names = os.listdir('../data/images/val')\n",
    "val_image_names = [name.split('.')[0] for name in val_image_names]\n",
    "val_image_names = set(val_image_names)\n",
    "\n",
    "val_label_names = os.listdir('../data/labels/val')\n",
    "val_label_names = [name.split('.')[0] for name in val_label_names]\n",
    "val_label_names = set(val_label_names)\n",
    "\n",
    "val_image_names == val_label_names"
   ]
  }
 ],
 "metadata": {
  "kernelspec": {
   "display_name": ".venv",
   "language": "python",
   "name": "python3"
  },
  "language_info": {
   "codemirror_mode": {
    "name": "ipython",
    "version": 3
   },
   "file_extension": ".py",
   "mimetype": "text/x-python",
   "name": "python",
   "nbconvert_exporter": "python",
   "pygments_lexer": "ipython3",
   "version": "3.12.3"
  }
 },
 "nbformat": 4,
 "nbformat_minor": 5
}
