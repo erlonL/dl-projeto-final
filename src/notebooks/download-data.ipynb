{
 "cells": [
  {
   "cell_type": "code",
   "execution_count": 6,
   "id": "e770d409",
   "metadata": {},
   "outputs": [
    {
     "name": "stderr",
     "output_type": "stream",
     "text": [
      "2025-04-26  12:31:43 INFO Downloading 200 train images for class 'traffic light'\n",
      "100%|██████████| 200/200 [00:07<00:00, 26.34it/s]\n",
      "2025-04-26  12:31:51 INFO Creating 200 train annotations (pascal) for class 'traffic light'\n",
      "100%|██████████| 200/200 [00:00<00:00, 2499.63it/s]\n"
     ]
    },
    {
     "data": {
      "text/plain": [
       "{'traffic light': {'images_dir': './../data/openimages/traffic light/images',\n",
       "  'annotations_dir': './../data/openimages/traffic light/pascal'}}"
      ]
     },
     "execution_count": 6,
     "metadata": {},
     "output_type": "execute_result"
    }
   ],
   "source": [
    "from openimages.download import download_dataset\n",
    "download_dataset(\"./../data/openimages\", [\"Traffic light\"], 'exclusions.txt', limit=200, annotation_format='pascal')"
   ]
  }
 ],
 "metadata": {
  "kernelspec": {
   "display_name": ".venv",
   "language": "python",
   "name": "python3"
  },
  "language_info": {
   "codemirror_mode": {
    "name": "ipython",
    "version": 3
   },
   "file_extension": ".py",
   "mimetype": "text/x-python",
   "name": "python",
   "nbconvert_exporter": "python",
   "pygments_lexer": "ipython3",
   "version": "3.12.3"
  }
 },
 "nbformat": 4,
 "nbformat_minor": 5
}
